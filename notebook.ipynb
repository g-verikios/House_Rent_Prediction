{
 "cells": [
  {
   "cell_type": "markdown",
   "metadata": {},
   "source": [
    "# Lead scoring dataset EDA, Data cleaning, Model tuning & Model selection"
   ]
  },
  {
   "cell_type": "markdown",
   "metadata": {},
   "source": [
    "## 1. EDA and Data Cleaning"
   ]
  },
  {
   "cell_type": "code",
   "execution_count": 125,
   "metadata": {},
   "outputs": [],
   "source": [
    "# imports\n",
    "\n",
    "import pandas as pd\n",
    "import numpy as np\n",
    "\n",
    "import seaborn as sns\n",
    "from matplotlib import pyplot as plt\n",
    "%matplotlib inline"
   ]
  },
  {
   "cell_type": "code",
   "execution_count": 126,
   "metadata": {},
   "outputs": [
    {
     "data": {
      "text/html": [
       "<div>\n",
       "<style scoped>\n",
       "    .dataframe tbody tr th:only-of-type {\n",
       "        vertical-align: middle;\n",
       "    }\n",
       "\n",
       "    .dataframe tbody tr th {\n",
       "        vertical-align: top;\n",
       "    }\n",
       "\n",
       "    .dataframe thead th {\n",
       "        text-align: right;\n",
       "    }\n",
       "</style>\n",
       "<table border=\"1\" class=\"dataframe\">\n",
       "  <thead>\n",
       "    <tr style=\"text-align: right;\">\n",
       "      <th></th>\n",
       "      <th>Posted On</th>\n",
       "      <th>BHK</th>\n",
       "      <th>Rent</th>\n",
       "      <th>Size</th>\n",
       "      <th>Floor</th>\n",
       "      <th>Area Type</th>\n",
       "      <th>Area Locality</th>\n",
       "      <th>City</th>\n",
       "      <th>Furnishing Status</th>\n",
       "      <th>Tenant Preferred</th>\n",
       "      <th>Bathroom</th>\n",
       "      <th>Point of Contact</th>\n",
       "    </tr>\n",
       "  </thead>\n",
       "  <tbody>\n",
       "    <tr>\n",
       "      <th>0</th>\n",
       "      <td>2022-05-18</td>\n",
       "      <td>2</td>\n",
       "      <td>10000</td>\n",
       "      <td>1100</td>\n",
       "      <td>Ground out of 2</td>\n",
       "      <td>Super Area</td>\n",
       "      <td>Bandel</td>\n",
       "      <td>Kolkata</td>\n",
       "      <td>Unfurnished</td>\n",
       "      <td>Bachelors/Family</td>\n",
       "      <td>2</td>\n",
       "      <td>Contact Owner</td>\n",
       "    </tr>\n",
       "    <tr>\n",
       "      <th>1</th>\n",
       "      <td>2022-05-13</td>\n",
       "      <td>2</td>\n",
       "      <td>20000</td>\n",
       "      <td>800</td>\n",
       "      <td>1 out of 3</td>\n",
       "      <td>Super Area</td>\n",
       "      <td>Phool Bagan, Kankurgachi</td>\n",
       "      <td>Kolkata</td>\n",
       "      <td>Semi-Furnished</td>\n",
       "      <td>Bachelors/Family</td>\n",
       "      <td>1</td>\n",
       "      <td>Contact Owner</td>\n",
       "    </tr>\n",
       "    <tr>\n",
       "      <th>2</th>\n",
       "      <td>2022-05-16</td>\n",
       "      <td>2</td>\n",
       "      <td>17000</td>\n",
       "      <td>1000</td>\n",
       "      <td>1 out of 3</td>\n",
       "      <td>Super Area</td>\n",
       "      <td>Salt Lake City Sector 2</td>\n",
       "      <td>Kolkata</td>\n",
       "      <td>Semi-Furnished</td>\n",
       "      <td>Bachelors/Family</td>\n",
       "      <td>1</td>\n",
       "      <td>Contact Owner</td>\n",
       "    </tr>\n",
       "    <tr>\n",
       "      <th>3</th>\n",
       "      <td>2022-07-04</td>\n",
       "      <td>2</td>\n",
       "      <td>10000</td>\n",
       "      <td>800</td>\n",
       "      <td>1 out of 2</td>\n",
       "      <td>Super Area</td>\n",
       "      <td>Dumdum Park</td>\n",
       "      <td>Kolkata</td>\n",
       "      <td>Unfurnished</td>\n",
       "      <td>Bachelors/Family</td>\n",
       "      <td>1</td>\n",
       "      <td>Contact Owner</td>\n",
       "    </tr>\n",
       "    <tr>\n",
       "      <th>4</th>\n",
       "      <td>2022-05-09</td>\n",
       "      <td>2</td>\n",
       "      <td>7500</td>\n",
       "      <td>850</td>\n",
       "      <td>1 out of 2</td>\n",
       "      <td>Carpet Area</td>\n",
       "      <td>South Dum Dum</td>\n",
       "      <td>Kolkata</td>\n",
       "      <td>Unfurnished</td>\n",
       "      <td>Bachelors</td>\n",
       "      <td>1</td>\n",
       "      <td>Contact Owner</td>\n",
       "    </tr>\n",
       "  </tbody>\n",
       "</table>\n",
       "</div>"
      ],
      "text/plain": [
       "    Posted On  BHK   Rent  Size            Floor    Area Type  \\\n",
       "0  2022-05-18    2  10000  1100  Ground out of 2   Super Area   \n",
       "1  2022-05-13    2  20000   800       1 out of 3   Super Area   \n",
       "2  2022-05-16    2  17000  1000       1 out of 3   Super Area   \n",
       "3  2022-07-04    2  10000   800       1 out of 2   Super Area   \n",
       "4  2022-05-09    2   7500   850       1 out of 2  Carpet Area   \n",
       "\n",
       "              Area Locality     City Furnishing Status  Tenant Preferred  \\\n",
       "0                    Bandel  Kolkata       Unfurnished  Bachelors/Family   \n",
       "1  Phool Bagan, Kankurgachi  Kolkata    Semi-Furnished  Bachelors/Family   \n",
       "2   Salt Lake City Sector 2  Kolkata    Semi-Furnished  Bachelors/Family   \n",
       "3               Dumdum Park  Kolkata       Unfurnished  Bachelors/Family   \n",
       "4             South Dum Dum  Kolkata       Unfurnished         Bachelors   \n",
       "\n",
       "   Bathroom Point of Contact  \n",
       "0         2    Contact Owner  \n",
       "1         1    Contact Owner  \n",
       "2         1    Contact Owner  \n",
       "3         1    Contact Owner  \n",
       "4         1    Contact Owner  "
      ]
     },
     "execution_count": 126,
     "metadata": {},
     "output_type": "execute_result"
    }
   ],
   "source": [
    "# read the data\n",
    "data = pd.read_csv('House_Rent_Dataset.csv')\n",
    "data.head()"
   ]
  },
  {
   "cell_type": "code",
   "execution_count": 127,
   "metadata": {},
   "outputs": [
    {
     "data": {
      "text/plain": [
       "(4746, 12)"
      ]
     },
     "execution_count": 127,
     "metadata": {},
     "output_type": "execute_result"
    }
   ],
   "source": [
    "# number of records and features\n",
    "data.shape"
   ]
  },
  {
   "cell_type": "code",
   "execution_count": 128,
   "metadata": {},
   "outputs": [
    {
     "data": {
      "text/html": [
       "<div>\n",
       "<style scoped>\n",
       "    .dataframe tbody tr th:only-of-type {\n",
       "        vertical-align: middle;\n",
       "    }\n",
       "\n",
       "    .dataframe tbody tr th {\n",
       "        vertical-align: top;\n",
       "    }\n",
       "\n",
       "    .dataframe thead th {\n",
       "        text-align: right;\n",
       "    }\n",
       "</style>\n",
       "<table border=\"1\" class=\"dataframe\">\n",
       "  <thead>\n",
       "    <tr style=\"text-align: right;\">\n",
       "      <th></th>\n",
       "      <th>posted_on</th>\n",
       "      <th>bhk</th>\n",
       "      <th>rent</th>\n",
       "      <th>size</th>\n",
       "      <th>floor</th>\n",
       "      <th>area_type</th>\n",
       "      <th>area_locality</th>\n",
       "      <th>city</th>\n",
       "      <th>furnishing_status</th>\n",
       "      <th>tenant_preferred</th>\n",
       "      <th>bathroom</th>\n",
       "      <th>point_of_contact</th>\n",
       "    </tr>\n",
       "  </thead>\n",
       "  <tbody>\n",
       "    <tr>\n",
       "      <th>0</th>\n",
       "      <td>2022-05-18</td>\n",
       "      <td>2</td>\n",
       "      <td>10000</td>\n",
       "      <td>1100</td>\n",
       "      <td>Ground out of 2</td>\n",
       "      <td>Super Area</td>\n",
       "      <td>Bandel</td>\n",
       "      <td>Kolkata</td>\n",
       "      <td>Unfurnished</td>\n",
       "      <td>Bachelors/Family</td>\n",
       "      <td>2</td>\n",
       "      <td>Contact Owner</td>\n",
       "    </tr>\n",
       "    <tr>\n",
       "      <th>1</th>\n",
       "      <td>2022-05-13</td>\n",
       "      <td>2</td>\n",
       "      <td>20000</td>\n",
       "      <td>800</td>\n",
       "      <td>1 out of 3</td>\n",
       "      <td>Super Area</td>\n",
       "      <td>Phool Bagan, Kankurgachi</td>\n",
       "      <td>Kolkata</td>\n",
       "      <td>Semi-Furnished</td>\n",
       "      <td>Bachelors/Family</td>\n",
       "      <td>1</td>\n",
       "      <td>Contact Owner</td>\n",
       "    </tr>\n",
       "  </tbody>\n",
       "</table>\n",
       "</div>"
      ],
      "text/plain": [
       "    posted_on  bhk   rent  size            floor   area_type  \\\n",
       "0  2022-05-18    2  10000  1100  Ground out of 2  Super Area   \n",
       "1  2022-05-13    2  20000   800       1 out of 3  Super Area   \n",
       "\n",
       "              area_locality     city furnishing_status  tenant_preferred  \\\n",
       "0                    Bandel  Kolkata       Unfurnished  Bachelors/Family   \n",
       "1  Phool Bagan, Kankurgachi  Kolkata    Semi-Furnished  Bachelors/Family   \n",
       "\n",
       "   bathroom point_of_contact  \n",
       "0         2    Contact Owner  \n",
       "1         1    Contact Owner  "
      ]
     },
     "execution_count": 128,
     "metadata": {},
     "output_type": "execute_result"
    }
   ],
   "source": [
    "# Lets make column names a bit more consistent replacing spaces with _ and using lowercase\n",
    "data.columns = data.columns.str.lower().str.replace(' ', '_')\n",
    "data.head(2)"
   ]
  },
  {
   "cell_type": "code",
   "execution_count": 129,
   "metadata": {},
   "outputs": [
    {
     "data": {
      "text/html": [
       "<div>\n",
       "<style scoped>\n",
       "    .dataframe tbody tr th:only-of-type {\n",
       "        vertical-align: middle;\n",
       "    }\n",
       "\n",
       "    .dataframe tbody tr th {\n",
       "        vertical-align: top;\n",
       "    }\n",
       "\n",
       "    .dataframe thead th {\n",
       "        text-align: right;\n",
       "    }\n",
       "</style>\n",
       "<table border=\"1\" class=\"dataframe\">\n",
       "  <thead>\n",
       "    <tr style=\"text-align: right;\">\n",
       "      <th></th>\n",
       "      <th>0</th>\n",
       "      <th>1</th>\n",
       "      <th>2</th>\n",
       "      <th>3</th>\n",
       "      <th>4</th>\n",
       "      <th>5</th>\n",
       "      <th>6</th>\n",
       "      <th>7</th>\n",
       "      <th>8</th>\n",
       "      <th>9</th>\n",
       "      <th>...</th>\n",
       "      <th>4736</th>\n",
       "      <th>4737</th>\n",
       "      <th>4738</th>\n",
       "      <th>4739</th>\n",
       "      <th>4740</th>\n",
       "      <th>4741</th>\n",
       "      <th>4742</th>\n",
       "      <th>4743</th>\n",
       "      <th>4744</th>\n",
       "      <th>4745</th>\n",
       "    </tr>\n",
       "  </thead>\n",
       "  <tbody>\n",
       "    <tr>\n",
       "      <th>posted_on</th>\n",
       "      <td>2022-05-18</td>\n",
       "      <td>2022-05-13</td>\n",
       "      <td>2022-05-16</td>\n",
       "      <td>2022-07-04</td>\n",
       "      <td>2022-05-09</td>\n",
       "      <td>2022-04-29</td>\n",
       "      <td>2022-06-21</td>\n",
       "      <td>2022-06-21</td>\n",
       "      <td>2022-06-07</td>\n",
       "      <td>2022-06-20</td>\n",
       "      <td>...</td>\n",
       "      <td>2022-06-28</td>\n",
       "      <td>2022-07-07</td>\n",
       "      <td>2022-07-06</td>\n",
       "      <td>2022-07-06</td>\n",
       "      <td>2022-06-02</td>\n",
       "      <td>2022-05-18</td>\n",
       "      <td>2022-05-15</td>\n",
       "      <td>2022-07-10</td>\n",
       "      <td>2022-07-06</td>\n",
       "      <td>2022-05-04</td>\n",
       "    </tr>\n",
       "    <tr>\n",
       "      <th>bhk</th>\n",
       "      <td>2</td>\n",
       "      <td>2</td>\n",
       "      <td>2</td>\n",
       "      <td>2</td>\n",
       "      <td>2</td>\n",
       "      <td>2</td>\n",
       "      <td>2</td>\n",
       "      <td>1</td>\n",
       "      <td>2</td>\n",
       "      <td>2</td>\n",
       "      <td>...</td>\n",
       "      <td>3</td>\n",
       "      <td>3</td>\n",
       "      <td>2</td>\n",
       "      <td>2</td>\n",
       "      <td>2</td>\n",
       "      <td>2</td>\n",
       "      <td>3</td>\n",
       "      <td>3</td>\n",
       "      <td>3</td>\n",
       "      <td>2</td>\n",
       "    </tr>\n",
       "    <tr>\n",
       "      <th>rent</th>\n",
       "      <td>10000</td>\n",
       "      <td>20000</td>\n",
       "      <td>17000</td>\n",
       "      <td>10000</td>\n",
       "      <td>7500</td>\n",
       "      <td>7000</td>\n",
       "      <td>10000</td>\n",
       "      <td>5000</td>\n",
       "      <td>26000</td>\n",
       "      <td>10000</td>\n",
       "      <td>...</td>\n",
       "      <td>15000</td>\n",
       "      <td>15000</td>\n",
       "      <td>17000</td>\n",
       "      <td>25000</td>\n",
       "      <td>12000</td>\n",
       "      <td>15000</td>\n",
       "      <td>29000</td>\n",
       "      <td>35000</td>\n",
       "      <td>45000</td>\n",
       "      <td>15000</td>\n",
       "    </tr>\n",
       "    <tr>\n",
       "      <th>size</th>\n",
       "      <td>1100</td>\n",
       "      <td>800</td>\n",
       "      <td>1000</td>\n",
       "      <td>800</td>\n",
       "      <td>850</td>\n",
       "      <td>600</td>\n",
       "      <td>700</td>\n",
       "      <td>250</td>\n",
       "      <td>800</td>\n",
       "      <td>1000</td>\n",
       "      <td>...</td>\n",
       "      <td>1500</td>\n",
       "      <td>1500</td>\n",
       "      <td>855</td>\n",
       "      <td>1040</td>\n",
       "      <td>1350</td>\n",
       "      <td>1000</td>\n",
       "      <td>2000</td>\n",
       "      <td>1750</td>\n",
       "      <td>1500</td>\n",
       "      <td>1000</td>\n",
       "    </tr>\n",
       "    <tr>\n",
       "      <th>floor</th>\n",
       "      <td>Ground out of 2</td>\n",
       "      <td>1 out of 3</td>\n",
       "      <td>1 out of 3</td>\n",
       "      <td>1 out of 2</td>\n",
       "      <td>1 out of 2</td>\n",
       "      <td>Ground out of 1</td>\n",
       "      <td>Ground out of 4</td>\n",
       "      <td>1 out of 2</td>\n",
       "      <td>1 out of 2</td>\n",
       "      <td>1 out of 3</td>\n",
       "      <td>...</td>\n",
       "      <td>Lower Basement out of 2</td>\n",
       "      <td>Lower Basement out of 2</td>\n",
       "      <td>4 out of 5</td>\n",
       "      <td>2 out of 4</td>\n",
       "      <td>2 out of 2</td>\n",
       "      <td>3 out of 5</td>\n",
       "      <td>1 out of 4</td>\n",
       "      <td>3 out of 5</td>\n",
       "      <td>23 out of 34</td>\n",
       "      <td>4 out of 5</td>\n",
       "    </tr>\n",
       "    <tr>\n",
       "      <th>area_type</th>\n",
       "      <td>Super Area</td>\n",
       "      <td>Super Area</td>\n",
       "      <td>Super Area</td>\n",
       "      <td>Super Area</td>\n",
       "      <td>Carpet Area</td>\n",
       "      <td>Super Area</td>\n",
       "      <td>Super Area</td>\n",
       "      <td>Super Area</td>\n",
       "      <td>Carpet Area</td>\n",
       "      <td>Carpet Area</td>\n",
       "      <td>...</td>\n",
       "      <td>Super Area</td>\n",
       "      <td>Super Area</td>\n",
       "      <td>Carpet Area</td>\n",
       "      <td>Carpet Area</td>\n",
       "      <td>Super Area</td>\n",
       "      <td>Carpet Area</td>\n",
       "      <td>Super Area</td>\n",
       "      <td>Carpet Area</td>\n",
       "      <td>Carpet Area</td>\n",
       "      <td>Carpet Area</td>\n",
       "    </tr>\n",
       "    <tr>\n",
       "      <th>area_locality</th>\n",
       "      <td>Bandel</td>\n",
       "      <td>Phool Bagan, Kankurgachi</td>\n",
       "      <td>Salt Lake City Sector 2</td>\n",
       "      <td>Dumdum Park</td>\n",
       "      <td>South Dum Dum</td>\n",
       "      <td>Thakurpukur</td>\n",
       "      <td>Malancha</td>\n",
       "      <td>Malancha</td>\n",
       "      <td>Palm Avenue Kolkata, Ballygunge</td>\n",
       "      <td>Natunhat</td>\n",
       "      <td>...</td>\n",
       "      <td>Almasguda</td>\n",
       "      <td>Almasguda</td>\n",
       "      <td>Godavari Homes, Quthbullapur</td>\n",
       "      <td>Gachibowli</td>\n",
       "      <td>Old Alwal</td>\n",
       "      <td>Bandam Kommu</td>\n",
       "      <td>Manikonda, Hyderabad</td>\n",
       "      <td>Himayath Nagar, NH 7</td>\n",
       "      <td>Gachibowli</td>\n",
       "      <td>Suchitra Circle</td>\n",
       "    </tr>\n",
       "    <tr>\n",
       "      <th>city</th>\n",
       "      <td>Kolkata</td>\n",
       "      <td>Kolkata</td>\n",
       "      <td>Kolkata</td>\n",
       "      <td>Kolkata</td>\n",
       "      <td>Kolkata</td>\n",
       "      <td>Kolkata</td>\n",
       "      <td>Kolkata</td>\n",
       "      <td>Kolkata</td>\n",
       "      <td>Kolkata</td>\n",
       "      <td>Kolkata</td>\n",
       "      <td>...</td>\n",
       "      <td>Hyderabad</td>\n",
       "      <td>Hyderabad</td>\n",
       "      <td>Hyderabad</td>\n",
       "      <td>Hyderabad</td>\n",
       "      <td>Hyderabad</td>\n",
       "      <td>Hyderabad</td>\n",
       "      <td>Hyderabad</td>\n",
       "      <td>Hyderabad</td>\n",
       "      <td>Hyderabad</td>\n",
       "      <td>Hyderabad</td>\n",
       "    </tr>\n",
       "    <tr>\n",
       "      <th>furnishing_status</th>\n",
       "      <td>Unfurnished</td>\n",
       "      <td>Semi-Furnished</td>\n",
       "      <td>Semi-Furnished</td>\n",
       "      <td>Unfurnished</td>\n",
       "      <td>Unfurnished</td>\n",
       "      <td>Unfurnished</td>\n",
       "      <td>Unfurnished</td>\n",
       "      <td>Unfurnished</td>\n",
       "      <td>Unfurnished</td>\n",
       "      <td>Semi-Furnished</td>\n",
       "      <td>...</td>\n",
       "      <td>Semi-Furnished</td>\n",
       "      <td>Semi-Furnished</td>\n",
       "      <td>Unfurnished</td>\n",
       "      <td>Unfurnished</td>\n",
       "      <td>Unfurnished</td>\n",
       "      <td>Semi-Furnished</td>\n",
       "      <td>Semi-Furnished</td>\n",
       "      <td>Semi-Furnished</td>\n",
       "      <td>Semi-Furnished</td>\n",
       "      <td>Unfurnished</td>\n",
       "    </tr>\n",
       "    <tr>\n",
       "      <th>tenant_preferred</th>\n",
       "      <td>Bachelors/Family</td>\n",
       "      <td>Bachelors/Family</td>\n",
       "      <td>Bachelors/Family</td>\n",
       "      <td>Bachelors/Family</td>\n",
       "      <td>Bachelors</td>\n",
       "      <td>Bachelors/Family</td>\n",
       "      <td>Bachelors</td>\n",
       "      <td>Bachelors</td>\n",
       "      <td>Bachelors</td>\n",
       "      <td>Bachelors/Family</td>\n",
       "      <td>...</td>\n",
       "      <td>Family</td>\n",
       "      <td>Bachelors/Family</td>\n",
       "      <td>Bachelors</td>\n",
       "      <td>Bachelors</td>\n",
       "      <td>Bachelors/Family</td>\n",
       "      <td>Bachelors/Family</td>\n",
       "      <td>Bachelors/Family</td>\n",
       "      <td>Bachelors/Family</td>\n",
       "      <td>Family</td>\n",
       "      <td>Bachelors</td>\n",
       "    </tr>\n",
       "    <tr>\n",
       "      <th>bathroom</th>\n",
       "      <td>2</td>\n",
       "      <td>1</td>\n",
       "      <td>1</td>\n",
       "      <td>1</td>\n",
       "      <td>1</td>\n",
       "      <td>2</td>\n",
       "      <td>2</td>\n",
       "      <td>1</td>\n",
       "      <td>2</td>\n",
       "      <td>2</td>\n",
       "      <td>...</td>\n",
       "      <td>3</td>\n",
       "      <td>3</td>\n",
       "      <td>2</td>\n",
       "      <td>2</td>\n",
       "      <td>2</td>\n",
       "      <td>2</td>\n",
       "      <td>3</td>\n",
       "      <td>3</td>\n",
       "      <td>2</td>\n",
       "      <td>2</td>\n",
       "    </tr>\n",
       "    <tr>\n",
       "      <th>point_of_contact</th>\n",
       "      <td>Contact Owner</td>\n",
       "      <td>Contact Owner</td>\n",
       "      <td>Contact Owner</td>\n",
       "      <td>Contact Owner</td>\n",
       "      <td>Contact Owner</td>\n",
       "      <td>Contact Owner</td>\n",
       "      <td>Contact Agent</td>\n",
       "      <td>Contact Agent</td>\n",
       "      <td>Contact Agent</td>\n",
       "      <td>Contact Owner</td>\n",
       "      <td>...</td>\n",
       "      <td>Contact Owner</td>\n",
       "      <td>Contact Owner</td>\n",
       "      <td>Contact Agent</td>\n",
       "      <td>Contact Owner</td>\n",
       "      <td>Contact Owner</td>\n",
       "      <td>Contact Owner</td>\n",
       "      <td>Contact Owner</td>\n",
       "      <td>Contact Agent</td>\n",
       "      <td>Contact Agent</td>\n",
       "      <td>Contact Owner</td>\n",
       "    </tr>\n",
       "  </tbody>\n",
       "</table>\n",
       "<p>12 rows × 4746 columns</p>\n",
       "</div>"
      ],
      "text/plain": [
       "                               0                         1     \\\n",
       "posted_on                2022-05-18                2022-05-13   \n",
       "bhk                               2                         2   \n",
       "rent                          10000                     20000   \n",
       "size                           1100                       800   \n",
       "floor               Ground out of 2                1 out of 3   \n",
       "area_type                Super Area                Super Area   \n",
       "area_locality                Bandel  Phool Bagan, Kankurgachi   \n",
       "city                        Kolkata                   Kolkata   \n",
       "furnishing_status       Unfurnished            Semi-Furnished   \n",
       "tenant_preferred   Bachelors/Family          Bachelors/Family   \n",
       "bathroom                          2                         1   \n",
       "point_of_contact      Contact Owner             Contact Owner   \n",
       "\n",
       "                                      2                 3              4     \\\n",
       "posted_on                       2022-05-16        2022-07-04     2022-05-09   \n",
       "bhk                                      2                 2              2   \n",
       "rent                                 17000             10000           7500   \n",
       "size                                  1000               800            850   \n",
       "floor                           1 out of 3        1 out of 2     1 out of 2   \n",
       "area_type                       Super Area        Super Area    Carpet Area   \n",
       "area_locality      Salt Lake City Sector 2       Dumdum Park  South Dum Dum   \n",
       "city                               Kolkata           Kolkata        Kolkata   \n",
       "furnishing_status           Semi-Furnished       Unfurnished    Unfurnished   \n",
       "tenant_preferred          Bachelors/Family  Bachelors/Family      Bachelors   \n",
       "bathroom                                 1                 1              1   \n",
       "point_of_contact             Contact Owner     Contact Owner  Contact Owner   \n",
       "\n",
       "                               5                6              7     \\\n",
       "posted_on                2022-04-29       2022-06-21     2022-06-21   \n",
       "bhk                               2                2              1   \n",
       "rent                           7000            10000           5000   \n",
       "size                            600              700            250   \n",
       "floor               Ground out of 1  Ground out of 4     1 out of 2   \n",
       "area_type                Super Area       Super Area     Super Area   \n",
       "area_locality           Thakurpukur         Malancha       Malancha   \n",
       "city                        Kolkata          Kolkata        Kolkata   \n",
       "furnishing_status       Unfurnished      Unfurnished    Unfurnished   \n",
       "tenant_preferred   Bachelors/Family        Bachelors      Bachelors   \n",
       "bathroom                          2                2              1   \n",
       "point_of_contact      Contact Owner    Contact Agent  Contact Agent   \n",
       "\n",
       "                                              8                 9     ...  \\\n",
       "posted_on                               2022-06-07        2022-06-20  ...   \n",
       "bhk                                              2                 2  ...   \n",
       "rent                                         26000             10000  ...   \n",
       "size                                           800              1000  ...   \n",
       "floor                                   1 out of 2        1 out of 3  ...   \n",
       "area_type                              Carpet Area       Carpet Area  ...   \n",
       "area_locality      Palm Avenue Kolkata, Ballygunge          Natunhat  ...   \n",
       "city                                       Kolkata           Kolkata  ...   \n",
       "furnishing_status                      Unfurnished    Semi-Furnished  ...   \n",
       "tenant_preferred                         Bachelors  Bachelors/Family  ...   \n",
       "bathroom                                         2                 2  ...   \n",
       "point_of_contact                     Contact Agent     Contact Owner  ...   \n",
       "\n",
       "                                      4736                     4737  \\\n",
       "posted_on                       2022-06-28               2022-07-07   \n",
       "bhk                                      3                        3   \n",
       "rent                                 15000                    15000   \n",
       "size                                  1500                     1500   \n",
       "floor              Lower Basement out of 2  Lower Basement out of 2   \n",
       "area_type                       Super Area               Super Area   \n",
       "area_locality                    Almasguda                Almasguda   \n",
       "city                             Hyderabad                Hyderabad   \n",
       "furnishing_status           Semi-Furnished           Semi-Furnished   \n",
       "tenant_preferred                    Family         Bachelors/Family   \n",
       "bathroom                                 3                        3   \n",
       "point_of_contact             Contact Owner            Contact Owner   \n",
       "\n",
       "                                           4738           4739  \\\n",
       "posted_on                            2022-07-06     2022-07-06   \n",
       "bhk                                           2              2   \n",
       "rent                                      17000          25000   \n",
       "size                                        855           1040   \n",
       "floor                                4 out of 5     2 out of 4   \n",
       "area_type                           Carpet Area    Carpet Area   \n",
       "area_locality      Godavari Homes, Quthbullapur     Gachibowli   \n",
       "city                                  Hyderabad      Hyderabad   \n",
       "furnishing_status                   Unfurnished    Unfurnished   \n",
       "tenant_preferred                      Bachelors      Bachelors   \n",
       "bathroom                                      2              2   \n",
       "point_of_contact                  Contact Agent  Contact Owner   \n",
       "\n",
       "                               4740              4741                  4742  \\\n",
       "posted_on                2022-06-02        2022-05-18            2022-05-15   \n",
       "bhk                               2                 2                     3   \n",
       "rent                          12000             15000                 29000   \n",
       "size                           1350              1000                  2000   \n",
       "floor                    2 out of 2        3 out of 5            1 out of 4   \n",
       "area_type                Super Area       Carpet Area            Super Area   \n",
       "area_locality             Old Alwal      Bandam Kommu  Manikonda, Hyderabad   \n",
       "city                      Hyderabad         Hyderabad             Hyderabad   \n",
       "furnishing_status       Unfurnished    Semi-Furnished        Semi-Furnished   \n",
       "tenant_preferred   Bachelors/Family  Bachelors/Family      Bachelors/Family   \n",
       "bathroom                          2                 2                     3   \n",
       "point_of_contact      Contact Owner     Contact Owner         Contact Owner   \n",
       "\n",
       "                                   4743            4744             4745  \n",
       "posted_on                    2022-07-10      2022-07-06       2022-05-04  \n",
       "bhk                                   3               3                2  \n",
       "rent                              35000           45000            15000  \n",
       "size                               1750            1500             1000  \n",
       "floor                        3 out of 5    23 out of 34       4 out of 5  \n",
       "area_type                   Carpet Area     Carpet Area      Carpet Area  \n",
       "area_locality      Himayath Nagar, NH 7      Gachibowli  Suchitra Circle  \n",
       "city                          Hyderabad       Hyderabad        Hyderabad  \n",
       "furnishing_status        Semi-Furnished  Semi-Furnished      Unfurnished  \n",
       "tenant_preferred       Bachelors/Family          Family        Bachelors  \n",
       "bathroom                              3               2                2  \n",
       "point_of_contact          Contact Agent   Contact Agent    Contact Owner  \n",
       "\n",
       "[12 rows x 4746 columns]"
      ]
     },
     "execution_count": 129,
     "metadata": {},
     "output_type": "execute_result"
    }
   ],
   "source": [
    "# Lets transpose to see the columns better\n",
    "data.transpose()"
   ]
  },
  {
   "cell_type": "markdown",
   "metadata": {},
   "source": [
    "We notice most features are categorical which means that we will need one hot-encoding and perhaps mapping for the area types, note that there is also a column with the date the ad was posted which we need to think if we will use depending on its impact"
   ]
  },
  {
   "cell_type": "code",
   "execution_count": 130,
   "metadata": {},
   "outputs": [
    {
     "data": {
      "text/html": [
       "<div>\n",
       "<style scoped>\n",
       "    .dataframe tbody tr th:only-of-type {\n",
       "        vertical-align: middle;\n",
       "    }\n",
       "\n",
       "    .dataframe tbody tr th {\n",
       "        vertical-align: top;\n",
       "    }\n",
       "\n",
       "    .dataframe thead th {\n",
       "        text-align: right;\n",
       "    }\n",
       "</style>\n",
       "<table border=\"1\" class=\"dataframe\">\n",
       "  <thead>\n",
       "    <tr style=\"text-align: right;\">\n",
       "      <th></th>\n",
       "      <th>bhk</th>\n",
       "      <th>rent</th>\n",
       "      <th>size</th>\n",
       "      <th>bathroom</th>\n",
       "    </tr>\n",
       "  </thead>\n",
       "  <tbody>\n",
       "    <tr>\n",
       "      <th>count</th>\n",
       "      <td>4746.0</td>\n",
       "      <td>4746.0</td>\n",
       "      <td>4746.0</td>\n",
       "      <td>4746.0</td>\n",
       "    </tr>\n",
       "    <tr>\n",
       "      <th>mean</th>\n",
       "      <td>2.0</td>\n",
       "      <td>34993.0</td>\n",
       "      <td>967.0</td>\n",
       "      <td>2.0</td>\n",
       "    </tr>\n",
       "    <tr>\n",
       "      <th>std</th>\n",
       "      <td>1.0</td>\n",
       "      <td>78106.0</td>\n",
       "      <td>634.0</td>\n",
       "      <td>1.0</td>\n",
       "    </tr>\n",
       "    <tr>\n",
       "      <th>min</th>\n",
       "      <td>1.0</td>\n",
       "      <td>1200.0</td>\n",
       "      <td>10.0</td>\n",
       "      <td>1.0</td>\n",
       "    </tr>\n",
       "    <tr>\n",
       "      <th>25%</th>\n",
       "      <td>2.0</td>\n",
       "      <td>10000.0</td>\n",
       "      <td>550.0</td>\n",
       "      <td>1.0</td>\n",
       "    </tr>\n",
       "    <tr>\n",
       "      <th>50%</th>\n",
       "      <td>2.0</td>\n",
       "      <td>16000.0</td>\n",
       "      <td>850.0</td>\n",
       "      <td>2.0</td>\n",
       "    </tr>\n",
       "    <tr>\n",
       "      <th>75%</th>\n",
       "      <td>3.0</td>\n",
       "      <td>33000.0</td>\n",
       "      <td>1200.0</td>\n",
       "      <td>2.0</td>\n",
       "    </tr>\n",
       "    <tr>\n",
       "      <th>max</th>\n",
       "      <td>6.0</td>\n",
       "      <td>3500000.0</td>\n",
       "      <td>8000.0</td>\n",
       "      <td>10.0</td>\n",
       "    </tr>\n",
       "  </tbody>\n",
       "</table>\n",
       "</div>"
      ],
      "text/plain": [
       "          bhk       rent    size  bathroom\n",
       "count  4746.0     4746.0  4746.0    4746.0\n",
       "mean      2.0    34993.0   967.0       2.0\n",
       "std       1.0    78106.0   634.0       1.0\n",
       "min       1.0     1200.0    10.0       1.0\n",
       "25%       2.0    10000.0   550.0       1.0\n",
       "50%       2.0    16000.0   850.0       2.0\n",
       "75%       3.0    33000.0  1200.0       2.0\n",
       "max       6.0  3500000.0  8000.0      10.0"
      ]
     },
     "execution_count": 130,
     "metadata": {},
     "output_type": "execute_result"
    }
   ],
   "source": [
    "# some statistics for numerical values\n",
    "data.describe().round()"
   ]
  },
  {
   "cell_type": "markdown",
   "metadata": {},
   "source": [
    "Lets see a boxplot of the rent price"
   ]
  },
  {
   "cell_type": "code",
   "execution_count": 131,
   "metadata": {},
   "outputs": [
    {
     "data": {
      "text/plain": [
       "posted_on            0\n",
       "bhk                  0\n",
       "rent                 0\n",
       "size                 0\n",
       "floor                0\n",
       "area_type            0\n",
       "area_locality        0\n",
       "city                 0\n",
       "furnishing_status    0\n",
       "tenant_preferred     0\n",
       "bathroom             0\n",
       "point_of_contact     0\n",
       "dtype: int64"
      ]
     },
     "execution_count": 131,
     "metadata": {},
     "output_type": "execute_result"
    }
   ],
   "source": [
    "# find NaNs in all columns\n",
    "data.isnull().sum(axis=0)"
   ]
  },
  {
   "cell_type": "markdown",
   "metadata": {},
   "source": [
    "The data looks clean in terms of NaNs"
   ]
  },
  {
   "cell_type": "code",
   "execution_count": 132,
   "metadata": {},
   "outputs": [
    {
     "data": {
      "text/plain": [
       "posted_on            object\n",
       "bhk                   int64\n",
       "rent                  int64\n",
       "size                  int64\n",
       "floor                object\n",
       "area_type            object\n",
       "area_locality        object\n",
       "city                 object\n",
       "furnishing_status    object\n",
       "tenant_preferred     object\n",
       "bathroom              int64\n",
       "point_of_contact     object\n",
       "dtype: object"
      ]
     },
     "execution_count": 132,
     "metadata": {},
     "output_type": "execute_result"
    }
   ],
   "source": [
    "data.dtypes"
   ]
  },
  {
   "cell_type": "code",
   "execution_count": 133,
   "metadata": {},
   "outputs": [],
   "source": [
    "data['posted_on'] = pd.to_datetime(data.posted_on)"
   ]
  },
  {
   "cell_type": "code",
   "execution_count": 134,
   "metadata": {},
   "outputs": [],
   "source": [
    "# Let's find the categorical columns\n",
    "\n",
    "categorical_columns = list(data.dtypes[data.dtypes == 'object'].index)\n",
    "\n",
    "# and numerical columns as well\n",
    "num_columns = list(data.dtypes[data.dtypes == 'int64'].index)"
   ]
  },
  {
   "cell_type": "code",
   "execution_count": 135,
   "metadata": {},
   "outputs": [
    {
     "data": {
      "text/plain": [
       "['bhk', 'rent', 'size', 'bathroom']"
      ]
     },
     "execution_count": 135,
     "metadata": {},
     "output_type": "execute_result"
    }
   ],
   "source": [
    "num_columns"
   ]
  },
  {
   "cell_type": "code",
   "execution_count": 136,
   "metadata": {},
   "outputs": [
    {
     "data": {
      "image/png": "[encoded data removed]",
      "text/plain": [
       "<Figure size 800x500 with 4 Axes>"
      ]
     },
     "metadata": {},
     "output_type": "display_data"
    }
   ],
   "source": [
    "columns = num_columns \n",
    "fig, ax = plt.subplots(ncols = len(columns), figsize=(8,5))\n",
    "plt.subplots_adjust(wspace = 1)\n",
    "sns.set_palette(\"PRGn\")\n",
    "for i in range(0,len(columns)):\n",
    "    s = sns.boxplot(ax = ax[i], data = data[columns[i]], showfliers = True)\n",
    "\n",
    "    ax[i].set_xlabel(columns[i])\n",
    "\n",
    "plt.show()"
   ]
  },
  {
   "cell_type": "markdown",
   "metadata": {},
   "source": [
    "- The number of rooms bhk has the median coinciding with the median and hence the line is not showing\n",
    "- The rent seems to have plenty of outliers which could be expected when taking into account fancy neighborhoods and houses where rent can increase significantly \n",
    "- As per the sizes the distribution seems to be symmetric if we dont consider the outliers, however there are still outliers of bigger houses, denoting more limited bigger houses available in the housing market\n",
    "- For the bathroom feature the distribution seems to right skewed as well, whereas the mean and median coincide at 2"
   ]
  },
  {
   "cell_type": "markdown",
   "metadata": {},
   "source": [
    "If we dont take into account outliers, (which removes the impact of the higher outlier rents) for the rent we can notice that the distribution is right skewed, which means that most of the houses lie on the lower rent side"
   ]
  },
  {
   "cell_type": "code",
   "execution_count": 137,
   "metadata": {},
   "outputs": [
    {
     "data": {
      "text/plain": [
       "<Axes: ylabel='rent'>"
      ]
     },
     "execution_count": 137,
     "metadata": {},
     "output_type": "execute_result"
    },
    {
     "data": {
      "image/png": "[encoded data removed]",
      "text/plain": [
       "<Figure size 640x480 with 1 Axes>"
      ]
     },
     "metadata": {},
     "output_type": "display_data"
    }
   ],
   "source": [
    "sns.boxplot(data['rent'], showfliers=False)"
   ]
  },
  {
   "cell_type": "markdown",
   "metadata": {},
   "source": [
    "Since the dataset revolves around rent prices lets see their distribution"
   ]
  },
  {
   "cell_type": "code",
   "execution_count": 243,
   "metadata": {},
   "outputs": [
    {
     "data": {
      "text/plain": [
       "<Axes: xlabel='rent', ylabel='Count'>"
      ]
     },
     "execution_count": 243,
     "metadata": {},
     "output_type": "execute_result"
    },
    {
     "data": {
      "image/png": "[encoded data removed]",
      "text/plain": [
       "<Figure size 640x480 with 1 Axes>"
      ]
     },
     "metadata": {},
     "output_type": "display_data"
    }
   ],
   "source": [
    "sns.histplot(x='rent', data = data, bins=50)"
   ]
  },
  {
   "cell_type": "code",
   "execution_count": 247,
   "metadata": {},
   "outputs": [
    {
     "data": {
      "text/plain": [
       "<Axes: xlabel='rent', ylabel='Count'>"
      ]
     },
     "execution_count": 247,
     "metadata": {},
     "output_type": "execute_result"
    },
    {
     "data": {
      "image/png": "[encoded data removed]",
      "text/plain": [
       "<Figure size 640x480 with 1 Axes>"
      ]
     },
     "metadata": {},
     "output_type": "display_data"
    }
   ],
   "source": [
    "sns.histplot(data.rent[data.rent<0.4e6], bins =50)"
   ]
  },
  {
   "cell_type": "markdown",
   "metadata": {},
   "source": [
    "We confirm that there is as expected a lot of rents on the lowest side, and there are a few (as we saw also in the boxplot) which fall into the higher range, the distribution is right skewed or a long tail distribution. For this reason it is better to take the logarithm, so large numbers in rent prices can be also seen and we also avoid \"confusing\" our models. Now the distribution looks more like a normal distribution. Keep in mind that models perform better when the target variable looks like this."
   ]
  },
  {
   "cell_type": "code",
   "execution_count": 241,
   "metadata": {},
   "outputs": [
    {
     "data": {
      "text/plain": [
       "<Axes: xlabel='rent', ylabel='Count'>"
      ]
     },
     "execution_count": 241,
     "metadata": {},
     "output_type": "execute_result"
    },
    {
     "data": {
      "image/png": "[encoded data removed]",
      "text/plain": [
       "<Figure size 640x480 with 1 Axes>"
      ]
     },
     "metadata": {},
     "output_type": "display_data"
    }
   ],
   "source": [
    "sns.histplot(np.log1p(data.rent))"
   ]
  },
  {
   "cell_type": "markdown",
   "metadata": {},
   "source": [
    "What we can also do is to see how correlated are the numerical columns "
   ]
  },
  {
   "cell_type": "code",
   "execution_count": 248,
   "metadata": {},
   "outputs": [
    {
     "data": {
      "image/png": "[encoded data removed]",
      "text/plain": [
       "<Figure size 1000x600 with 2 Axes>"
      ]
     },
     "metadata": {},
     "output_type": "display_data"
    }
   ],
   "source": [
    "# Specify the column for which you want to calculate correlations\n",
    "\n",
    "\n",
    "# Calculate Pearson correlation\n",
    "correlation_matrix = data[num_columns].corr(method='pearson')\n",
    "\n",
    "plt.figure(figsize=(10, 6))\n",
    "sns.heatmap(correlation_matrix,\n",
    "            annot=True,\n",
    "            cmap='coolwarm',\n",
    "            linewidths=.5,\n",
    "            fmt='.2f',\n",
    "            cbar_kws={'label': 'Correlation'})\n",
    "plt.title('Pearson Correlation Matrix')\n",
    "plt.show()"
   ]
  },
  {
   "cell_type": "markdown",
   "metadata": {},
   "source": [
    "We expected to see some logical correlations, like we see in the heatmap for example the size has a higher correlation with bathroums and bhk, while a lower with rent which could be due to the fact that there could be big houses in less expensive areas for eg.  This could be an indicator that bhk could be not the best option for predicting rent prices. \n",
    "On another note, dropping correlated features to limit the dimensionality of the data is not really applicable  here since the dataset is pretty limited in the number of feature and thus lower correlated features with the target or features with correlation between them can be kept, even though we do not see numbers that indicate something like that."
   ]
  },
  {
   "cell_type": "markdown",
   "metadata": {},
   "source": [
    "Does the correlation change if we consider the log1p of the rent ?"
   ]
  },
  {
   "cell_type": "code",
   "execution_count": 256,
   "metadata": {},
   "outputs": [
    {
     "data": {
      "image/png": "[encoded data removed]",
      "text/plain": [
       "<Figure size 500x300 with 2 Axes>"
      ]
     },
     "metadata": {},
     "output_type": "display_data"
    }
   ],
   "source": [
    "# Calculate Pearson correlation\n",
    "correlation_matrix = data[num_columns].corrwith(np.log1p(data.rent))\n",
    "\n",
    "plt.figure(figsize=(5, 3))\n",
    "sns.heatmap(correlation_matrix.to_frame('Correlation with rent').T.drop(columns='rent'),\n",
    "            annot=True,\n",
    "            cmap='coolwarm',\n",
    "            linewidths=.5,\n",
    "            fmt='.2f',\n",
    "            cbar_kws={'label': 'Correlation'})\n",
    "plt.title('Pearson Correlation Matrix')\n",
    "plt.show()"
   ]
  },
  {
   "cell_type": "markdown",
   "metadata": {},
   "source": [
    "Correlation does change and we see that the numerical features have higher correlation values with the target variable rent, which could support the argument of our models performing better"
   ]
  },
  {
   "cell_type": "markdown",
   "metadata": {},
   "source": [
    "**Data process**"
   ]
  },
  {
   "cell_type": "code",
   "execution_count": 139,
   "metadata": {},
   "outputs": [],
   "source": [
    "# Lets make categorical data in columns consistent as well\n",
    "for c in categorical_columns:\n",
    "    data[c] = data[c].str.lower().str.replace(' ', '_')"
   ]
  },
  {
   "cell_type": "markdown",
   "metadata": {},
   "source": [
    "For the categorical columns lets see the unique values in each of those and the NaNs"
   ]
  },
  {
   "cell_type": "code",
   "execution_count": 140,
   "metadata": {},
   "outputs": [
    {
     "data": {
      "text/plain": [
       "area_locality        2231\n",
       "floor                 480\n",
       "city                    6\n",
       "area_type               3\n",
       "furnishing_status       3\n",
       "tenant_preferred        3\n",
       "point_of_contact        3\n",
       "dtype: int64"
      ]
     },
     "execution_count": 140,
     "metadata": {},
     "output_type": "execute_result"
    }
   ],
   "source": [
    "data[categorical_columns].nunique().sort_values(ascending=False)"
   ]
  },
  {
   "cell_type": "markdown",
   "metadata": {},
   "source": [
    "The area locality feature and the floor have a lot of unique values which could make things hard when using one-hot-encoding, we might need to think of a better way to describe them if they impact the outcome, for e.g. we might use the top 4 of the unique values and add the keyword other for the rest. The other categorical features seem to have only a few unique values which means it is okay to use them for one-hot-encoding"
   ]
  },
  {
   "cell_type": "code",
   "execution_count": 141,
   "metadata": {
    "scrolled": true
   },
   "outputs": [
    {
     "data": {
      "text/plain": [
       "floor\n",
       "1_out_of_2         379\n",
       "ground_out_of_2    350\n",
       "2_out_of_3         312\n",
       "2_out_of_4         308\n",
       "1_out_of_3         293\n",
       "3_out_of_4         239\n",
       "ground_out_of_3    209\n",
       "1_out_of_4         200\n",
       "ground_out_of_1    195\n",
       "1_out_of_1         134\n",
       "2_out_of_2         132\n",
       "ground_out_of_4    115\n",
       "2_out_of_5         106\n",
       "3_out_of_3          96\n",
       "1_out_of_5          87\n",
       "4_out_of_5          86\n",
       "3_out_of_5          84\n",
       "4_out_of_4          73\n",
       "5_out_of_7          32\n",
       "3_out_of_7          32\n",
       "Name: count, dtype: int64"
      ]
     },
     "execution_count": 141,
     "metadata": {},
     "output_type": "execute_result"
    }
   ],
   "source": [
    "# check the floor column\n",
    "data.floor.value_counts().head(20)"
   ]
  },
  {
   "cell_type": "code",
   "execution_count": 142,
   "metadata": {},
   "outputs": [
    {
     "data": {
      "text/plain": [
       "2485"
      ]
     },
     "execution_count": 142,
     "metadata": {},
     "output_type": "execute_result"
    }
   ],
   "source": [
    "data.floor.value_counts().head(9).sum()"
   ]
  },
  {
   "cell_type": "markdown",
   "metadata": {},
   "source": [
    "This means that if for example we use the top 10 out of the floor options we would have described with the given naming convention more than half of the house listings (4746 in total) and we can use the word other for the rest, we can see that in a piechart as well, but in any case we need to see the feature importance as well. \n",
    "What we can also do for features with many unique values as in this case is to use the LabelEncoder and map each of the unique options to a different number. It might be interesting to see how that impacts the score of our models."
   ]
  },
  {
   "cell_type": "code",
   "execution_count": 143,
   "metadata": {},
   "outputs": [
    {
     "data": {
      "image/png": "[encoded data removed]",
      "text/plain": [
       "<Figure size 800x800 with 1 Axes>"
      ]
     },
     "metadata": {},
     "output_type": "display_data"
    }
   ],
   "source": [
    "# Count the occurrences of each unique value\n",
    "\n",
    "df_pie = pd.DataFrame(data.floor.copy())\n",
    "value_counts = df_pie['floor'].value_counts()\n",
    "\n",
    "# Select the top 4 values and group the rest as 'Other'\n",
    "top_values = value_counts.head(9)\n",
    "df_pie['floor'] = df_pie['floor'].where(df_pie['floor'].isin(top_values.index), 'Other')\n",
    "\n",
    "# Count the occurrences again after grouping\n",
    "new_value_counts = df_pie['floor'].value_counts()\n",
    "\n",
    "# Create a pie chart using Seaborn\n",
    "plt.figure(figsize=(8, 8))\n",
    "plt.pie(new_value_counts, labels=new_value_counts.index, autopct='%1.1f%%', startangle=90, colors=sns.color_palette('deep'))\n",
    "plt.title('Top 10 Categories with \"Other\"')\n",
    "plt.show()"
   ]
  },
  {
   "cell_type": "markdown",
   "metadata": {},
   "source": [
    "Lets look at area_locality as well, which has over 2k unique values, meaning that on avg around two houses are on the same area and thus the option of using other is maybe not applicable, here label encoder might be a good option if we do not decide to drop the column due to minimal importance"
   ]
  },
  {
   "cell_type": "code",
   "execution_count": 144,
   "metadata": {},
   "outputs": [
    {
     "data": {
      "text/plain": [
       "2.127297176154191"
      ]
     },
     "execution_count": 144,
     "metadata": {},
     "output_type": "execute_result"
    }
   ],
   "source": [
    "data.area_locality.value_counts().mean() # shows that the above statement is true"
   ]
  },
  {
   "cell_type": "code",
   "execution_count": 145,
   "metadata": {},
   "outputs": [
    {
     "data": {
      "text/plain": [
       "area_locality\n",
       "bandra_west                           37\n",
       "gachibowli                            29\n",
       "electronic_city                       24\n",
       "velachery                             22\n",
       "miyapur,_nh_9                         22\n",
       "madipakkam                            20\n",
       "chembur                               19\n",
       "laxmi_nagar                           19\n",
       "k_r_puram                             19\n",
       "kondapur                              18\n",
       "banjara_hills,_nh_9                   17\n",
       "iyyappanthangal                       17\n",
       "medavakkam                            17\n",
       "sholinganallur                        16\n",
       "salt_lake_city_sector_2               16\n",
       "chromepet,_gst_road                   15\n",
       "vadapalani                            15\n",
       "andheri_west                          15\n",
       "salt_lake_city_sector_1               14\n",
       "perungalathur,_chennai_bypass_road    14\n",
       "Name: count, dtype: int64"
      ]
     },
     "execution_count": 145,
     "metadata": {},
     "output_type": "execute_result"
    }
   ],
   "source": [
    "data.area_locality.value_counts().head(20)"
   ]
  },
  {
   "cell_type": "markdown",
   "metadata": {},
   "source": [
    "Lets also check how time might affect the price through date posted "
   ]
  },
  {
   "cell_type": "code",
   "execution_count": 146,
   "metadata": {},
   "outputs": [
    {
     "data": {
      "text/plain": [
       "(array([19097., 19113., 19127., 19144., 19158., 19174., 19188.]),\n",
       " [Text(19097.0, 0, '2022-04-15'),\n",
       "  Text(19113.0, 0, '2022-05-01'),\n",
       "  Text(19127.0, 0, '2022-05-15'),\n",
       "  Text(19144.0, 0, '2022-06-01'),\n",
       "  Text(19158.0, 0, '2022-06-15'),\n",
       "  Text(19174.0, 0, '2022-07-01'),\n",
       "  Text(19188.0, 0, '2022-07-15')])"
      ]
     },
     "execution_count": 146,
     "metadata": {},
     "output_type": "execute_result"
    },
    {
     "data": {
      "image/png": "[encoded data removed]",
      "text/plain": [
       "<Figure size 640x480 with 1 Axes>"
      ]
     },
     "metadata": {},
     "output_type": "display_data"
    }
   ],
   "source": [
    "sns.lineplot(data=data, x='posted_on', y='rent')\n",
    "plt.xticks(rotation=45)"
   ]
  },
  {
   "cell_type": "markdown",
   "metadata": {},
   "source": [
    "Data appears to be from the same year and there is a bit of variation although that is around the same average value, with some peaks in specific months, maybe we can replace dates with months instead and do one-hot-encoding or label encoding. What could be good to also to is to replace with the ordinal number of the day in the year. Although if we want to have models that stay relevant, perhaps we should take into account that rent prices are affected actually by time and could increase or decrease (usually the former) over time due to for eg inflation, changes in an area etc. (Note: at least for the area we do have a feature that describes it that could also capture changes overtime)"
   ]
  },
  {
   "cell_type": "markdown",
   "metadata": {},
   "source": [
    "For this approach let's impelement the Label Encoder to deal with the high cardinality of area locality and floor and apply it also for months after changing the posted date to the ordinal day of the year and to make things simpler lets also apply it for all categorical columns"
   ]
  },
  {
   "cell_type": "markdown",
   "metadata": {},
   "source": [
    "**Data process**"
   ]
  },
  {
   "cell_type": "code",
   "execution_count": 147,
   "metadata": {},
   "outputs": [],
   "source": [
    "from sklearn.preprocessing import LabelEncoder\n",
    "\n",
    "label_encoded_columns = categorical_columns\n",
    "le = LabelEncoder()\n",
    "\n",
    "for column in label_encoded_columns:\n",
    "    data[column] = le.fit_transform(data[column])"
   ]
  },
  {
   "cell_type": "code",
   "execution_count": 148,
   "metadata": {},
   "outputs": [
    {
     "data": {
      "text/plain": [
       "posted_on            datetime64[ns]\n",
       "bhk                           int64\n",
       "rent                          int64\n",
       "size                          int64\n",
       "floor                         int64\n",
       "area_type                     int64\n",
       "area_locality                 int64\n",
       "city                          int64\n",
       "furnishing_status             int64\n",
       "tenant_preferred              int64\n",
       "bathroom                      int64\n",
       "point_of_contact              int64\n",
       "dtype: object"
      ]
     },
     "execution_count": 148,
     "metadata": {},
     "output_type": "execute_result"
    }
   ],
   "source": [
    "data.dtypes"
   ]
  },
  {
   "cell_type": "code",
   "execution_count": 149,
   "metadata": {},
   "outputs": [],
   "source": [
    "# Replacing the timestamp\n",
    "\n",
    "data['posted_on'] = data['posted_on'].dt.dayofyear"
   ]
  },
  {
   "cell_type": "code",
   "execution_count": 150,
   "metadata": {},
   "outputs": [
    {
     "data": {
      "text/plain": [
       "posted_on            int32\n",
       "bhk                  int64\n",
       "rent                 int64\n",
       "size                 int64\n",
       "floor                int64\n",
       "area_type            int64\n",
       "area_locality        int64\n",
       "city                 int64\n",
       "furnishing_status    int64\n",
       "tenant_preferred     int64\n",
       "bathroom             int64\n",
       "point_of_contact     int64\n",
       "dtype: object"
      ]
     },
     "execution_count": 150,
     "metadata": {},
     "output_type": "execute_result"
    }
   ],
   "source": [
    "data.dtypes"
   ]
  },
  {
   "cell_type": "markdown",
   "metadata": {},
   "source": [
    "Now we can make the split for train,val,test and do an analysis on feature importance that could limit our dataset further, all columns are now numerical "
   ]
  },
  {
   "cell_type": "markdown",
   "metadata": {},
   "source": [
    "## 2. Dataset split and feature importance"
   ]
  },
  {
   "cell_type": "markdown",
   "metadata": {},
   "source": [
    "We can now split the data and perform some methods to assess feature importance"
   ]
  },
  {
   "cell_type": "code",
   "execution_count": 257,
   "metadata": {},
   "outputs": [],
   "source": [
    "from sklearn.model_selection import train_test_split\n",
    "\n",
    "df_full_train, df_test = train_test_split(data, test_size = 0.2, random_state = 42) \n",
    "df_train, df_val = train_test_split(df_full_train, test_size = 0.25 ,random_state = 42) "
   ]
  },
  {
   "cell_type": "markdown",
   "metadata": {},
   "source": [
    "We can use mutual info for regression to check quickly feature importance for a continuous target variable like the rent that we aim to predict here,\n",
    "there are ways as well to test the feature importance based on models like the the random forest and check metrics like the decrease in impurity etc."
   ]
  },
  {
   "cell_type": "code",
   "execution_count": 258,
   "metadata": {},
   "outputs": [
    {
     "data": {
      "text/plain": [
       "size                 0.344505\n",
       "bathroom             0.323187\n",
       "bhk                  0.277760\n",
       "point_of_contact     0.237822\n",
       "city                 0.227997\n",
       "floor                0.216435\n",
       "area_locality        0.138847\n",
       "posted_on            0.093608\n",
       "area_type            0.085631\n",
       "furnishing_status    0.073118\n",
       "tenant_preferred     0.042883\n",
       "Name: 0, dtype: float64"
      ]
     },
     "execution_count": 258,
     "metadata": {},
     "output_type": "execute_result"
    }
   ],
   "source": [
    "from sklearn.feature_selection import mutual_info_regression\n",
    "\n",
    "def mutual_info_regression_score(feature, target):\n",
    "    return mutual_info_regression(feature.values.reshape(-1, 1), target)\n",
    "\n",
    "mi = df_full_train.apply(lambda feature: mutual_info_regression_score(feature, df_full_train['rent']))\n",
    "\n",
    "mi = mi.drop(columns='rent')\n",
    "\n",
    "mi.squeeze(axis=0).sort_values(ascending=False)"
   ]
  },
  {
   "cell_type": "markdown",
   "metadata": {},
   "source": [
    "We notice that out of the 11 features size comes first on its importance relative to the rent price, while the tenant_preferred option (that describes the type of tenant, bachelor, family etc.) has the lowest score. Since there are only 11 features we will keep the columns, it could be interesting to check how that affects performance."
   ]
  },
  {
   "cell_type": "code",
   "execution_count": 259,
   "metadata": {},
   "outputs": [
    {
     "data": {
      "text/html": [
       "<div>\n",
       "<style scoped>\n",
       "    .dataframe tbody tr th:only-of-type {\n",
       "        vertical-align: middle;\n",
       "    }\n",
       "\n",
       "    .dataframe tbody tr th {\n",
       "        vertical-align: top;\n",
       "    }\n",
       "\n",
       "    .dataframe thead th {\n",
       "        text-align: right;\n",
       "    }\n",
       "</style>\n",
       "<table border=\"1\" class=\"dataframe\">\n",
       "  <thead>\n",
       "    <tr style=\"text-align: right;\">\n",
       "      <th></th>\n",
       "      <th>posted_on</th>\n",
       "      <th>bhk</th>\n",
       "      <th>rent</th>\n",
       "      <th>size</th>\n",
       "      <th>floor</th>\n",
       "      <th>area_type</th>\n",
       "      <th>area_locality</th>\n",
       "      <th>city</th>\n",
       "      <th>furnishing_status</th>\n",
       "      <th>tenant_preferred</th>\n",
       "      <th>bathroom</th>\n",
       "      <th>point_of_contact</th>\n",
       "    </tr>\n",
       "  </thead>\n",
       "  <tbody>\n",
       "    <tr>\n",
       "      <th>1995</th>\n",
       "      <td>130</td>\n",
       "      <td>2</td>\n",
       "      <td>23500</td>\n",
       "      <td>950</td>\n",
       "      <td>377</td>\n",
       "      <td>2</td>\n",
       "      <td>310</td>\n",
       "      <td>0</td>\n",
       "      <td>1</td>\n",
       "      <td>1</td>\n",
       "      <td>2</td>\n",
       "      <td>2</td>\n",
       "    </tr>\n",
       "    <tr>\n",
       "      <th>1497</th>\n",
       "      <td>174</td>\n",
       "      <td>2</td>\n",
       "      <td>10500</td>\n",
       "      <td>800</td>\n",
       "      <td>289</td>\n",
       "      <td>2</td>\n",
       "      <td>1354</td>\n",
       "      <td>0</td>\n",
       "      <td>1</td>\n",
       "      <td>1</td>\n",
       "      <td>2</td>\n",
       "      <td>2</td>\n",
       "    </tr>\n",
       "    <tr>\n",
       "      <th>2763</th>\n",
       "      <td>164</td>\n",
       "      <td>1</td>\n",
       "      <td>19000</td>\n",
       "      <td>545</td>\n",
       "      <td>245</td>\n",
       "      <td>2</td>\n",
       "      <td>540</td>\n",
       "      <td>2</td>\n",
       "      <td>0</td>\n",
       "      <td>1</td>\n",
       "      <td>1</td>\n",
       "      <td>2</td>\n",
       "    </tr>\n",
       "    <tr>\n",
       "      <th>1351</th>\n",
       "      <td>188</td>\n",
       "      <td>1</td>\n",
       "      <td>20000</td>\n",
       "      <td>465</td>\n",
       "      <td>289</td>\n",
       "      <td>2</td>\n",
       "      <td>799</td>\n",
       "      <td>5</td>\n",
       "      <td>1</td>\n",
       "      <td>0</td>\n",
       "      <td>1</td>\n",
       "      <td>2</td>\n",
       "    </tr>\n",
       "    <tr>\n",
       "      <th>1862</th>\n",
       "      <td>185</td>\n",
       "      <td>2</td>\n",
       "      <td>17000</td>\n",
       "      <td>900</td>\n",
       "      <td>325</td>\n",
       "      <td>2</td>\n",
       "      <td>304</td>\n",
       "      <td>0</td>\n",
       "      <td>0</td>\n",
       "      <td>1</td>\n",
       "      <td>2</td>\n",
       "      <td>2</td>\n",
       "    </tr>\n",
       "    <tr>\n",
       "      <th>...</th>\n",
       "      <td>...</td>\n",
       "      <td>...</td>\n",
       "      <td>...</td>\n",
       "      <td>...</td>\n",
       "      <td>...</td>\n",
       "      <td>...</td>\n",
       "      <td>...</td>\n",
       "      <td>...</td>\n",
       "      <td>...</td>\n",
       "      <td>...</td>\n",
       "      <td>...</td>\n",
       "      <td>...</td>\n",
       "    </tr>\n",
       "    <tr>\n",
       "      <th>4426</th>\n",
       "      <td>180</td>\n",
       "      <td>3</td>\n",
       "      <td>25000</td>\n",
       "      <td>1500</td>\n",
       "      <td>172</td>\n",
       "      <td>1</td>\n",
       "      <td>174</td>\n",
       "      <td>3</td>\n",
       "      <td>1</td>\n",
       "      <td>2</td>\n",
       "      <td>3</td>\n",
       "      <td>2</td>\n",
       "    </tr>\n",
       "    <tr>\n",
       "      <th>466</th>\n",
       "      <td>164</td>\n",
       "      <td>3</td>\n",
       "      <td>20000</td>\n",
       "      <td>1200</td>\n",
       "      <td>286</td>\n",
       "      <td>2</td>\n",
       "      <td>228</td>\n",
       "      <td>4</td>\n",
       "      <td>2</td>\n",
       "      <td>1</td>\n",
       "      <td>2</td>\n",
       "      <td>2</td>\n",
       "    </tr>\n",
       "    <tr>\n",
       "      <th>3092</th>\n",
       "      <td>187</td>\n",
       "      <td>2</td>\n",
       "      <td>20000</td>\n",
       "      <td>800</td>\n",
       "      <td>62</td>\n",
       "      <td>1</td>\n",
       "      <td>2106</td>\n",
       "      <td>1</td>\n",
       "      <td>1</td>\n",
       "      <td>2</td>\n",
       "      <td>2</td>\n",
       "      <td>0</td>\n",
       "    </tr>\n",
       "    <tr>\n",
       "      <th>3772</th>\n",
       "      <td>137</td>\n",
       "      <td>3</td>\n",
       "      <td>85000</td>\n",
       "      <td>3500</td>\n",
       "      <td>447</td>\n",
       "      <td>1</td>\n",
       "      <td>2009</td>\n",
       "      <td>1</td>\n",
       "      <td>1</td>\n",
       "      <td>1</td>\n",
       "      <td>3</td>\n",
       "      <td>0</td>\n",
       "    </tr>\n",
       "    <tr>\n",
       "      <th>860</th>\n",
       "      <td>171</td>\n",
       "      <td>1</td>\n",
       "      <td>25000</td>\n",
       "      <td>450</td>\n",
       "      <td>352</td>\n",
       "      <td>1</td>\n",
       "      <td>661</td>\n",
       "      <td>5</td>\n",
       "      <td>1</td>\n",
       "      <td>0</td>\n",
       "      <td>2</td>\n",
       "      <td>0</td>\n",
       "    </tr>\n",
       "  </tbody>\n",
       "</table>\n",
       "<p>3796 rows × 12 columns</p>\n",
       "</div>"
      ],
      "text/plain": [
       "      posted_on  bhk   rent  size  floor  area_type  area_locality  city  \\\n",
       "1995        130    2  23500   950    377          2            310     0   \n",
       "1497        174    2  10500   800    289          2           1354     0   \n",
       "2763        164    1  19000   545    245          2            540     2   \n",
       "1351        188    1  20000   465    289          2            799     5   \n",
       "1862        185    2  17000   900    325          2            304     0   \n",
       "...         ...  ...    ...   ...    ...        ...            ...   ...   \n",
       "4426        180    3  25000  1500    172          1            174     3   \n",
       "466         164    3  20000  1200    286          2            228     4   \n",
       "3092        187    2  20000   800     62          1           2106     1   \n",
       "3772        137    3  85000  3500    447          1           2009     1   \n",
       "860         171    1  25000   450    352          1            661     5   \n",
       "\n",
       "      furnishing_status  tenant_preferred  bathroom  point_of_contact  \n",
       "1995                  1                 1         2                 2  \n",
       "1497                  1                 1         2                 2  \n",
       "2763                  0                 1         1                 2  \n",
       "1351                  1                 0         1                 2  \n",
       "1862                  0                 1         2                 2  \n",
       "...                 ...               ...       ...               ...  \n",
       "4426                  1                 2         3                 2  \n",
       "466                   2                 1         2                 2  \n",
       "3092                  1                 2         2                 0  \n",
       "3772                  1                 1         3                 0  \n",
       "860                   1                 0         2                 0  \n",
       "\n",
       "[3796 rows x 12 columns]"
      ]
     },
     "execution_count": 259,
     "metadata": {},
     "output_type": "execute_result"
    }
   ],
   "source": [
    "df_full_train"
   ]
  },
  {
   "cell_type": "markdown",
   "metadata": {},
   "source": [
    "Dropping the values for the target variable"
   ]
  },
  {
   "cell_type": "code",
   "execution_count": 260,
   "metadata": {},
   "outputs": [],
   "source": [
    "y_train = np.log1p(df_train.rent.values)\n",
    "y_val = np.log1p(df_val.rent.values)\n",
    "\n",
    "y_test = np.log1p(df_test.rent.values)\n",
    "\n",
    "# delete the target variable\n",
    "del df_train['rent']\n",
    "del df_val['rent']\n",
    "del df_test['rent']\n",
    "\n",
    "\n",
    "X_train = df_train.values\n",
    "X_val = df_val.values\n",
    "\n",
    "X_test = df_test.values"
   ]
  },
  {
   "cell_type": "markdown",
   "metadata": {},
   "source": [
    "What happens with mutual info scores after applying the log ?"
   ]
  },
  {
   "cell_type": "code",
   "execution_count": 262,
   "metadata": {},
   "outputs": [
    {
     "data": {
      "text/plain": [
       "bathroom             0.353435\n",
       "size                 0.348925\n",
       "bhk                  0.288099\n",
       "point_of_contact     0.239354\n",
       "floor                0.223860\n",
       "city                 0.218391\n",
       "posted_on            0.082564\n",
       "area_type            0.077238\n",
       "area_locality        0.055375\n",
       "furnishing_status    0.042925\n",
       "tenant_preferred     0.008831\n",
       "Name: 0, dtype: float64"
      ]
     },
     "execution_count": 262,
     "metadata": {},
     "output_type": "execute_result"
    }
   ],
   "source": [
    "from sklearn.feature_selection import mutual_info_regression\n",
    "\n",
    "def mutual_info_regression_score(feature, target):\n",
    "    return mutual_info_regression(feature.values.reshape(-1, 1), target)\n",
    "\n",
    "mi = df_train.apply(lambda feature: mutual_info_regression_score(feature, y_train))\n",
    "\n",
    "\n",
    "mi.squeeze(axis=0).sort_values(ascending=False)"
   ]
  },
  {
   "cell_type": "markdown",
   "metadata": {},
   "source": [
    "Mi scores do not differ that much but some features come up higher in the ranking in some cases like bathroom and size"
   ]
  },
  {
   "cell_type": "markdown",
   "metadata": {},
   "source": [
    "We can also assess importance through a random forest model"
   ]
  },
  {
   "cell_type": "code",
   "execution_count": 267,
   "metadata": {},
   "outputs": [
    {
     "data": {
      "text/plain": [
       "([0, 1, 2, 3, 4, 5, 6, 7, 8, 9, 10],\n",
       " [Text(0, 0, 'area_type'),\n",
       "  Text(1, 0, 'tenant_preferred'),\n",
       "  Text(2, 0, 'furnishing_status'),\n",
       "  Text(3, 0, 'bhk'),\n",
       "  Text(4, 0, 'floor'),\n",
       "  Text(5, 0, 'posted_on'),\n",
       "  Text(6, 0, 'area_locality'),\n",
       "  Text(7, 0, 'city'),\n",
       "  Text(8, 0, 'size'),\n",
       "  Text(9, 0, 'bathroom'),\n",
       "  Text(10, 0, 'point_of_contact')])"
      ]
     },
     "execution_count": 267,
     "metadata": {},
     "output_type": "execute_result"
    },
    {
     "data": {
      "image/png": "[encoded data removed]",
      "text/plain": [
       "<Figure size 640x480 with 1 Axes>"
      ]
     },
     "metadata": {},
     "output_type": "display_data"
    }
   ],
   "source": [
    "from sklearn.ensemble import RandomForestRegressor\n",
    "\n",
    "model = RandomForestRegressor()\n",
    "\n",
    "model.fit(X_train,y_train)\n",
    "\n",
    "importances = model.feature_importances_\n",
    "\n",
    "df_im = pd.DataFrame({\"Features\": df_train.columns, 'Importances':importances})\n",
    "\n",
    "df_im = df_im.sort_values('Importances')\n",
    "\n",
    "sns.barplot(data = df_im, x ='Features', y='Importances')\n",
    "plt.xticks(rotation=45)"
   ]
  },
  {
   "cell_type": "markdown",
   "metadata": {},
   "source": [
    "Although, features that were highlighted at the higher ranks of the mutual info scores are still at the top here there is some shift in importances. A query with ChatGPT returned these as reasons behind:\n",
    "- Non-linear relationships: Mutual information can capture non-linear relationships, while some models may not perform as well in capturing non-linear dependencies.\n",
    "- Model-specific criteria: The model may be assigning higher importance to features based on its specific criteria, which may not perfectly align with the mutual information measure.\n",
    "- Noise in the data: Mutual information may capture dependencies that are affected by noise, leading to differences in importance rankings.\n",
    "\n",
    "Note: We need to remember that the feature selection could actually be a repetive process and that each model might perform better for a different set of features in the end. Due to the limited number of features here, we can see what different feature selection methods suggest but in the end we will be using the whole set of features."
   ]
  },
  {
   "cell_type": "code",
   "execution_count": 287,
   "metadata": {},
   "outputs": [
    {
     "data": {
      "text/plain": [
       "([0, 1, 2, 3, 4, 5, 6, 7, 8, 9, 10],\n",
       " [Text(0, 0, 'point_of_contact'),\n",
       "  Text(1, 0, 'furnishing_status'),\n",
       "  Text(2, 0, 'area_type'),\n",
       "  Text(3, 0, 'tenant_preferred'),\n",
       "  Text(4, 0, 'floor'),\n",
       "  Text(5, 0, 'posted_on'),\n",
       "  Text(6, 0, 'area_locality'),\n",
       "  Text(7, 0, 'size'),\n",
       "  Text(8, 0, 'city'),\n",
       "  Text(9, 0, 'bhk'),\n",
       "  Text(10, 0, 'bathroom')])"
      ]
     },
     "execution_count": 287,
     "metadata": {},
     "output_type": "execute_result"
    },
    {
     "data": {
      "image/png": "[encoded data removed]",
      "text/plain": [
       "<Figure size 640x480 with 1 Axes>"
      ]
     },
     "metadata": {},
     "output_type": "display_data"
    }
   ],
   "source": [
    "from sklearn.linear_model import LinearRegression\n",
    "\n",
    "model = LinearRegression()\n",
    "model.fit(X_train, y_train)\n",
    "\n",
    "coefficients = model.coef_\n",
    "df_coeff = pd.DataFrame({\"Features\": df_train.columns, 'Coefficients':coefficients}).sort_values('Coefficients')\n",
    "\n",
    "sns.barplot(df_coeff, x='Features', y='Coefficients')\n",
    "plt.xticks(rotation=45)"
   ]
  },
  {
   "cell_type": "markdown",
   "metadata": {},
   "source": [
    "We see the same top 2 features as the rf method showed, however size gets a really low value "
   ]
  },
  {
   "cell_type": "code",
   "execution_count": 290,
   "metadata": {},
   "outputs": [
    {
     "data": {
      "text/plain": [
       "([0, 1, 2, 3, 4, 5, 6, 7, 8, 9, 10],\n",
       " [Text(0, 0, 'area_locality'),\n",
       "  Text(1, 0, 'tenant_preferred'),\n",
       "  Text(2, 0, 'floor'),\n",
       "  Text(3, 0, 'posted_on'),\n",
       "  Text(4, 0, 'furnishing_status'),\n",
       "  Text(5, 0, 'area_type'),\n",
       "  Text(6, 0, 'city'),\n",
       "  Text(7, 0, 'size'),\n",
       "  Text(8, 0, 'bhk'),\n",
       "  Text(9, 0, 'point_of_contact'),\n",
       "  Text(10, 0, 'bathroom')])"
      ]
     },
     "execution_count": 290,
     "metadata": {},
     "output_type": "execute_result"
    },
    {
     "data": {
      "image/png": "[encoded data removed]",
      "text/plain": [
       "<Figure size 640x480 with 1 Axes>"
      ]
     },
     "metadata": {},
     "output_type": "display_data"
    }
   ],
   "source": [
    "from skfeature.function.similarity_based import fisher_score\n",
    "\n",
    "ranks = fisher_score.fisher_score(X_train, y_train)\n",
    "\n",
    "feat_importances = pd.Series(ranks, df_train.columns)\n",
    "feat_importances = feat_importances.sort_values()\n",
    "sns.barplot(feat_importances)\n",
    "plt.xticks(rotation=45)"
   ]
  },
  {
   "cell_type": "markdown",
   "metadata": {},
   "source": [
    "Fisher's score show bhk being much higher than in the forest method but top 2 remain the same and size comes third close to bhk"
   ]
  },
  {
   "cell_type": "markdown",
   "metadata": {},
   "source": [
    "## 3. Base Model training and comparison "
   ]
  },
  {
   "cell_type": "markdown",
   "metadata": {},
   "source": [
    "The plan is to train, test and compare 5 models for the rent price prediction. \n",
    "- Linear Regression\n",
    "- Ridge regression  (linear with regularization)\n",
    "- Decision Tree regressor\n",
    "- Random forest regressor\n",
    "- XGBregressor\n",
    "\n",
    "We will be training the models and compare them without any tuning first to find out the best performers. We will do a comparison also after tuning."
   ]
  },
  {
   "cell_type": "code",
   "execution_count": 334,
   "metadata": {},
   "outputs": [],
   "source": [
    "from sklearn.linear_model import LinearRegression\n",
    "from sklearn.linear_model import Ridge\n",
    "from sklearn.tree import DecisionTreeRegressor\n",
    "from sklearn.ensemble import RandomForestRegressor\n",
    "from xgboost import XGBRegressor\n",
    "from sklearn.metrics import mean_absolute_error\n",
    "from sklearn.metrics import mean_squared_error\n",
    "from sklearn.model_selection import KFold\n",
    "from tqdm.auto import tqdm\n",
    "from sklearn.model_selection import GridSearchCV, RandomizedSearchCV"
   ]
  },
  {
   "cell_type": "code",
   "execution_count": 237,
   "metadata": {},
   "outputs": [],
   "source": [
    "# Useful Functions\n",
    "def train(df_train, y_train, model):\n",
    "    \n",
    "    X_train = df_train.values\n",
    "    \n",
    "    model.fit(X_train, y_train)\n",
    "    \n",
    "    return model\n",
    "\n",
    "def predict(df, model):\n",
    "   \n",
    "    \n",
    "    X = df.values\n",
    "    y_pred = model.predict(X)\n",
    "    \n",
    "    return y_pred\n",
    "\n",
    "def rmse(y_pred, y_val):\n",
    "    score = float(mean_squared_error(y_pred, y_val))** 0.5 \n",
    "    return score"
   ]
  },
  {
   "cell_type": "markdown",
   "metadata": {},
   "source": [
    "Lets create a list of the methods and a list of the scores so we can make a comparison of the scores"
   ]
  },
  {
   "cell_type": "code",
   "execution_count": 312,
   "metadata": {},
   "outputs": [],
   "source": [
    "models = ['Linear_Regression', 'Ridge_Regression', 'Decision_Tree_Regressor', 'Random_Forest_Regressor', 'XGB_regressor']\n",
    "scores_mean = []\n",
    "scores_std = []"
   ]
  },
  {
   "cell_type": "markdown",
   "metadata": {},
   "source": [
    "### a. Linear Regression"
   ]
  },
  {
   "cell_type": "code",
   "execution_count": 313,
   "metadata": {
    "scrolled": true
   },
   "outputs": [
    {
     "name": "stderr",
     "output_type": "stream",
     "text": [
      "5it [00:00, 141.67it/s]"
     ]
    },
    {
     "name": "stdout",
     "output_type": "stream",
     "text": [
      "RMSE for model LinearRegression(): 0.51105 +- 0.01561\n"
     ]
    },
    {
     "name": "stderr",
     "output_type": "stream",
     "text": [
      "\n"
     ]
    }
   ],
   "source": [
    "lr = LinearRegression()\n",
    "n_splits = 5 \n",
    "scores = []\n",
    "kfold = KFold(n_splits=n_splits, shuffle=True, random_state=1)\n",
    "    \n",
    "for train_idx, val_idx in tqdm(kfold.split(df_full_train)):\n",
    "    # data splitting\n",
    "    df_train = df_full_train.iloc[train_idx]\n",
    "    df_val = df_full_train.iloc[val_idx]\n",
    "        \n",
    "    # y values\n",
    "    y_train = np.log1p(df_train.rent.values)\n",
    "    y_val = np.log1p(df_val.rent.values)\n",
    "    \n",
    "    del df_train['rent']\n",
    "    del df_val['rent']\n",
    "        \n",
    "    # training and predicting\n",
    "    model = train(df_train, y_train, lr)\n",
    "    y_pred = predict(df_val, model)\n",
    "    \n",
    "    score = rmse(y_pred, y_val)\n",
    "    scores.append(score)\n",
    "    \n",
    "print('RMSE for model %s: %.5f +- %.5f' % (model, np.mean(scores), np.std(scores)))"
   ]
  },
  {
   "cell_type": "code",
   "execution_count": 314,
   "metadata": {},
   "outputs": [],
   "source": [
    "scores_mean.append(np.mean(scores))\n",
    "scores_std.append(np.std(scores))"
   ]
  },
  {
   "cell_type": "markdown",
   "metadata": {},
   "source": [
    "### b. Ridge regression (linear with regularization)"
   ]
  },
  {
   "cell_type": "code",
   "execution_count": 315,
   "metadata": {},
   "outputs": [
    {
     "name": "stderr",
     "output_type": "stream",
     "text": [
      "5it [00:00, 161.78it/s]"
     ]
    },
    {
     "name": "stdout",
     "output_type": "stream",
     "text": [
      "RMSE for model Ridge(): 0.51105 +- 0.01562\n"
     ]
    },
    {
     "name": "stderr",
     "output_type": "stream",
     "text": [
      "\n"
     ]
    }
   ],
   "source": [
    "ridge = Ridge()\n",
    "n_splits = 5 \n",
    "scores = []\n",
    "kfold = KFold(n_splits=n_splits, shuffle=True, random_state=1)\n",
    "    \n",
    "for train_idx, val_idx in tqdm(kfold.split(df_full_train)):\n",
    "    # data splitting\n",
    "    df_train = df_full_train.iloc[train_idx]\n",
    "    df_val = df_full_train.iloc[val_idx]\n",
    "        \n",
    "    # y values\n",
    "    y_train = np.log1p(df_train.rent.values)\n",
    "    y_val = np.log1p(df_val.rent.values)\n",
    "    \n",
    "    del df_train['rent']\n",
    "    del df_val['rent']\n",
    "        \n",
    "    # training and predicting\n",
    "    model = train(df_train, y_train, ridge)\n",
    "    y_pred = predict(df_val, model)\n",
    "    \n",
    "    score = rmse(y_pred, y_val)\n",
    "    scores.append(score)\n",
    "    \n",
    "print('RMSE for model %s: %.5f +- %.5f' % (model, np.mean(scores), np.std(scores)))\n",
    "scores_mean.append(np.mean(scores))\n",
    "scores_std.append(np.std(scores))"
   ]
  },
  {
   "cell_type": "markdown",
   "metadata": {},
   "source": [
    "### c. Decision Trees"
   ]
  },
  {
   "cell_type": "code",
   "execution_count": 316,
   "metadata": {},
   "outputs": [
    {
     "name": "stderr",
     "output_type": "stream",
     "text": [
      "5it [00:00, 44.58it/s]"
     ]
    },
    {
     "name": "stdout",
     "output_type": "stream",
     "text": [
      "RMSE for model DecisionTreeRegressor(): 0.55119 +- 0.01530\n"
     ]
    },
    {
     "name": "stderr",
     "output_type": "stream",
     "text": [
      "\n"
     ]
    }
   ],
   "source": [
    "dtr = DecisionTreeRegressor()\n",
    "n_splits = 5 \n",
    "scores = []\n",
    "kfold = KFold(n_splits=n_splits, shuffle=True, random_state=1)\n",
    "    \n",
    "for train_idx, val_idx in tqdm(kfold.split(df_full_train)):\n",
    "    # data splitting\n",
    "    df_train = df_full_train.iloc[train_idx]\n",
    "    df_val = df_full_train.iloc[val_idx]\n",
    "        \n",
    "    # y values\n",
    "    y_train = np.log1p(df_train.rent.values)\n",
    "    y_val = np.log1p(df_val.rent.values)\n",
    "    \n",
    "    del df_train['rent']\n",
    "    del df_val['rent']\n",
    "        \n",
    "    # training and predicting\n",
    "    model = train(df_train, y_train, dtr)\n",
    "    y_pred = predict(df_val, model)\n",
    "    \n",
    "    score = rmse(y_pred, y_val)\n",
    "    scores.append(score)\n",
    "    \n",
    "print('RMSE for model %s: %.5f +- %.5f' % (model, np.mean(scores), np.std(scores)))\n",
    "scores_mean.append(np.mean(scores))\n",
    "scores_std.append(np.std(scores))"
   ]
  },
  {
   "cell_type": "markdown",
   "metadata": {},
   "source": [
    "### d. Random Forest"
   ]
  },
  {
   "cell_type": "code",
   "execution_count": 317,
   "metadata": {},
   "outputs": [
    {
     "name": "stderr",
     "output_type": "stream",
     "text": [
      "5it [00:06,  1.24s/it]"
     ]
    },
    {
     "name": "stdout",
     "output_type": "stream",
     "text": [
      "RMSE for model RandomForestRegressor(): 0.40617 +- 0.01636\n"
     ]
    },
    {
     "name": "stderr",
     "output_type": "stream",
     "text": [
      "\n"
     ]
    }
   ],
   "source": [
    "rfr = RandomForestRegressor()\n",
    "n_splits = 5 \n",
    "scores = []\n",
    "kfold = KFold(n_splits=n_splits, shuffle=True, random_state=1)\n",
    "    \n",
    "for train_idx, val_idx in tqdm(kfold.split(df_full_train)):\n",
    "    # data splitting\n",
    "    df_train = df_full_train.iloc[train_idx]\n",
    "    df_val = df_full_train.iloc[val_idx]\n",
    "        \n",
    "    # y values\n",
    "    y_train = np.log1p(df_train.rent.values)\n",
    "    y_val = np.log1p(df_val.rent.values)\n",
    "    \n",
    "    del df_train['rent']\n",
    "    del df_val['rent']\n",
    "        \n",
    "    # training and predicting\n",
    "    model = train(df_train, y_train, rfr)\n",
    "    y_pred = predict(df_val, model)\n",
    "    \n",
    "    score = rmse(y_pred, y_val)\n",
    "    scores.append(score)\n",
    "    \n",
    "print('RMSE for model %s: %.5f +- %.5f' % (model, np.mean(scores), np.std(scores)))\n",
    "scores_mean.append(np.mean(scores))\n",
    "scores_std.append(np.std(scores))"
   ]
  },
  {
   "cell_type": "markdown",
   "metadata": {},
   "source": [
    "### e. XGBoost"
   ]
  },
  {
   "cell_type": "code",
   "execution_count": 318,
   "metadata": {},
   "outputs": [
    {
     "name": "stderr",
     "output_type": "stream",
     "text": [
      "5it [00:02,  1.85it/s]"
     ]
    },
    {
     "name": "stdout",
     "output_type": "stream",
     "text": [
      "RMSE for model XGBRegressor(base_score=None, booster=None, callbacks=None,\n",
      "             colsample_bylevel=None, colsample_bynode=None,\n",
      "             colsample_bytree=None, device=None, early_stopping_rounds=None,\n",
      "             enable_categorical=False, eval_metric=None, feature_types=None,\n",
      "             gamma=None, grow_policy=None, importance_type=None,\n",
      "             interaction_constraints=None, learning_rate=None, max_bin=None,\n",
      "             max_cat_threshold=None, max_cat_to_onehot=None,\n",
      "             max_delta_step=None, max_depth=None, max_leaves=None,\n",
      "             min_child_weight=None, missing=nan, monotone_constraints=None,\n",
      "             multi_strategy=None, n_estimators=None, n_jobs=None,\n",
      "             num_parallel_tree=None, random_state=None, ...): 0.40251 +- 0.02044\n"
     ]
    },
    {
     "name": "stderr",
     "output_type": "stream",
     "text": [
      "\n"
     ]
    }
   ],
   "source": [
    "xgbr = XGBRegressor()\n",
    "n_splits = 5 \n",
    "scores = []\n",
    "kfold = KFold(n_splits=n_splits, shuffle=True, random_state=1)\n",
    "    \n",
    "for train_idx, val_idx in tqdm(kfold.split(df_full_train)):\n",
    "    # data splitting\n",
    "    df_train = df_full_train.iloc[train_idx]\n",
    "    df_val = df_full_train.iloc[val_idx]\n",
    "        \n",
    "    # y values\n",
    "    y_train = np.log1p(df_train.rent.values)\n",
    "    y_val = np.log1p(df_val.rent.values)\n",
    "    \n",
    "    del df_train['rent']\n",
    "    del df_val['rent']\n",
    "        \n",
    "    # training and predicting\n",
    "    model = train(df_train, y_train, xgbr)\n",
    "    y_pred = predict(df_val, model)\n",
    "    \n",
    "    score = rmse(y_pred, y_val)\n",
    "    scores.append(score)\n",
    "    \n",
    "print('RMSE for model %s: %.5f +- %.5f' % (model, np.mean(scores), np.std(scores)))\n",
    "scores_mean.append(np.mean(scores))\n",
    "scores_std.append(np.std(scores))"
   ]
  },
  {
   "cell_type": "code",
   "execution_count": 319,
   "metadata": {},
   "outputs": [
    {
     "data": {
      "text/html": [
       "<div>\n",
       "<style scoped>\n",
       "    .dataframe tbody tr th:only-of-type {\n",
       "        vertical-align: middle;\n",
       "    }\n",
       "\n",
       "    .dataframe tbody tr th {\n",
       "        vertical-align: top;\n",
       "    }\n",
       "\n",
       "    .dataframe thead th {\n",
       "        text-align: right;\n",
       "    }\n",
       "</style>\n",
       "<table border=\"1\" class=\"dataframe\">\n",
       "  <thead>\n",
       "    <tr style=\"text-align: right;\">\n",
       "      <th></th>\n",
       "      <th>model</th>\n",
       "      <th>mean_rmse</th>\n",
       "      <th>std_rmse</th>\n",
       "    </tr>\n",
       "  </thead>\n",
       "  <tbody>\n",
       "    <tr>\n",
       "      <th>0</th>\n",
       "      <td>Linear_Regression</td>\n",
       "      <td>0.511053</td>\n",
       "      <td>0.015611</td>\n",
       "    </tr>\n",
       "    <tr>\n",
       "      <th>1</th>\n",
       "      <td>Ridge_Regression</td>\n",
       "      <td>0.511051</td>\n",
       "      <td>0.015616</td>\n",
       "    </tr>\n",
       "    <tr>\n",
       "      <th>2</th>\n",
       "      <td>Decision_Tree_Regressor</td>\n",
       "      <td>0.551193</td>\n",
       "      <td>0.015299</td>\n",
       "    </tr>\n",
       "    <tr>\n",
       "      <th>3</th>\n",
       "      <td>Random_Forest_Regressor</td>\n",
       "      <td>0.406169</td>\n",
       "      <td>0.016359</td>\n",
       "    </tr>\n",
       "    <tr>\n",
       "      <th>4</th>\n",
       "      <td>XGB_regressor</td>\n",
       "      <td>0.402510</td>\n",
       "      <td>0.020442</td>\n",
       "    </tr>\n",
       "  </tbody>\n",
       "</table>\n",
       "</div>"
      ],
      "text/plain": [
       "                     model  mean_rmse  std_rmse\n",
       "0        Linear_Regression   0.511053  0.015611\n",
       "1         Ridge_Regression   0.511051  0.015616\n",
       "2  Decision_Tree_Regressor   0.551193  0.015299\n",
       "3  Random_Forest_Regressor   0.406169  0.016359\n",
       "4            XGB_regressor   0.402510  0.020442"
      ]
     },
     "execution_count": 319,
     "metadata": {},
     "output_type": "execute_result"
    }
   ],
   "source": [
    "df_score = pd.DataFrame({'model': models, 'mean_rmse': scores_mean, 'std_rmse': scores_std})\n",
    "df_score"
   ]
  },
  {
   "cell_type": "code",
   "execution_count": 329,
   "metadata": {},
   "outputs": [
    {
     "data": {
      "text/plain": [
       "([0, 1, 2, 3, 4],\n",
       " [Text(0, 0, 'Linear_Regression'),\n",
       "  Text(1, 0, 'Ridge_Regression'),\n",
       "  Text(2, 0, 'Decision_Tree_Regressor'),\n",
       "  Text(3, 0, 'Random_Forest_Regressor'),\n",
       "  Text(4, 0, 'XGB_regressor')])"
      ]
     },
     "execution_count": 329,
     "metadata": {},
     "output_type": "execute_result"
    },
    {
     "data": {
      "image/png": "[encoded data removed]",
      "text/plain": [
       "<Figure size 640x480 with 1 Axes>"
      ]
     },
     "metadata": {},
     "output_type": "display_data"
    }
   ],
   "source": [
    "sns.barplot(data=df_score, x= 'model', y='mean_rmse', label = 'mean_rmse')\n",
    "sns.barplot(data=df_score, x= 'model', y='std_rmse', label = 'std_rmse')\n",
    "plt.title('Model comparison after K-fold cross-validation')\n",
    "plt.xticks(rotation=45)"
   ]
  },
  {
   "cell_type": "markdown",
   "metadata": {},
   "source": [
    "From these initial raw models without any tuning we can see that the Random forest and XGB regressors achieve the best mean rmse scores for the kfold validation, with the std having similar values for all models. The decision tree is the worst performer while linear and ridge regression achieve similar scores, taking into account the mean and the std"
   ]
  },
  {
   "cell_type": "markdown",
   "metadata": {},
   "source": [
    "## 4. Model Hyperparameter Tuning"
   ]
  },
  {
   "cell_type": "markdown",
   "metadata": {},
   "source": [
    "In this work the approach of tuning the models will be more automated using the available cross validation methods in scikit learn. In particular, for simple models (with the linear regression) will be tuned with GridSearchCV and the more complex models like random forest and xgboost regressors will be tuned first with RandomizedCV and then with GridSearchCV. \n",
    "This is inspired from the previous work that was referenced in the Readme file and extends the work in the previous course project where tuning was hardcoded and values were selected through plots and going step by step. We will be using the full_train datasets for this step which includes the validation and train sets and leave the test dataset for the final testing and model comparison."
   ]
  },
  {
   "cell_type": "code",
   "execution_count": 330,
   "metadata": {},
   "outputs": [
    {
     "data": {
      "text/html": [
       "<div>\n",
       "<style scoped>\n",
       "    .dataframe tbody tr th:only-of-type {\n",
       "        vertical-align: middle;\n",
       "    }\n",
       "\n",
       "    .dataframe tbody tr th {\n",
       "        vertical-align: top;\n",
       "    }\n",
       "\n",
       "    .dataframe thead th {\n",
       "        text-align: right;\n",
       "    }\n",
       "</style>\n",
       "<table border=\"1\" class=\"dataframe\">\n",
       "  <thead>\n",
       "    <tr style=\"text-align: right;\">\n",
       "      <th></th>\n",
       "      <th>posted_on</th>\n",
       "      <th>bhk</th>\n",
       "      <th>rent</th>\n",
       "      <th>size</th>\n",
       "      <th>floor</th>\n",
       "      <th>area_type</th>\n",
       "      <th>area_locality</th>\n",
       "      <th>city</th>\n",
       "      <th>furnishing_status</th>\n",
       "      <th>tenant_preferred</th>\n",
       "      <th>bathroom</th>\n",
       "      <th>point_of_contact</th>\n",
       "    </tr>\n",
       "  </thead>\n",
       "  <tbody>\n",
       "    <tr>\n",
       "      <th>1995</th>\n",
       "      <td>130</td>\n",
       "      <td>2</td>\n",
       "      <td>23500</td>\n",
       "      <td>950</td>\n",
       "      <td>377</td>\n",
       "      <td>2</td>\n",
       "      <td>310</td>\n",
       "      <td>0</td>\n",
       "      <td>1</td>\n",
       "      <td>1</td>\n",
       "      <td>2</td>\n",
       "      <td>2</td>\n",
       "    </tr>\n",
       "    <tr>\n",
       "      <th>1497</th>\n",
       "      <td>174</td>\n",
       "      <td>2</td>\n",
       "      <td>10500</td>\n",
       "      <td>800</td>\n",
       "      <td>289</td>\n",
       "      <td>2</td>\n",
       "      <td>1354</td>\n",
       "      <td>0</td>\n",
       "      <td>1</td>\n",
       "      <td>1</td>\n",
       "      <td>2</td>\n",
       "      <td>2</td>\n",
       "    </tr>\n",
       "    <tr>\n",
       "      <th>2763</th>\n",
       "      <td>164</td>\n",
       "      <td>1</td>\n",
       "      <td>19000</td>\n",
       "      <td>545</td>\n",
       "      <td>245</td>\n",
       "      <td>2</td>\n",
       "      <td>540</td>\n",
       "      <td>2</td>\n",
       "      <td>0</td>\n",
       "      <td>1</td>\n",
       "      <td>1</td>\n",
       "      <td>2</td>\n",
       "    </tr>\n",
       "    <tr>\n",
       "      <th>1351</th>\n",
       "      <td>188</td>\n",
       "      <td>1</td>\n",
       "      <td>20000</td>\n",
       "      <td>465</td>\n",
       "      <td>289</td>\n",
       "      <td>2</td>\n",
       "      <td>799</td>\n",
       "      <td>5</td>\n",
       "      <td>1</td>\n",
       "      <td>0</td>\n",
       "      <td>1</td>\n",
       "      <td>2</td>\n",
       "    </tr>\n",
       "    <tr>\n",
       "      <th>1862</th>\n",
       "      <td>185</td>\n",
       "      <td>2</td>\n",
       "      <td>17000</td>\n",
       "      <td>900</td>\n",
       "      <td>325</td>\n",
       "      <td>2</td>\n",
       "      <td>304</td>\n",
       "      <td>0</td>\n",
       "      <td>0</td>\n",
       "      <td>1</td>\n",
       "      <td>2</td>\n",
       "      <td>2</td>\n",
       "    </tr>\n",
       "    <tr>\n",
       "      <th>...</th>\n",
       "      <td>...</td>\n",
       "      <td>...</td>\n",
       "      <td>...</td>\n",
       "      <td>...</td>\n",
       "      <td>...</td>\n",
       "      <td>...</td>\n",
       "      <td>...</td>\n",
       "      <td>...</td>\n",
       "      <td>...</td>\n",
       "      <td>...</td>\n",
       "      <td>...</td>\n",
       "      <td>...</td>\n",
       "    </tr>\n",
       "    <tr>\n",
       "      <th>4426</th>\n",
       "      <td>180</td>\n",
       "      <td>3</td>\n",
       "      <td>25000</td>\n",
       "      <td>1500</td>\n",
       "      <td>172</td>\n",
       "      <td>1</td>\n",
       "      <td>174</td>\n",
       "      <td>3</td>\n",
       "      <td>1</td>\n",
       "      <td>2</td>\n",
       "      <td>3</td>\n",
       "      <td>2</td>\n",
       "    </tr>\n",
       "    <tr>\n",
       "      <th>466</th>\n",
       "      <td>164</td>\n",
       "      <td>3</td>\n",
       "      <td>20000</td>\n",
       "      <td>1200</td>\n",
       "      <td>286</td>\n",
       "      <td>2</td>\n",
       "      <td>228</td>\n",
       "      <td>4</td>\n",
       "      <td>2</td>\n",
       "      <td>1</td>\n",
       "      <td>2</td>\n",
       "      <td>2</td>\n",
       "    </tr>\n",
       "    <tr>\n",
       "      <th>3092</th>\n",
       "      <td>187</td>\n",
       "      <td>2</td>\n",
       "      <td>20000</td>\n",
       "      <td>800</td>\n",
       "      <td>62</td>\n",
       "      <td>1</td>\n",
       "      <td>2106</td>\n",
       "      <td>1</td>\n",
       "      <td>1</td>\n",
       "      <td>2</td>\n",
       "      <td>2</td>\n",
       "      <td>0</td>\n",
       "    </tr>\n",
       "    <tr>\n",
       "      <th>3772</th>\n",
       "      <td>137</td>\n",
       "      <td>3</td>\n",
       "      <td>85000</td>\n",
       "      <td>3500</td>\n",
       "      <td>447</td>\n",
       "      <td>1</td>\n",
       "      <td>2009</td>\n",
       "      <td>1</td>\n",
       "      <td>1</td>\n",
       "      <td>1</td>\n",
       "      <td>3</td>\n",
       "      <td>0</td>\n",
       "    </tr>\n",
       "    <tr>\n",
       "      <th>860</th>\n",
       "      <td>171</td>\n",
       "      <td>1</td>\n",
       "      <td>25000</td>\n",
       "      <td>450</td>\n",
       "      <td>352</td>\n",
       "      <td>1</td>\n",
       "      <td>661</td>\n",
       "      <td>5</td>\n",
       "      <td>1</td>\n",
       "      <td>0</td>\n",
       "      <td>2</td>\n",
       "      <td>0</td>\n",
       "    </tr>\n",
       "  </tbody>\n",
       "</table>\n",
       "<p>3796 rows × 12 columns</p>\n",
       "</div>"
      ],
      "text/plain": [
       "      posted_on  bhk   rent  size  floor  area_type  area_locality  city  \\\n",
       "1995        130    2  23500   950    377          2            310     0   \n",
       "1497        174    2  10500   800    289          2           1354     0   \n",
       "2763        164    1  19000   545    245          2            540     2   \n",
       "1351        188    1  20000   465    289          2            799     5   \n",
       "1862        185    2  17000   900    325          2            304     0   \n",
       "...         ...  ...    ...   ...    ...        ...            ...   ...   \n",
       "4426        180    3  25000  1500    172          1            174     3   \n",
       "466         164    3  20000  1200    286          2            228     4   \n",
       "3092        187    2  20000   800     62          1           2106     1   \n",
       "3772        137    3  85000  3500    447          1           2009     1   \n",
       "860         171    1  25000   450    352          1            661     5   \n",
       "\n",
       "      furnishing_status  tenant_preferred  bathroom  point_of_contact  \n",
       "1995                  1                 1         2                 2  \n",
       "1497                  1                 1         2                 2  \n",
       "2763                  0                 1         1                 2  \n",
       "1351                  1                 0         1                 2  \n",
       "1862                  0                 1         2                 2  \n",
       "...                 ...               ...       ...               ...  \n",
       "4426                  1                 2         3                 2  \n",
       "466                   2                 1         2                 2  \n",
       "3092                  1                 2         2                 0  \n",
       "3772                  1                 1         3                 0  \n",
       "860                   1                 0         2                 0  \n",
       "\n",
       "[3796 rows x 12 columns]"
      ]
     },
     "execution_count": 330,
     "metadata": {},
     "output_type": "execute_result"
    }
   ],
   "source": [
    "df_full_train"
   ]
  },
  {
   "cell_type": "code",
   "execution_count": 332,
   "metadata": {},
   "outputs": [],
   "source": [
    "y_full_train = np.log1p(df_full_train.rent)\n",
    "\n",
    "del df_full_train['rent']\n",
    "\n",
    "X_full_train = df_full_train.values"
   ]
  },
  {
   "cell_type": "markdown",
   "metadata": {},
   "source": [
    "### Linear Regression"
   ]
  },
  {
   "cell_type": "code",
   "execution_count": 338,
   "metadata": {},
   "outputs": [
    {
     "data": {
      "text/plain": [
       "{'copy_X': True, 'fit_intercept': True, 'positive': False}"
      ]
     },
     "execution_count": 338,
     "metadata": {},
     "output_type": "execute_result"
    }
   ],
   "source": [
    "parameters = {'fit_intercept':(True, False), 'copy_X': (True, False), 'positive':(True, False)}\n",
    "\n",
    "clf = GridSearchCV(lr, parameters)\n",
    "clf.fit(X_full_train, y_full_train)\n",
    "clf.best_params_"
   ]
  },
  {
   "cell_type": "markdown",
   "metadata": {},
   "source": [
    "These are also the default parameters for the linear regression."
   ]
  },
  {
   "cell_type": "markdown",
   "metadata": {},
   "source": [
    "### Ridge Regression"
   ]
  },
  {
   "cell_type": "markdown",
   "metadata": {},
   "source": [
    "For ridge regression there are more parameters that could be tuned but remember it proved to have a similar initial score, applying the grid search takes much more time if we want to look into the whole space (~ 1min) and its probably more appropriate to use first a randomized search. I put it commented so it doesnt slow down the notebook execution, but you can try it out."
   ]
  },
  {
   "cell_type": "code",
   "execution_count": 340,
   "metadata": {},
   "outputs": [
    {
     "name": "stderr",
     "output_type": "stream",
     "text": [
      "/home/gverikios/.local/share/virtualenvs/House_Rent_Prediction-dMCN_mMg/lib/python3.10/site-packages/sklearn/linear_model/_ridge.py:342: ConvergenceWarning: The lbfgs solver did not converge. Try increasing max_iter or tol. Currently: max_iter=10 and tol=0.0001\n",
      "  return f, grad\n",
      "/home/gverikios/.local/share/virtualenvs/House_Rent_Prediction-dMCN_mMg/lib/python3.10/site-packages/sklearn/linear_model/_ridge.py:342: ConvergenceWarning: The lbfgs solver did not converge. Try increasing max_iter or tol. Currently: max_iter=10 and tol=0.0001\n",
      "  return f, grad\n",
      "/home/gverikios/.local/share/virtualenvs/House_Rent_Prediction-dMCN_mMg/lib/python3.10/site-packages/sklearn/linear_model/_ridge.py:342: ConvergenceWarning: The lbfgs solver did not converge. Try increasing max_iter or tol. Currently: max_iter=10 and tol=0.0001\n",
      "  return f, grad\n",
      "/home/gverikios/.local/share/virtualenvs/House_Rent_Prediction-dMCN_mMg/lib/python3.10/site-packages/sklearn/linear_model/_ridge.py:342: ConvergenceWarning: The lbfgs solver did not converge. Try increasing max_iter or tol. Currently: max_iter=10 and tol=0.0001\n",
      "  return f, grad\n",
      "/home/gverikios/.local/share/virtualenvs/House_Rent_Prediction-dMCN_mMg/lib/python3.10/site-packages/sklearn/linear_model/_ridge.py:342: ConvergenceWarning: The lbfgs solver did not converge. Try increasing max_iter or tol. Currently: max_iter=10 and tol=0.001\n",
      "  return f, grad\n",
      "/home/gverikios/.local/share/virtualenvs/House_Rent_Prediction-dMCN_mMg/lib/python3.10/site-packages/sklearn/linear_model/_ridge.py:342: ConvergenceWarning: The lbfgs solver did not converge. Try increasing max_iter or tol. Currently: max_iter=10 and tol=0.001\n",
      "  return f, grad\n",
      "/home/gverikios/.local/share/virtualenvs/House_Rent_Prediction-dMCN_mMg/lib/python3.10/site-packages/sklearn/linear_model/_ridge.py:342: ConvergenceWarning: The lbfgs solver did not converge. Try increasing max_iter or tol. Currently: max_iter=10 and tol=0.0001\n",
      "  return f, grad\n",
      "/home/gverikios/.local/share/virtualenvs/House_Rent_Prediction-dMCN_mMg/lib/python3.10/site-packages/sklearn/linear_model/_ridge.py:342: ConvergenceWarning: The lbfgs solver did not converge. Try increasing max_iter or tol. Currently: max_iter=10 and tol=0.0001\n",
      "  return f, grad\n",
      "/home/gverikios/.local/share/virtualenvs/House_Rent_Prediction-dMCN_mMg/lib/python3.10/site-packages/sklearn/linear_model/_ridge.py:342: ConvergenceWarning: The lbfgs solver did not converge. Try increasing max_iter or tol. Currently: max_iter=10 and tol=0.0001\n",
      "  return f, grad\n",
      "/home/gverikios/.local/share/virtualenvs/House_Rent_Prediction-dMCN_mMg/lib/python3.10/site-packages/sklearn/linear_model/_ridge.py:342: ConvergenceWarning: The lbfgs solver did not converge. Try increasing max_iter or tol. Currently: max_iter=10 and tol=0.0001\n",
      "  return f, grad\n",
      "/home/gverikios/.local/share/virtualenvs/House_Rent_Prediction-dMCN_mMg/lib/python3.10/site-packages/sklearn/linear_model/_ridge.py:342: ConvergenceWarning: The lbfgs solver did not converge. Try increasing max_iter or tol. Currently: max_iter=10 and tol=0.0001\n",
      "  return f, grad\n",
      "/home/gverikios/.local/share/virtualenvs/House_Rent_Prediction-dMCN_mMg/lib/python3.10/site-packages/sklearn/linear_model/_ridge.py:342: ConvergenceWarning: The lbfgs solver did not converge. Try increasing max_iter or tol. Currently: max_iter=10 and tol=0.001\n",
      "  return f, grad\n",
      "/home/gverikios/.local/share/virtualenvs/House_Rent_Prediction-dMCN_mMg/lib/python3.10/site-packages/sklearn/linear_model/_ridge.py:342: ConvergenceWarning: The lbfgs solver did not converge. Try increasing max_iter or tol. Currently: max_iter=10 and tol=0.001\n",
      "  return f, grad\n",
      "/home/gverikios/.local/share/virtualenvs/House_Rent_Prediction-dMCN_mMg/lib/python3.10/site-packages/sklearn/linear_model/_ridge.py:342: ConvergenceWarning: The lbfgs solver did not converge. Try increasing max_iter or tol. Currently: max_iter=10 and tol=0.001\n",
      "  return f, grad\n",
      "/home/gverikios/.local/share/virtualenvs/House_Rent_Prediction-dMCN_mMg/lib/python3.10/site-packages/sklearn/linear_model/_ridge.py:342: ConvergenceWarning: The lbfgs solver did not converge. Try increasing max_iter or tol. Currently: max_iter=10 and tol=0.001\n",
      "  return f, grad\n",
      "/home/gverikios/.local/share/virtualenvs/House_Rent_Prediction-dMCN_mMg/lib/python3.10/site-packages/sklearn/linear_model/_ridge.py:342: ConvergenceWarning: The lbfgs solver did not converge. Try increasing max_iter or tol. Currently: max_iter=10 and tol=0.001\n",
      "  return f, grad\n",
      "/home/gverikios/.local/share/virtualenvs/House_Rent_Prediction-dMCN_mMg/lib/python3.10/site-packages/sklearn/linear_model/_ridge.py:342: ConvergenceWarning: The lbfgs solver did not converge. Try increasing max_iter or tol. Currently: max_iter=10 and tol=0.01\n",
      "  return f, grad\n",
      "/home/gverikios/.local/share/virtualenvs/House_Rent_Prediction-dMCN_mMg/lib/python3.10/site-packages/sklearn/linear_model/_ridge.py:342: ConvergenceWarning: The lbfgs solver did not converge. Try increasing max_iter or tol. Currently: max_iter=10 and tol=0.01\n",
      "  return f, grad\n",
      "/home/gverikios/.local/share/virtualenvs/House_Rent_Prediction-dMCN_mMg/lib/python3.10/site-packages/sklearn/linear_model/_ridge.py:342: ConvergenceWarning: The lbfgs solver did not converge. Try increasing max_iter or tol. Currently: max_iter=10 and tol=0.01\n",
      "  return f, grad\n",
      "/home/gverikios/.local/share/virtualenvs/House_Rent_Prediction-dMCN_mMg/lib/python3.10/site-packages/sklearn/linear_model/_ridge.py:342: ConvergenceWarning: The lbfgs solver did not converge. Try increasing max_iter or tol. Currently: max_iter=10 and tol=0.01\n",
      "  return f, grad\n",
      "/home/gverikios/.local/share/virtualenvs/House_Rent_Prediction-dMCN_mMg/lib/python3.10/site-packages/sklearn/linear_model/_ridge.py:342: ConvergenceWarning: The lbfgs solver did not converge. Try increasing max_iter or tol. Currently: max_iter=10 and tol=0.01\n",
      "  return f, grad\n",
      "/home/gverikios/.local/share/virtualenvs/House_Rent_Prediction-dMCN_mMg/lib/python3.10/site-packages/sklearn/linear_model/_ridge.py:342: ConvergenceWarning: The lbfgs solver did not converge. Try increasing max_iter or tol. Currently: max_iter=10 and tol=0.0001\n",
      "  return f, grad\n",
      "/home/gverikios/.local/share/virtualenvs/House_Rent_Prediction-dMCN_mMg/lib/python3.10/site-packages/sklearn/linear_model/_ridge.py:342: ConvergenceWarning: The lbfgs solver did not converge. Try increasing max_iter or tol. Currently: max_iter=10 and tol=0.0001\n",
      "  return f, grad\n",
      "/home/gverikios/.local/share/virtualenvs/House_Rent_Prediction-dMCN_mMg/lib/python3.10/site-packages/sklearn/linear_model/_ridge.py:342: ConvergenceWarning: The lbfgs solver did not converge. Try increasing max_iter or tol. Currently: max_iter=10 and tol=0.0001\n",
      "  return f, grad\n",
      "/home/gverikios/.local/share/virtualenvs/House_Rent_Prediction-dMCN_mMg/lib/python3.10/site-packages/sklearn/linear_model/_ridge.py:342: ConvergenceWarning: The lbfgs solver did not converge. Try increasing max_iter or tol. Currently: max_iter=10 and tol=0.0001\n",
      "  return f, grad\n",
      "/home/gverikios/.local/share/virtualenvs/House_Rent_Prediction-dMCN_mMg/lib/python3.10/site-packages/sklearn/linear_model/_ridge.py:342: ConvergenceWarning: The lbfgs solver did not converge. Try increasing max_iter or tol. Currently: max_iter=10 and tol=0.001\n",
      "  return f, grad\n",
      "/home/gverikios/.local/share/virtualenvs/House_Rent_Prediction-dMCN_mMg/lib/python3.10/site-packages/sklearn/linear_model/_ridge.py:342: ConvergenceWarning: The lbfgs solver did not converge. Try increasing max_iter or tol. Currently: max_iter=10 and tol=0.001\n",
      "  return f, grad\n",
      "/home/gverikios/.local/share/virtualenvs/House_Rent_Prediction-dMCN_mMg/lib/python3.10/site-packages/sklearn/linear_model/_ridge.py:342: ConvergenceWarning: The lbfgs solver did not converge. Try increasing max_iter or tol. Currently: max_iter=10 and tol=0.0001\n",
      "  return f, grad\n",
      "/home/gverikios/.local/share/virtualenvs/House_Rent_Prediction-dMCN_mMg/lib/python3.10/site-packages/sklearn/linear_model/_ridge.py:342: ConvergenceWarning: The lbfgs solver did not converge. Try increasing max_iter or tol. Currently: max_iter=10 and tol=0.0001\n",
      "  return f, grad\n",
      "/home/gverikios/.local/share/virtualenvs/House_Rent_Prediction-dMCN_mMg/lib/python3.10/site-packages/sklearn/linear_model/_ridge.py:342: ConvergenceWarning: The lbfgs solver did not converge. Try increasing max_iter or tol. Currently: max_iter=10 and tol=0.0001\n",
      "  return f, grad\n",
      "/home/gverikios/.local/share/virtualenvs/House_Rent_Prediction-dMCN_mMg/lib/python3.10/site-packages/sklearn/linear_model/_ridge.py:342: ConvergenceWarning: The lbfgs solver did not converge. Try increasing max_iter or tol. Currently: max_iter=10 and tol=0.0001\n",
      "  return f, grad\n",
      "/home/gverikios/.local/share/virtualenvs/House_Rent_Prediction-dMCN_mMg/lib/python3.10/site-packages/sklearn/linear_model/_ridge.py:342: ConvergenceWarning: The lbfgs solver did not converge. Try increasing max_iter or tol. Currently: max_iter=10 and tol=0.0001\n",
      "  return f, grad\n",
      "/home/gverikios/.local/share/virtualenvs/House_Rent_Prediction-dMCN_mMg/lib/python3.10/site-packages/sklearn/linear_model/_ridge.py:342: ConvergenceWarning: The lbfgs solver did not converge. Try increasing max_iter or tol. Currently: max_iter=10 and tol=0.001\n",
      "  return f, grad\n",
      "/home/gverikios/.local/share/virtualenvs/House_Rent_Prediction-dMCN_mMg/lib/python3.10/site-packages/sklearn/linear_model/_ridge.py:342: ConvergenceWarning: The lbfgs solver did not converge. Try increasing max_iter or tol. Currently: max_iter=10 and tol=0.001\n",
      "  return f, grad\n",
      "/home/gverikios/.local/share/virtualenvs/House_Rent_Prediction-dMCN_mMg/lib/python3.10/site-packages/sklearn/linear_model/_ridge.py:342: ConvergenceWarning: The lbfgs solver did not converge. Try increasing max_iter or tol. Currently: max_iter=10 and tol=0.001\n",
      "  return f, grad\n",
      "/home/gverikios/.local/share/virtualenvs/House_Rent_Prediction-dMCN_mMg/lib/python3.10/site-packages/sklearn/linear_model/_ridge.py:342: ConvergenceWarning: The lbfgs solver did not converge. Try increasing max_iter or tol. Currently: max_iter=10 and tol=0.001\n",
      "  return f, grad\n",
      "/home/gverikios/.local/share/virtualenvs/House_Rent_Prediction-dMCN_mMg/lib/python3.10/site-packages/sklearn/linear_model/_ridge.py:342: ConvergenceWarning: The lbfgs solver did not converge. Try increasing max_iter or tol. Currently: max_iter=10 and tol=0.001\n",
      "  return f, grad\n",
      "/home/gverikios/.local/share/virtualenvs/House_Rent_Prediction-dMCN_mMg/lib/python3.10/site-packages/sklearn/linear_model/_ridge.py:342: ConvergenceWarning: The lbfgs solver did not converge. Try increasing max_iter or tol. Currently: max_iter=10 and tol=0.01\n",
      "  return f, grad\n",
      "/home/gverikios/.local/share/virtualenvs/House_Rent_Prediction-dMCN_mMg/lib/python3.10/site-packages/sklearn/linear_model/_ridge.py:342: ConvergenceWarning: The lbfgs solver did not converge. Try increasing max_iter or tol. Currently: max_iter=10 and tol=0.01\n",
      "  return f, grad\n",
      "/home/gverikios/.local/share/virtualenvs/House_Rent_Prediction-dMCN_mMg/lib/python3.10/site-packages/sklearn/linear_model/_ridge.py:342: ConvergenceWarning: The lbfgs solver did not converge. Try increasing max_iter or tol. Currently: max_iter=10 and tol=0.01\n",
      "  return f, grad\n",
      "/home/gverikios/.local/share/virtualenvs/House_Rent_Prediction-dMCN_mMg/lib/python3.10/site-packages/sklearn/linear_model/_ridge.py:342: ConvergenceWarning: The lbfgs solver did not converge. Try increasing max_iter or tol. Currently: max_iter=10 and tol=0.01\n",
      "  return f, grad\n",
      "/home/gverikios/.local/share/virtualenvs/House_Rent_Prediction-dMCN_mMg/lib/python3.10/site-packages/sklearn/linear_model/_ridge.py:342: ConvergenceWarning: The lbfgs solver did not converge. Try increasing max_iter or tol. Currently: max_iter=10 and tol=0.01\n",
      "  return f, grad\n",
      "/home/gverikios/.local/share/virtualenvs/House_Rent_Prediction-dMCN_mMg/lib/python3.10/site-packages/sklearn/linear_model/_ridge.py:342: ConvergenceWarning: The lbfgs solver did not converge. Try increasing max_iter or tol. Currently: max_iter=10 and tol=0.0001\n",
      "  return f, grad\n",
      "/home/gverikios/.local/share/virtualenvs/House_Rent_Prediction-dMCN_mMg/lib/python3.10/site-packages/sklearn/linear_model/_ridge.py:342: ConvergenceWarning: The lbfgs solver did not converge. Try increasing max_iter or tol. Currently: max_iter=10 and tol=0.0001\n",
      "  return f, grad\n",
      "/home/gverikios/.local/share/virtualenvs/House_Rent_Prediction-dMCN_mMg/lib/python3.10/site-packages/sklearn/linear_model/_ridge.py:342: ConvergenceWarning: The lbfgs solver did not converge. Try increasing max_iter or tol. Currently: max_iter=10 and tol=0.0001\n",
      "  return f, grad\n",
      "/home/gverikios/.local/share/virtualenvs/House_Rent_Prediction-dMCN_mMg/lib/python3.10/site-packages/sklearn/linear_model/_ridge.py:342: ConvergenceWarning: The lbfgs solver did not converge. Try increasing max_iter or tol. Currently: max_iter=10 and tol=0.0001\n",
      "  return f, grad\n",
      "/home/gverikios/.local/share/virtualenvs/House_Rent_Prediction-dMCN_mMg/lib/python3.10/site-packages/sklearn/linear_model/_ridge.py:342: ConvergenceWarning: The lbfgs solver did not converge. Try increasing max_iter or tol. Currently: max_iter=10 and tol=0.001\n",
      "  return f, grad\n",
      "/home/gverikios/.local/share/virtualenvs/House_Rent_Prediction-dMCN_mMg/lib/python3.10/site-packages/sklearn/linear_model/_ridge.py:342: ConvergenceWarning: The lbfgs solver did not converge. Try increasing max_iter or tol. Currently: max_iter=10 and tol=0.001\n",
      "  return f, grad\n",
      "/home/gverikios/.local/share/virtualenvs/House_Rent_Prediction-dMCN_mMg/lib/python3.10/site-packages/sklearn/linear_model/_ridge.py:342: ConvergenceWarning: The lbfgs solver did not converge. Try increasing max_iter or tol. Currently: max_iter=10 and tol=0.0001\n",
      "  return f, grad\n",
      "/home/gverikios/.local/share/virtualenvs/House_Rent_Prediction-dMCN_mMg/lib/python3.10/site-packages/sklearn/linear_model/_ridge.py:342: ConvergenceWarning: The lbfgs solver did not converge. Try increasing max_iter or tol. Currently: max_iter=10 and tol=0.0001\n",
      "  return f, grad\n",
      "/home/gverikios/.local/share/virtualenvs/House_Rent_Prediction-dMCN_mMg/lib/python3.10/site-packages/sklearn/linear_model/_ridge.py:342: ConvergenceWarning: The lbfgs solver did not converge. Try increasing max_iter or tol. Currently: max_iter=10 and tol=0.0001\n",
      "  return f, grad\n",
      "/home/gverikios/.local/share/virtualenvs/House_Rent_Prediction-dMCN_mMg/lib/python3.10/site-packages/sklearn/linear_model/_ridge.py:342: ConvergenceWarning: The lbfgs solver did not converge. Try increasing max_iter or tol. Currently: max_iter=10 and tol=0.0001\n",
      "  return f, grad\n",
      "/home/gverikios/.local/share/virtualenvs/House_Rent_Prediction-dMCN_mMg/lib/python3.10/site-packages/sklearn/linear_model/_ridge.py:342: ConvergenceWarning: The lbfgs solver did not converge. Try increasing max_iter or tol. Currently: max_iter=10 and tol=0.0001\n",
      "  return f, grad\n",
      "/home/gverikios/.local/share/virtualenvs/House_Rent_Prediction-dMCN_mMg/lib/python3.10/site-packages/sklearn/linear_model/_ridge.py:342: ConvergenceWarning: The lbfgs solver did not converge. Try increasing max_iter or tol. Currently: max_iter=10 and tol=0.001\n",
      "  return f, grad\n",
      "/home/gverikios/.local/share/virtualenvs/House_Rent_Prediction-dMCN_mMg/lib/python3.10/site-packages/sklearn/linear_model/_ridge.py:342: ConvergenceWarning: The lbfgs solver did not converge. Try increasing max_iter or tol. Currently: max_iter=10 and tol=0.001\n",
      "  return f, grad\n",
      "/home/gverikios/.local/share/virtualenvs/House_Rent_Prediction-dMCN_mMg/lib/python3.10/site-packages/sklearn/linear_model/_ridge.py:342: ConvergenceWarning: The lbfgs solver did not converge. Try increasing max_iter or tol. Currently: max_iter=10 and tol=0.001\n",
      "  return f, grad\n",
      "/home/gverikios/.local/share/virtualenvs/House_Rent_Prediction-dMCN_mMg/lib/python3.10/site-packages/sklearn/linear_model/_ridge.py:342: ConvergenceWarning: The lbfgs solver did not converge. Try increasing max_iter or tol. Currently: max_iter=10 and tol=0.001\n",
      "  return f, grad\n",
      "/home/gverikios/.local/share/virtualenvs/House_Rent_Prediction-dMCN_mMg/lib/python3.10/site-packages/sklearn/linear_model/_ridge.py:342: ConvergenceWarning: The lbfgs solver did not converge. Try increasing max_iter or tol. Currently: max_iter=10 and tol=0.001\n",
      "  return f, grad\n",
      "/home/gverikios/.local/share/virtualenvs/House_Rent_Prediction-dMCN_mMg/lib/python3.10/site-packages/sklearn/linear_model/_ridge.py:342: ConvergenceWarning: The lbfgs solver did not converge. Try increasing max_iter or tol. Currently: max_iter=10 and tol=0.01\n",
      "  return f, grad\n",
      "/home/gverikios/.local/share/virtualenvs/House_Rent_Prediction-dMCN_mMg/lib/python3.10/site-packages/sklearn/linear_model/_ridge.py:342: ConvergenceWarning: The lbfgs solver did not converge. Try increasing max_iter or tol. Currently: max_iter=10 and tol=0.01\n",
      "  return f, grad\n",
      "/home/gverikios/.local/share/virtualenvs/House_Rent_Prediction-dMCN_mMg/lib/python3.10/site-packages/sklearn/linear_model/_ridge.py:342: ConvergenceWarning: The lbfgs solver did not converge. Try increasing max_iter or tol. Currently: max_iter=10 and tol=0.01\n",
      "  return f, grad\n",
      "/home/gverikios/.local/share/virtualenvs/House_Rent_Prediction-dMCN_mMg/lib/python3.10/site-packages/sklearn/linear_model/_ridge.py:342: ConvergenceWarning: The lbfgs solver did not converge. Try increasing max_iter or tol. Currently: max_iter=10 and tol=0.01\n",
      "  return f, grad\n",
      "/home/gverikios/.local/share/virtualenvs/House_Rent_Prediction-dMCN_mMg/lib/python3.10/site-packages/sklearn/linear_model/_ridge.py:342: ConvergenceWarning: The lbfgs solver did not converge. Try increasing max_iter or tol. Currently: max_iter=10 and tol=0.01\n",
      "  return f, grad\n",
      "/home/gverikios/.local/share/virtualenvs/House_Rent_Prediction-dMCN_mMg/lib/python3.10/site-packages/sklearn/linear_model/_ridge.py:342: ConvergenceWarning: The lbfgs solver did not converge. Try increasing max_iter or tol. Currently: max_iter=10 and tol=0.0001\n",
      "  return f, grad\n",
      "/home/gverikios/.local/share/virtualenvs/House_Rent_Prediction-dMCN_mMg/lib/python3.10/site-packages/sklearn/linear_model/_ridge.py:342: ConvergenceWarning: The lbfgs solver did not converge. Try increasing max_iter or tol. Currently: max_iter=10 and tol=0.0001\n",
      "  return f, grad\n",
      "/home/gverikios/.local/share/virtualenvs/House_Rent_Prediction-dMCN_mMg/lib/python3.10/site-packages/sklearn/linear_model/_ridge.py:342: ConvergenceWarning: The lbfgs solver did not converge. Try increasing max_iter or tol. Currently: max_iter=10 and tol=0.0001\n",
      "  return f, grad\n",
      "/home/gverikios/.local/share/virtualenvs/House_Rent_Prediction-dMCN_mMg/lib/python3.10/site-packages/sklearn/linear_model/_ridge.py:342: ConvergenceWarning: The lbfgs solver did not converge. Try increasing max_iter or tol. Currently: max_iter=10 and tol=0.0001\n",
      "  return f, grad\n",
      "/home/gverikios/.local/share/virtualenvs/House_Rent_Prediction-dMCN_mMg/lib/python3.10/site-packages/sklearn/linear_model/_ridge.py:342: ConvergenceWarning: The lbfgs solver did not converge. Try increasing max_iter or tol. Currently: max_iter=10 and tol=0.001\n",
      "  return f, grad\n",
      "/home/gverikios/.local/share/virtualenvs/House_Rent_Prediction-dMCN_mMg/lib/python3.10/site-packages/sklearn/linear_model/_ridge.py:342: ConvergenceWarning: The lbfgs solver did not converge. Try increasing max_iter or tol. Currently: max_iter=10 and tol=0.001\n",
      "  return f, grad\n",
      "/home/gverikios/.local/share/virtualenvs/House_Rent_Prediction-dMCN_mMg/lib/python3.10/site-packages/sklearn/linear_model/_ridge.py:342: ConvergenceWarning: The lbfgs solver did not converge. Try increasing max_iter or tol. Currently: max_iter=10 and tol=0.0001\n",
      "  return f, grad\n",
      "/home/gverikios/.local/share/virtualenvs/House_Rent_Prediction-dMCN_mMg/lib/python3.10/site-packages/sklearn/linear_model/_ridge.py:342: ConvergenceWarning: The lbfgs solver did not converge. Try increasing max_iter or tol. Currently: max_iter=10 and tol=0.0001\n",
      "  return f, grad\n",
      "/home/gverikios/.local/share/virtualenvs/House_Rent_Prediction-dMCN_mMg/lib/python3.10/site-packages/sklearn/linear_model/_ridge.py:342: ConvergenceWarning: The lbfgs solver did not converge. Try increasing max_iter or tol. Currently: max_iter=10 and tol=0.0001\n",
      "  return f, grad\n",
      "/home/gverikios/.local/share/virtualenvs/House_Rent_Prediction-dMCN_mMg/lib/python3.10/site-packages/sklearn/linear_model/_ridge.py:342: ConvergenceWarning: The lbfgs solver did not converge. Try increasing max_iter or tol. Currently: max_iter=10 and tol=0.0001\n",
      "  return f, grad\n",
      "/home/gverikios/.local/share/virtualenvs/House_Rent_Prediction-dMCN_mMg/lib/python3.10/site-packages/sklearn/linear_model/_ridge.py:342: ConvergenceWarning: The lbfgs solver did not converge. Try increasing max_iter or tol. Currently: max_iter=10 and tol=0.0001\n",
      "  return f, grad\n",
      "/home/gverikios/.local/share/virtualenvs/House_Rent_Prediction-dMCN_mMg/lib/python3.10/site-packages/sklearn/linear_model/_ridge.py:342: ConvergenceWarning: The lbfgs solver did not converge. Try increasing max_iter or tol. Currently: max_iter=10 and tol=0.001\n",
      "  return f, grad\n",
      "/home/gverikios/.local/share/virtualenvs/House_Rent_Prediction-dMCN_mMg/lib/python3.10/site-packages/sklearn/linear_model/_ridge.py:342: ConvergenceWarning: The lbfgs solver did not converge. Try increasing max_iter or tol. Currently: max_iter=10 and tol=0.001\n",
      "  return f, grad\n",
      "/home/gverikios/.local/share/virtualenvs/House_Rent_Prediction-dMCN_mMg/lib/python3.10/site-packages/sklearn/linear_model/_ridge.py:342: ConvergenceWarning: The lbfgs solver did not converge. Try increasing max_iter or tol. Currently: max_iter=10 and tol=0.001\n",
      "  return f, grad\n",
      "/home/gverikios/.local/share/virtualenvs/House_Rent_Prediction-dMCN_mMg/lib/python3.10/site-packages/sklearn/linear_model/_ridge.py:342: ConvergenceWarning: The lbfgs solver did not converge. Try increasing max_iter or tol. Currently: max_iter=10 and tol=0.001\n",
      "  return f, grad\n",
      "/home/gverikios/.local/share/virtualenvs/House_Rent_Prediction-dMCN_mMg/lib/python3.10/site-packages/sklearn/linear_model/_ridge.py:342: ConvergenceWarning: The lbfgs solver did not converge. Try increasing max_iter or tol. Currently: max_iter=10 and tol=0.001\n",
      "  return f, grad\n",
      "/home/gverikios/.local/share/virtualenvs/House_Rent_Prediction-dMCN_mMg/lib/python3.10/site-packages/sklearn/linear_model/_ridge.py:342: ConvergenceWarning: The lbfgs solver did not converge. Try increasing max_iter or tol. Currently: max_iter=10 and tol=0.01\n",
      "  return f, grad\n",
      "/home/gverikios/.local/share/virtualenvs/House_Rent_Prediction-dMCN_mMg/lib/python3.10/site-packages/sklearn/linear_model/_ridge.py:342: ConvergenceWarning: The lbfgs solver did not converge. Try increasing max_iter or tol. Currently: max_iter=10 and tol=0.01\n",
      "  return f, grad\n",
      "/home/gverikios/.local/share/virtualenvs/House_Rent_Prediction-dMCN_mMg/lib/python3.10/site-packages/sklearn/linear_model/_ridge.py:342: ConvergenceWarning: The lbfgs solver did not converge. Try increasing max_iter or tol. Currently: max_iter=10 and tol=0.01\n",
      "  return f, grad\n",
      "/home/gverikios/.local/share/virtualenvs/House_Rent_Prediction-dMCN_mMg/lib/python3.10/site-packages/sklearn/linear_model/_ridge.py:342: ConvergenceWarning: The lbfgs solver did not converge. Try increasing max_iter or tol. Currently: max_iter=10 and tol=0.01\n",
      "  return f, grad\n",
      "/home/gverikios/.local/share/virtualenvs/House_Rent_Prediction-dMCN_mMg/lib/python3.10/site-packages/sklearn/linear_model/_ridge.py:342: ConvergenceWarning: The lbfgs solver did not converge. Try increasing max_iter or tol. Currently: max_iter=10 and tol=0.01\n",
      "  return f, grad\n",
      "/home/gverikios/.local/share/virtualenvs/House_Rent_Prediction-dMCN_mMg/lib/python3.10/site-packages/sklearn/linear_model/_ridge.py:342: ConvergenceWarning: The lbfgs solver did not converge. Try increasing max_iter or tol. Currently: max_iter=10 and tol=0.0001\n",
      "  return f, grad\n",
      "/home/gverikios/.local/share/virtualenvs/House_Rent_Prediction-dMCN_mMg/lib/python3.10/site-packages/sklearn/linear_model/_ridge.py:342: ConvergenceWarning: The lbfgs solver did not converge. Try increasing max_iter or tol. Currently: max_iter=10 and tol=0.0001\n",
      "  return f, grad\n",
      "/home/gverikios/.local/share/virtualenvs/House_Rent_Prediction-dMCN_mMg/lib/python3.10/site-packages/sklearn/linear_model/_ridge.py:342: ConvergenceWarning: The lbfgs solver did not converge. Try increasing max_iter or tol. Currently: max_iter=10 and tol=0.0001\n",
      "  return f, grad\n",
      "/home/gverikios/.local/share/virtualenvs/House_Rent_Prediction-dMCN_mMg/lib/python3.10/site-packages/sklearn/linear_model/_ridge.py:342: ConvergenceWarning: The lbfgs solver did not converge. Try increasing max_iter or tol. Currently: max_iter=10 and tol=0.0001\n",
      "  return f, grad\n",
      "/home/gverikios/.local/share/virtualenvs/House_Rent_Prediction-dMCN_mMg/lib/python3.10/site-packages/sklearn/linear_model/_ridge.py:342: ConvergenceWarning: The lbfgs solver did not converge. Try increasing max_iter or tol. Currently: max_iter=10 and tol=0.001\n",
      "  return f, grad\n",
      "/home/gverikios/.local/share/virtualenvs/House_Rent_Prediction-dMCN_mMg/lib/python3.10/site-packages/sklearn/linear_model/_ridge.py:342: ConvergenceWarning: The lbfgs solver did not converge. Try increasing max_iter or tol. Currently: max_iter=10 and tol=0.001\n",
      "  return f, grad\n",
      "/home/gverikios/.local/share/virtualenvs/House_Rent_Prediction-dMCN_mMg/lib/python3.10/site-packages/sklearn/linear_model/_ridge.py:342: ConvergenceWarning: The lbfgs solver did not converge. Try increasing max_iter or tol. Currently: max_iter=10 and tol=0.0001\n",
      "  return f, grad\n",
      "/home/gverikios/.local/share/virtualenvs/House_Rent_Prediction-dMCN_mMg/lib/python3.10/site-packages/sklearn/linear_model/_ridge.py:342: ConvergenceWarning: The lbfgs solver did not converge. Try increasing max_iter or tol. Currently: max_iter=10 and tol=0.0001\n",
      "  return f, grad\n",
      "/home/gverikios/.local/share/virtualenvs/House_Rent_Prediction-dMCN_mMg/lib/python3.10/site-packages/sklearn/linear_model/_ridge.py:342: ConvergenceWarning: The lbfgs solver did not converge. Try increasing max_iter or tol. Currently: max_iter=10 and tol=0.0001\n",
      "  return f, grad\n",
      "/home/gverikios/.local/share/virtualenvs/House_Rent_Prediction-dMCN_mMg/lib/python3.10/site-packages/sklearn/linear_model/_ridge.py:342: ConvergenceWarning: The lbfgs solver did not converge. Try increasing max_iter or tol. Currently: max_iter=10 and tol=0.0001\n",
      "  return f, grad\n",
      "/home/gverikios/.local/share/virtualenvs/House_Rent_Prediction-dMCN_mMg/lib/python3.10/site-packages/sklearn/linear_model/_ridge.py:342: ConvergenceWarning: The lbfgs solver did not converge. Try increasing max_iter or tol. Currently: max_iter=10 and tol=0.0001\n",
      "  return f, grad\n",
      "/home/gverikios/.local/share/virtualenvs/House_Rent_Prediction-dMCN_mMg/lib/python3.10/site-packages/sklearn/linear_model/_ridge.py:342: ConvergenceWarning: The lbfgs solver did not converge. Try increasing max_iter or tol. Currently: max_iter=10 and tol=0.001\n",
      "  return f, grad\n",
      "/home/gverikios/.local/share/virtualenvs/House_Rent_Prediction-dMCN_mMg/lib/python3.10/site-packages/sklearn/linear_model/_ridge.py:342: ConvergenceWarning: The lbfgs solver did not converge. Try increasing max_iter or tol. Currently: max_iter=10 and tol=0.001\n",
      "  return f, grad\n",
      "/home/gverikios/.local/share/virtualenvs/House_Rent_Prediction-dMCN_mMg/lib/python3.10/site-packages/sklearn/linear_model/_ridge.py:342: ConvergenceWarning: The lbfgs solver did not converge. Try increasing max_iter or tol. Currently: max_iter=10 and tol=0.001\n",
      "  return f, grad\n",
      "/home/gverikios/.local/share/virtualenvs/House_Rent_Prediction-dMCN_mMg/lib/python3.10/site-packages/sklearn/linear_model/_ridge.py:342: ConvergenceWarning: The lbfgs solver did not converge. Try increasing max_iter or tol. Currently: max_iter=10 and tol=0.001\n",
      "  return f, grad\n",
      "/home/gverikios/.local/share/virtualenvs/House_Rent_Prediction-dMCN_mMg/lib/python3.10/site-packages/sklearn/linear_model/_ridge.py:342: ConvergenceWarning: The lbfgs solver did not converge. Try increasing max_iter or tol. Currently: max_iter=10 and tol=0.001\n",
      "  return f, grad\n",
      "/home/gverikios/.local/share/virtualenvs/House_Rent_Prediction-dMCN_mMg/lib/python3.10/site-packages/sklearn/linear_model/_ridge.py:342: ConvergenceWarning: The lbfgs solver did not converge. Try increasing max_iter or tol. Currently: max_iter=10 and tol=0.01\n",
      "  return f, grad\n",
      "/home/gverikios/.local/share/virtualenvs/House_Rent_Prediction-dMCN_mMg/lib/python3.10/site-packages/sklearn/linear_model/_ridge.py:342: ConvergenceWarning: The lbfgs solver did not converge. Try increasing max_iter or tol. Currently: max_iter=10 and tol=0.01\n",
      "  return f, grad\n",
      "/home/gverikios/.local/share/virtualenvs/House_Rent_Prediction-dMCN_mMg/lib/python3.10/site-packages/sklearn/linear_model/_ridge.py:342: ConvergenceWarning: The lbfgs solver did not converge. Try increasing max_iter or tol. Currently: max_iter=10 and tol=0.01\n",
      "  return f, grad\n",
      "/home/gverikios/.local/share/virtualenvs/House_Rent_Prediction-dMCN_mMg/lib/python3.10/site-packages/sklearn/linear_model/_ridge.py:342: ConvergenceWarning: The lbfgs solver did not converge. Try increasing max_iter or tol. Currently: max_iter=10 and tol=0.01\n",
      "  return f, grad\n",
      "/home/gverikios/.local/share/virtualenvs/House_Rent_Prediction-dMCN_mMg/lib/python3.10/site-packages/sklearn/linear_model/_ridge.py:342: ConvergenceWarning: The lbfgs solver did not converge. Try increasing max_iter or tol. Currently: max_iter=10 and tol=0.01\n",
      "  return f, grad\n",
      "/home/gverikios/.local/share/virtualenvs/House_Rent_Prediction-dMCN_mMg/lib/python3.10/site-packages/sklearn/linear_model/_ridge.py:342: ConvergenceWarning: The lbfgs solver did not converge. Try increasing max_iter or tol. Currently: max_iter=10 and tol=0.0001\n",
      "  return f, grad\n",
      "/home/gverikios/.local/share/virtualenvs/House_Rent_Prediction-dMCN_mMg/lib/python3.10/site-packages/sklearn/linear_model/_ridge.py:342: ConvergenceWarning: The lbfgs solver did not converge. Try increasing max_iter or tol. Currently: max_iter=10 and tol=0.0001\n",
      "  return f, grad\n",
      "/home/gverikios/.local/share/virtualenvs/House_Rent_Prediction-dMCN_mMg/lib/python3.10/site-packages/sklearn/linear_model/_ridge.py:342: ConvergenceWarning: The lbfgs solver did not converge. Try increasing max_iter or tol. Currently: max_iter=10 and tol=0.0001\n",
      "  return f, grad\n",
      "/home/gverikios/.local/share/virtualenvs/House_Rent_Prediction-dMCN_mMg/lib/python3.10/site-packages/sklearn/linear_model/_ridge.py:342: ConvergenceWarning: The lbfgs solver did not converge. Try increasing max_iter or tol. Currently: max_iter=10 and tol=0.0001\n",
      "  return f, grad\n",
      "/home/gverikios/.local/share/virtualenvs/House_Rent_Prediction-dMCN_mMg/lib/python3.10/site-packages/sklearn/linear_model/_ridge.py:342: ConvergenceWarning: The lbfgs solver did not converge. Try increasing max_iter or tol. Currently: max_iter=10 and tol=0.001\n",
      "  return f, grad\n",
      "/home/gverikios/.local/share/virtualenvs/House_Rent_Prediction-dMCN_mMg/lib/python3.10/site-packages/sklearn/linear_model/_ridge.py:342: ConvergenceWarning: The lbfgs solver did not converge. Try increasing max_iter or tol. Currently: max_iter=10 and tol=0.001\n",
      "  return f, grad\n",
      "/home/gverikios/.local/share/virtualenvs/House_Rent_Prediction-dMCN_mMg/lib/python3.10/site-packages/sklearn/linear_model/_ridge.py:342: ConvergenceWarning: The lbfgs solver did not converge. Try increasing max_iter or tol. Currently: max_iter=10 and tol=0.0001\n",
      "  return f, grad\n",
      "/home/gverikios/.local/share/virtualenvs/House_Rent_Prediction-dMCN_mMg/lib/python3.10/site-packages/sklearn/linear_model/_ridge.py:342: ConvergenceWarning: The lbfgs solver did not converge. Try increasing max_iter or tol. Currently: max_iter=10 and tol=0.0001\n",
      "  return f, grad\n",
      "/home/gverikios/.local/share/virtualenvs/House_Rent_Prediction-dMCN_mMg/lib/python3.10/site-packages/sklearn/linear_model/_ridge.py:342: ConvergenceWarning: The lbfgs solver did not converge. Try increasing max_iter or tol. Currently: max_iter=10 and tol=0.0001\n",
      "  return f, grad\n",
      "/home/gverikios/.local/share/virtualenvs/House_Rent_Prediction-dMCN_mMg/lib/python3.10/site-packages/sklearn/linear_model/_ridge.py:342: ConvergenceWarning: The lbfgs solver did not converge. Try increasing max_iter or tol. Currently: max_iter=10 and tol=0.0001\n",
      "  return f, grad\n",
      "/home/gverikios/.local/share/virtualenvs/House_Rent_Prediction-dMCN_mMg/lib/python3.10/site-packages/sklearn/linear_model/_ridge.py:342: ConvergenceWarning: The lbfgs solver did not converge. Try increasing max_iter or tol. Currently: max_iter=10 and tol=0.0001\n",
      "  return f, grad\n",
      "/home/gverikios/.local/share/virtualenvs/House_Rent_Prediction-dMCN_mMg/lib/python3.10/site-packages/sklearn/linear_model/_ridge.py:342: ConvergenceWarning: The lbfgs solver did not converge. Try increasing max_iter or tol. Currently: max_iter=10 and tol=0.001\n",
      "  return f, grad\n",
      "/home/gverikios/.local/share/virtualenvs/House_Rent_Prediction-dMCN_mMg/lib/python3.10/site-packages/sklearn/linear_model/_ridge.py:342: ConvergenceWarning: The lbfgs solver did not converge. Try increasing max_iter or tol. Currently: max_iter=10 and tol=0.001\n",
      "  return f, grad\n",
      "/home/gverikios/.local/share/virtualenvs/House_Rent_Prediction-dMCN_mMg/lib/python3.10/site-packages/sklearn/linear_model/_ridge.py:342: ConvergenceWarning: The lbfgs solver did not converge. Try increasing max_iter or tol. Currently: max_iter=10 and tol=0.001\n",
      "  return f, grad\n",
      "/home/gverikios/.local/share/virtualenvs/House_Rent_Prediction-dMCN_mMg/lib/python3.10/site-packages/sklearn/linear_model/_ridge.py:342: ConvergenceWarning: The lbfgs solver did not converge. Try increasing max_iter or tol. Currently: max_iter=10 and tol=0.001\n",
      "  return f, grad\n",
      "/home/gverikios/.local/share/virtualenvs/House_Rent_Prediction-dMCN_mMg/lib/python3.10/site-packages/sklearn/linear_model/_ridge.py:342: ConvergenceWarning: The lbfgs solver did not converge. Try increasing max_iter or tol. Currently: max_iter=10 and tol=0.001\n",
      "  return f, grad\n",
      "/home/gverikios/.local/share/virtualenvs/House_Rent_Prediction-dMCN_mMg/lib/python3.10/site-packages/sklearn/linear_model/_ridge.py:342: ConvergenceWarning: The lbfgs solver did not converge. Try increasing max_iter or tol. Currently: max_iter=10 and tol=0.01\n",
      "  return f, grad\n",
      "/home/gverikios/.local/share/virtualenvs/House_Rent_Prediction-dMCN_mMg/lib/python3.10/site-packages/sklearn/linear_model/_ridge.py:342: ConvergenceWarning: The lbfgs solver did not converge. Try increasing max_iter or tol. Currently: max_iter=10 and tol=0.01\n",
      "  return f, grad\n",
      "/home/gverikios/.local/share/virtualenvs/House_Rent_Prediction-dMCN_mMg/lib/python3.10/site-packages/sklearn/linear_model/_ridge.py:342: ConvergenceWarning: The lbfgs solver did not converge. Try increasing max_iter or tol. Currently: max_iter=10 and tol=0.01\n",
      "  return f, grad\n",
      "/home/gverikios/.local/share/virtualenvs/House_Rent_Prediction-dMCN_mMg/lib/python3.10/site-packages/sklearn/linear_model/_ridge.py:342: ConvergenceWarning: The lbfgs solver did not converge. Try increasing max_iter or tol. Currently: max_iter=10 and tol=0.01\n",
      "  return f, grad\n",
      "/home/gverikios/.local/share/virtualenvs/House_Rent_Prediction-dMCN_mMg/lib/python3.10/site-packages/sklearn/linear_model/_ridge.py:342: ConvergenceWarning: The lbfgs solver did not converge. Try increasing max_iter or tol. Currently: max_iter=10 and tol=0.01\n",
      "  return f, grad\n",
      "/home/gverikios/.local/share/virtualenvs/House_Rent_Prediction-dMCN_mMg/lib/python3.10/site-packages/sklearn/linear_model/_ridge.py:342: ConvergenceWarning: The lbfgs solver did not converge. Try increasing max_iter or tol. Currently: max_iter=10 and tol=0.0001\n",
      "  return f, grad\n",
      "/home/gverikios/.local/share/virtualenvs/House_Rent_Prediction-dMCN_mMg/lib/python3.10/site-packages/sklearn/linear_model/_ridge.py:342: ConvergenceWarning: The lbfgs solver did not converge. Try increasing max_iter or tol. Currently: max_iter=10 and tol=0.0001\n",
      "  return f, grad\n",
      "/home/gverikios/.local/share/virtualenvs/House_Rent_Prediction-dMCN_mMg/lib/python3.10/site-packages/sklearn/linear_model/_ridge.py:342: ConvergenceWarning: The lbfgs solver did not converge. Try increasing max_iter or tol. Currently: max_iter=10 and tol=0.0001\n",
      "  return f, grad\n",
      "/home/gverikios/.local/share/virtualenvs/House_Rent_Prediction-dMCN_mMg/lib/python3.10/site-packages/sklearn/linear_model/_ridge.py:342: ConvergenceWarning: The lbfgs solver did not converge. Try increasing max_iter or tol. Currently: max_iter=10 and tol=0.0001\n",
      "  return f, grad\n",
      "/home/gverikios/.local/share/virtualenvs/House_Rent_Prediction-dMCN_mMg/lib/python3.10/site-packages/sklearn/linear_model/_ridge.py:342: ConvergenceWarning: The lbfgs solver did not converge. Try increasing max_iter or tol. Currently: max_iter=10 and tol=0.001\n",
      "  return f, grad\n",
      "/home/gverikios/.local/share/virtualenvs/House_Rent_Prediction-dMCN_mMg/lib/python3.10/site-packages/sklearn/linear_model/_ridge.py:342: ConvergenceWarning: The lbfgs solver did not converge. Try increasing max_iter or tol. Currently: max_iter=10 and tol=0.001\n",
      "  return f, grad\n",
      "/home/gverikios/.local/share/virtualenvs/House_Rent_Prediction-dMCN_mMg/lib/python3.10/site-packages/sklearn/linear_model/_ridge.py:342: ConvergenceWarning: The lbfgs solver did not converge. Try increasing max_iter or tol. Currently: max_iter=10 and tol=0.0001\n",
      "  return f, grad\n",
      "/home/gverikios/.local/share/virtualenvs/House_Rent_Prediction-dMCN_mMg/lib/python3.10/site-packages/sklearn/linear_model/_ridge.py:342: ConvergenceWarning: The lbfgs solver did not converge. Try increasing max_iter or tol. Currently: max_iter=10 and tol=0.0001\n",
      "  return f, grad\n",
      "/home/gverikios/.local/share/virtualenvs/House_Rent_Prediction-dMCN_mMg/lib/python3.10/site-packages/sklearn/linear_model/_ridge.py:342: ConvergenceWarning: The lbfgs solver did not converge. Try increasing max_iter or tol. Currently: max_iter=10 and tol=0.0001\n",
      "  return f, grad\n",
      "/home/gverikios/.local/share/virtualenvs/House_Rent_Prediction-dMCN_mMg/lib/python3.10/site-packages/sklearn/linear_model/_ridge.py:342: ConvergenceWarning: The lbfgs solver did not converge. Try increasing max_iter or tol. Currently: max_iter=10 and tol=0.0001\n",
      "  return f, grad\n",
      "/home/gverikios/.local/share/virtualenvs/House_Rent_Prediction-dMCN_mMg/lib/python3.10/site-packages/sklearn/linear_model/_ridge.py:342: ConvergenceWarning: The lbfgs solver did not converge. Try increasing max_iter or tol. Currently: max_iter=10 and tol=0.0001\n",
      "  return f, grad\n",
      "/home/gverikios/.local/share/virtualenvs/House_Rent_Prediction-dMCN_mMg/lib/python3.10/site-packages/sklearn/linear_model/_ridge.py:342: ConvergenceWarning: The lbfgs solver did not converge. Try increasing max_iter or tol. Currently: max_iter=10 and tol=0.001\n",
      "  return f, grad\n",
      "/home/gverikios/.local/share/virtualenvs/House_Rent_Prediction-dMCN_mMg/lib/python3.10/site-packages/sklearn/linear_model/_ridge.py:342: ConvergenceWarning: The lbfgs solver did not converge. Try increasing max_iter or tol. Currently: max_iter=10 and tol=0.001\n",
      "  return f, grad\n",
      "/home/gverikios/.local/share/virtualenvs/House_Rent_Prediction-dMCN_mMg/lib/python3.10/site-packages/sklearn/linear_model/_ridge.py:342: ConvergenceWarning: The lbfgs solver did not converge. Try increasing max_iter or tol. Currently: max_iter=10 and tol=0.001\n",
      "  return f, grad\n",
      "/home/gverikios/.local/share/virtualenvs/House_Rent_Prediction-dMCN_mMg/lib/python3.10/site-packages/sklearn/linear_model/_ridge.py:342: ConvergenceWarning: The lbfgs solver did not converge. Try increasing max_iter or tol. Currently: max_iter=10 and tol=0.001\n",
      "  return f, grad\n",
      "/home/gverikios/.local/share/virtualenvs/House_Rent_Prediction-dMCN_mMg/lib/python3.10/site-packages/sklearn/linear_model/_ridge.py:342: ConvergenceWarning: The lbfgs solver did not converge. Try increasing max_iter or tol. Currently: max_iter=10 and tol=0.001\n",
      "  return f, grad\n",
      "/home/gverikios/.local/share/virtualenvs/House_Rent_Prediction-dMCN_mMg/lib/python3.10/site-packages/sklearn/linear_model/_ridge.py:342: ConvergenceWarning: The lbfgs solver did not converge. Try increasing max_iter or tol. Currently: max_iter=10 and tol=0.01\n",
      "  return f, grad\n",
      "/home/gverikios/.local/share/virtualenvs/House_Rent_Prediction-dMCN_mMg/lib/python3.10/site-packages/sklearn/linear_model/_ridge.py:342: ConvergenceWarning: The lbfgs solver did not converge. Try increasing max_iter or tol. Currently: max_iter=10 and tol=0.01\n",
      "  return f, grad\n",
      "/home/gverikios/.local/share/virtualenvs/House_Rent_Prediction-dMCN_mMg/lib/python3.10/site-packages/sklearn/linear_model/_ridge.py:342: ConvergenceWarning: The lbfgs solver did not converge. Try increasing max_iter or tol. Currently: max_iter=10 and tol=0.01\n",
      "  return f, grad\n",
      "/home/gverikios/.local/share/virtualenvs/House_Rent_Prediction-dMCN_mMg/lib/python3.10/site-packages/sklearn/linear_model/_ridge.py:342: ConvergenceWarning: The lbfgs solver did not converge. Try increasing max_iter or tol. Currently: max_iter=10 and tol=0.01\n",
      "  return f, grad\n",
      "/home/gverikios/.local/share/virtualenvs/House_Rent_Prediction-dMCN_mMg/lib/python3.10/site-packages/sklearn/linear_model/_ridge.py:342: ConvergenceWarning: The lbfgs solver did not converge. Try increasing max_iter or tol. Currently: max_iter=10 and tol=0.01\n",
      "  return f, grad\n",
      "/home/gverikios/.local/share/virtualenvs/House_Rent_Prediction-dMCN_mMg/lib/python3.10/site-packages/sklearn/linear_model/_ridge.py:342: ConvergenceWarning: The lbfgs solver did not converge. Try increasing max_iter or tol. Currently: max_iter=10 and tol=0.0001\n",
      "  return f, grad\n",
      "/home/gverikios/.local/share/virtualenvs/House_Rent_Prediction-dMCN_mMg/lib/python3.10/site-packages/sklearn/linear_model/_ridge.py:342: ConvergenceWarning: The lbfgs solver did not converge. Try increasing max_iter or tol. Currently: max_iter=10 and tol=0.0001\n",
      "  return f, grad\n",
      "/home/gverikios/.local/share/virtualenvs/House_Rent_Prediction-dMCN_mMg/lib/python3.10/site-packages/sklearn/linear_model/_ridge.py:342: ConvergenceWarning: The lbfgs solver did not converge. Try increasing max_iter or tol. Currently: max_iter=10 and tol=0.0001\n",
      "  return f, grad\n",
      "/home/gverikios/.local/share/virtualenvs/House_Rent_Prediction-dMCN_mMg/lib/python3.10/site-packages/sklearn/linear_model/_ridge.py:342: ConvergenceWarning: The lbfgs solver did not converge. Try increasing max_iter or tol. Currently: max_iter=10 and tol=0.0001\n",
      "  return f, grad\n",
      "/home/gverikios/.local/share/virtualenvs/House_Rent_Prediction-dMCN_mMg/lib/python3.10/site-packages/sklearn/linear_model/_ridge.py:342: ConvergenceWarning: The lbfgs solver did not converge. Try increasing max_iter or tol. Currently: max_iter=10 and tol=0.001\n",
      "  return f, grad\n",
      "/home/gverikios/.local/share/virtualenvs/House_Rent_Prediction-dMCN_mMg/lib/python3.10/site-packages/sklearn/linear_model/_ridge.py:342: ConvergenceWarning: The lbfgs solver did not converge. Try increasing max_iter or tol. Currently: max_iter=10 and tol=0.001\n",
      "  return f, grad\n",
      "/home/gverikios/.local/share/virtualenvs/House_Rent_Prediction-dMCN_mMg/lib/python3.10/site-packages/sklearn/linear_model/_ridge.py:342: ConvergenceWarning: The lbfgs solver did not converge. Try increasing max_iter or tol. Currently: max_iter=10 and tol=0.0001\n",
      "  return f, grad\n",
      "/home/gverikios/.local/share/virtualenvs/House_Rent_Prediction-dMCN_mMg/lib/python3.10/site-packages/sklearn/linear_model/_ridge.py:342: ConvergenceWarning: The lbfgs solver did not converge. Try increasing max_iter or tol. Currently: max_iter=10 and tol=0.0001\n",
      "  return f, grad\n",
      "/home/gverikios/.local/share/virtualenvs/House_Rent_Prediction-dMCN_mMg/lib/python3.10/site-packages/sklearn/linear_model/_ridge.py:342: ConvergenceWarning: The lbfgs solver did not converge. Try increasing max_iter or tol. Currently: max_iter=10 and tol=0.0001\n",
      "  return f, grad\n",
      "/home/gverikios/.local/share/virtualenvs/House_Rent_Prediction-dMCN_mMg/lib/python3.10/site-packages/sklearn/linear_model/_ridge.py:342: ConvergenceWarning: The lbfgs solver did not converge. Try increasing max_iter or tol. Currently: max_iter=10 and tol=0.0001\n",
      "  return f, grad\n",
      "/home/gverikios/.local/share/virtualenvs/House_Rent_Prediction-dMCN_mMg/lib/python3.10/site-packages/sklearn/linear_model/_ridge.py:342: ConvergenceWarning: The lbfgs solver did not converge. Try increasing max_iter or tol. Currently: max_iter=10 and tol=0.0001\n",
      "  return f, grad\n",
      "/home/gverikios/.local/share/virtualenvs/House_Rent_Prediction-dMCN_mMg/lib/python3.10/site-packages/sklearn/linear_model/_ridge.py:342: ConvergenceWarning: The lbfgs solver did not converge. Try increasing max_iter or tol. Currently: max_iter=10 and tol=0.001\n",
      "  return f, grad\n",
      "/home/gverikios/.local/share/virtualenvs/House_Rent_Prediction-dMCN_mMg/lib/python3.10/site-packages/sklearn/linear_model/_ridge.py:342: ConvergenceWarning: The lbfgs solver did not converge. Try increasing max_iter or tol. Currently: max_iter=10 and tol=0.001\n",
      "  return f, grad\n",
      "/home/gverikios/.local/share/virtualenvs/House_Rent_Prediction-dMCN_mMg/lib/python3.10/site-packages/sklearn/linear_model/_ridge.py:342: ConvergenceWarning: The lbfgs solver did not converge. Try increasing max_iter or tol. Currently: max_iter=10 and tol=0.001\n",
      "  return f, grad\n",
      "/home/gverikios/.local/share/virtualenvs/House_Rent_Prediction-dMCN_mMg/lib/python3.10/site-packages/sklearn/linear_model/_ridge.py:342: ConvergenceWarning: The lbfgs solver did not converge. Try increasing max_iter or tol. Currently: max_iter=10 and tol=0.001\n",
      "  return f, grad\n",
      "/home/gverikios/.local/share/virtualenvs/House_Rent_Prediction-dMCN_mMg/lib/python3.10/site-packages/sklearn/linear_model/_ridge.py:342: ConvergenceWarning: The lbfgs solver did not converge. Try increasing max_iter or tol. Currently: max_iter=10 and tol=0.001\n",
      "  return f, grad\n",
      "/home/gverikios/.local/share/virtualenvs/House_Rent_Prediction-dMCN_mMg/lib/python3.10/site-packages/sklearn/linear_model/_ridge.py:342: ConvergenceWarning: The lbfgs solver did not converge. Try increasing max_iter or tol. Currently: max_iter=10 and tol=0.01\n",
      "  return f, grad\n",
      "/home/gverikios/.local/share/virtualenvs/House_Rent_Prediction-dMCN_mMg/lib/python3.10/site-packages/sklearn/linear_model/_ridge.py:342: ConvergenceWarning: The lbfgs solver did not converge. Try increasing max_iter or tol. Currently: max_iter=10 and tol=0.01\n",
      "  return f, grad\n",
      "/home/gverikios/.local/share/virtualenvs/House_Rent_Prediction-dMCN_mMg/lib/python3.10/site-packages/sklearn/linear_model/_ridge.py:342: ConvergenceWarning: The lbfgs solver did not converge. Try increasing max_iter or tol. Currently: max_iter=10 and tol=0.01\n",
      "  return f, grad\n",
      "/home/gverikios/.local/share/virtualenvs/House_Rent_Prediction-dMCN_mMg/lib/python3.10/site-packages/sklearn/linear_model/_ridge.py:342: ConvergenceWarning: The lbfgs solver did not converge. Try increasing max_iter or tol. Currently: max_iter=10 and tol=0.01\n",
      "  return f, grad\n",
      "/home/gverikios/.local/share/virtualenvs/House_Rent_Prediction-dMCN_mMg/lib/python3.10/site-packages/sklearn/linear_model/_ridge.py:342: ConvergenceWarning: The lbfgs solver did not converge. Try increasing max_iter or tol. Currently: max_iter=10 and tol=0.01\n",
      "  return f, grad\n"
     ]
    },
    {
     "data": {
      "text/plain": [
       "{'alpha': 10,\n",
       " 'copy_X': True,\n",
       " 'fit_intercept': True,\n",
       " 'max_iter': None,\n",
       " 'positive': False,\n",
       " 'tol': 0.0001}"
      ]
     },
     "execution_count": 340,
     "metadata": {},
     "output_type": "execute_result"
    }
   ],
   "source": [
    "# parameters = {'alpha':[0, 0.1, 1, 10], 'fit_intercept':(True, False), 'copy_X': (True, False), 'positive':(True, False), 'max_iter':[None, 10, 100, 1000], 'tol':[1e-4, 1e-3, 1e-2, 1e-1], 'positive':(True, False)}\n",
    "# clf = GridSearchCV(ridge, parameters)\n",
    "# clf.fit(X_full_train, y_full_train)\n",
    "# clf.best_params_"
   ]
  },
  {
   "cell_type": "markdown",
   "metadata": {},
   "source": [
    "Grid search returns the following which shows that using a higher regularization value (alpha) yields better results. \n",
    "\n",
    "    {'alpha': 10,\n",
    "    'copy_X': True,\n",
    "    'fit_intercept': True,\n",
    "    'max_iter': None,\n",
    "    'positive': False,\n",
    "    'tol': 0.0001}"
   ]
  },
  {
   "cell_type": "code",
   "execution_count": 342,
   "metadata": {},
   "outputs": [
    {
     "data": {
      "text/plain": [
       "{'tol': 0.001,\n",
       " 'positive': False,\n",
       " 'max_iter': 1000,\n",
       " 'fit_intercept': True,\n",
       " 'copy_X': False,\n",
       " 'alpha': 10}"
      ]
     },
     "execution_count": 342,
     "metadata": {},
     "output_type": "execute_result"
    }
   ],
   "source": [
    "parameters = {'alpha':[0, 0.1, 1, 10], 'fit_intercept':(True, False), 'copy_X': (True, False), 'positive':(True, False), 'max_iter':[None, 10, 100, 1000], 'tol':[1e-4, 1e-3, 1e-2, 1e-1], 'positive':(True, False)}\n",
    "clf = RandomizedSearchCV(ridge, parameters)\n",
    "clf.fit(X_full_train, y_full_train)\n",
    "clf.best_params_"
   ]
  },
  {
   "cell_type": "markdown",
   "metadata": {},
   "source": [
    "### Decision Tree Regressor\n",
    "\n",
    "We will be looking into the most important parameters for the the dt regressor, plus some out of personal interest first with a randomized search and then with a grid. You can find more about the [parameters](https://scikit-learn.org/stable/modules/generated/sklearn.tree.DecisionTreeRegressor.html)."
   ]
  },
  {
   "cell_type": "code",
   "execution_count": 344,
   "metadata": {},
   "outputs": [
    {
     "data": {
      "text/plain": [
       "{'splitter': 'best',\n",
       " 'min_samples_leaf': 20,\n",
       " 'max_depth': None,\n",
       " 'criterion': 'squared_error'}"
      ]
     },
     "execution_count": 344,
     "metadata": {},
     "output_type": "execute_result"
    }
   ],
   "source": [
    "parameters = {'criterion':(\"squared_error\", \"friedman_mse\", \"absolute_error\", \"poisson\"), \n",
    "              'splitter':(\"best\", \"random\"),  \n",
    "              'max_depth':[None, 5, 10, 20, 30, 40, 50, 100], \n",
    "              'min_samples_leaf':[1, 5, 10, 15, 20, 500, 100, 200], \n",
    "              }\n",
    "\n",
    "clf = RandomizedSearchCV(dtr, parameters)\n",
    "clf.fit(X_full_train, y_full_train)\n",
    "clf.best_params_"
   ]
  },
  {
   "cell_type": "code",
   "execution_count": 346,
   "metadata": {},
   "outputs": [
    {
     "data": {
      "text/plain": [
       "{'criterion': 'squared_error',\n",
       " 'max_depth': None,\n",
       " 'min_samples_leaf': 30,\n",
       " 'splitter': 'best'}"
      ]
     },
     "execution_count": 346,
     "metadata": {},
     "output_type": "execute_result"
    }
   ],
   "source": [
    "parameters = {'criterion':[\"squared_error\"], \n",
    "              'splitter':[\"best\"],  \n",
    "              'max_depth':[None, 200, 500], \n",
    "              'min_samples_leaf':[18, 20, 30, 40, 80], \n",
    "              }\n",
    "\n",
    "clf = GridSearchCV(dtr, parameters)\n",
    "clf.fit(X_full_train, y_full_train)\n",
    "clf.best_params_"
   ]
  },
  {
   "cell_type": "markdown",
   "metadata": {},
   "source": [
    "### Random Forest regressor"
   ]
  },
  {
   "cell_type": "code",
   "execution_count": 347,
   "metadata": {},
   "outputs": [
    {
     "data": {
      "text/html": [
       "<style>#sk-container-id-1 {color: black;}#sk-container-id-1 pre{padding: 0;}#sk-container-id-1 div.sk-toggleable {background-color: white;}#sk-container-id-1 label.sk-toggleable__label {cursor: pointer;display: block;width: 100%;margin-bottom: 0;padding: 0.3em;box-sizing: border-box;text-align: center;}#sk-container-id-1 label.sk-toggleable__label-arrow:before {content: \"▸\";float: left;margin-right: 0.25em;color: #696969;}#sk-container-id-1 label.sk-toggleable__label-arrow:hover:before {color: black;}#sk-container-id-1 div.sk-estimator:hover label.sk-toggleable__label-arrow:before {color: black;}#sk-container-id-1 div.sk-toggleable__content {max-height: 0;max-width: 0;overflow: hidden;text-align: left;background-color: #f0f8ff;}#sk-container-id-1 div.sk-toggleable__content pre {margin: 0.2em;color: black;border-radius: 0.25em;background-color: #f0f8ff;}#sk-container-id-1 input.sk-toggleable__control:checked~div.sk-toggleable__content {max-height: 200px;max-width: 100%;overflow: auto;}#sk-container-id-1 input.sk-toggleable__control:checked~label.sk-toggleable__label-arrow:before {content: \"▾\";}#sk-container-id-1 div.sk-estimator input.sk-toggleable__control:checked~label.sk-toggleable__label {background-color: #d4ebff;}#sk-container-id-1 div.sk-label input.sk-toggleable__control:checked~label.sk-toggleable__label {background-color: #d4ebff;}#sk-container-id-1 input.sk-hidden--visually {border: 0;clip: rect(1px 1px 1px 1px);clip: rect(1px, 1px, 1px, 1px);height: 1px;margin: -1px;overflow: hidden;padding: 0;position: absolute;width: 1px;}#sk-container-id-1 div.sk-estimator {font-family: monospace;background-color: #f0f8ff;border: 1px dotted black;border-radius: 0.25em;box-sizing: border-box;margin-bottom: 0.5em;}#sk-container-id-1 div.sk-estimator:hover {background-color: #d4ebff;}#sk-container-id-1 div.sk-parallel-item::after {content: \"\";width: 100%;border-bottom: 1px solid gray;flex-grow: 1;}#sk-container-id-1 div.sk-label:hover label.sk-toggleable__label {background-color: #d4ebff;}#sk-container-id-1 div.sk-serial::before {content: \"\";position: absolute;border-left: 1px solid gray;box-sizing: border-box;top: 0;bottom: 0;left: 50%;z-index: 0;}#sk-container-id-1 div.sk-serial {display: flex;flex-direction: column;align-items: center;background-color: white;padding-right: 0.2em;padding-left: 0.2em;position: relative;}#sk-container-id-1 div.sk-item {position: relative;z-index: 1;}#sk-container-id-1 div.sk-parallel {display: flex;align-items: stretch;justify-content: center;background-color: white;position: relative;}#sk-container-id-1 div.sk-item::before, #sk-container-id-1 div.sk-parallel-item::before {content: \"\";position: absolute;border-left: 1px solid gray;box-sizing: border-box;top: 0;bottom: 0;left: 50%;z-index: -1;}#sk-container-id-1 div.sk-parallel-item {display: flex;flex-direction: column;z-index: 1;position: relative;background-color: white;}#sk-container-id-1 div.sk-parallel-item:first-child::after {align-self: flex-end;width: 50%;}#sk-container-id-1 div.sk-parallel-item:last-child::after {align-self: flex-start;width: 50%;}#sk-container-id-1 div.sk-parallel-item:only-child::after {width: 0;}#sk-container-id-1 div.sk-dashed-wrapped {border: 1px dashed gray;margin: 0 0.4em 0.5em 0.4em;box-sizing: border-box;padding-bottom: 0.4em;background-color: white;}#sk-container-id-1 div.sk-label label {font-family: monospace;font-weight: bold;display: inline-block;line-height: 1.2em;}#sk-container-id-1 div.sk-label-container {text-align: center;}#sk-container-id-1 div.sk-container {/* jupyter's `normalize.less` sets `[hidden] { display: none; }` but bootstrap.min.css set `[hidden] { display: none !important; }` so we also need the `!important` here to be able to override the default hidden behavior on the sphinx rendered scikit-learn.org. See: https://github.com/scikit-learn/scikit-learn/issues/21755 */display: inline-block !important;position: relative;}#sk-container-id-1 div.sk-text-repr-fallback {display: none;}</style><div id=\"sk-container-id-1\" class=\"sk-top-container\"><div class=\"sk-text-repr-fallback\"><pre>RandomizedSearchCV(estimator=RandomForestRegressor(),\n",
       "                   param_distributions={&#x27;bootstrap&#x27;: (True, False),\n",
       "                                        &#x27;max_depth&#x27;: [None, 5, 10, 20, 30, 37],\n",
       "                                        &#x27;min_samples_leaf&#x27;: [1, 2, 10, 40, 100,\n",
       "                                                             200, 300, 500,\n",
       "                                                             1000],\n",
       "                                        &#x27;min_samples_split&#x27;: [2, 10, 40, 100,\n",
       "                                                              200, 300, 500,\n",
       "                                                              1000],\n",
       "                                        &#x27;n_estimators&#x27;: [10, 100, 200, 350, 500,\n",
       "                                                         700, 850, 1000]})</pre><b>In a Jupyter environment, please rerun this cell to show the HTML representation or trust the notebook. <br />On GitHub, the HTML representation is unable to render, please try loading this page with nbviewer.org.</b></div><div class=\"sk-container\" hidden><div class=\"sk-item sk-dashed-wrapped\"><div class=\"sk-label-container\"><div class=\"sk-label sk-toggleable\"><input class=\"sk-toggleable__control sk-hidden--visually\" id=\"sk-estimator-id-1\" type=\"checkbox\" ><label for=\"sk-estimator-id-1\" class=\"sk-toggleable__label sk-toggleable__label-arrow\">RandomizedSearchCV</label><div class=\"sk-toggleable__content\"><pre>RandomizedSearchCV(estimator=RandomForestRegressor(),\n",
       "                   param_distributions={&#x27;bootstrap&#x27;: (True, False),\n",
       "                                        &#x27;max_depth&#x27;: [None, 5, 10, 20, 30, 37],\n",
       "                                        &#x27;min_samples_leaf&#x27;: [1, 2, 10, 40, 100,\n",
       "                                                             200, 300, 500,\n",
       "                                                             1000],\n",
       "                                        &#x27;min_samples_split&#x27;: [2, 10, 40, 100,\n",
       "                                                              200, 300, 500,\n",
       "                                                              1000],\n",
       "                                        &#x27;n_estimators&#x27;: [10, 100, 200, 350, 500,\n",
       "                                                         700, 850, 1000]})</pre></div></div></div><div class=\"sk-parallel\"><div class=\"sk-parallel-item\"><div class=\"sk-item\"><div class=\"sk-label-container\"><div class=\"sk-label sk-toggleable\"><input class=\"sk-toggleable__control sk-hidden--visually\" id=\"sk-estimator-id-2\" type=\"checkbox\" ><label for=\"sk-estimator-id-2\" class=\"sk-toggleable__label sk-toggleable__label-arrow\">estimator: RandomForestRegressor</label><div class=\"sk-toggleable__content\"><pre>RandomForestRegressor()</pre></div></div></div><div class=\"sk-serial\"><div class=\"sk-item\"><div class=\"sk-estimator sk-toggleable\"><input class=\"sk-toggleable__control sk-hidden--visually\" id=\"sk-estimator-id-3\" type=\"checkbox\" ><label for=\"sk-estimator-id-3\" class=\"sk-toggleable__label sk-toggleable__label-arrow\">RandomForestRegressor</label><div class=\"sk-toggleable__content\"><pre>RandomForestRegressor()</pre></div></div></div></div></div></div></div></div></div></div>"
      ],
      "text/plain": [
       "RandomizedSearchCV(estimator=RandomForestRegressor(),\n",
       "                   param_distributions={'bootstrap': (True, False),\n",
       "                                        'max_depth': [None, 5, 10, 20, 30, 37],\n",
       "                                        'min_samples_leaf': [1, 2, 10, 40, 100,\n",
       "                                                             200, 300, 500,\n",
       "                                                             1000],\n",
       "                                        'min_samples_split': [2, 10, 40, 100,\n",
       "                                                              200, 300, 500,\n",
       "                                                              1000],\n",
       "                                        'n_estimators': [10, 100, 200, 350, 500,\n",
       "                                                         700, 850, 1000]})"
      ]
     },
     "execution_count": 347,
     "metadata": {},
     "output_type": "execute_result"
    }
   ],
   "source": [
    "# RandomizedSearchCV\n",
    "parameters = {\n",
    "    'n_estimators': [10, 100, 200, 350, 500, 700, 850, 1000],\n",
    "    'max_depth':[None, 5, 10, 20, 30, 37],\n",
    "    'min_samples_split':[2, 10, 40, 100, 200, 300, 500, 1000],\n",
    "    'min_samples_leaf':[1, 2, 10, 40, 100, 200, 300, 500, 1000],\n",
    "    'bootstrap':(True, False),\n",
    "}\n",
    "\n",
    "clf = RandomizedSearchCV(rfr, parameters)\n",
    "clf.fit(X_full_train, y_full_train)"
   ]
  },
  {
   "cell_type": "code",
   "execution_count": 348,
   "metadata": {},
   "outputs": [
    {
     "data": {
      "text/plain": [
       "{'n_estimators': 350,\n",
       " 'min_samples_split': 100,\n",
       " 'min_samples_leaf': 10,\n",
       " 'max_depth': None,\n",
       " 'bootstrap': False}"
      ]
     },
     "execution_count": 348,
     "metadata": {},
     "output_type": "execute_result"
    }
   ],
   "source": [
    "clf.best_params_"
   ]
  },
  {
   "cell_type": "code",
   "execution_count": 361,
   "metadata": {},
   "outputs": [
    {
     "data": {
      "text/html": [
       "<style>#sk-container-id-8 {color: black;}#sk-container-id-8 pre{padding: 0;}#sk-container-id-8 div.sk-toggleable {background-color: white;}#sk-container-id-8 label.sk-toggleable__label {cursor: pointer;display: block;width: 100%;margin-bottom: 0;padding: 0.3em;box-sizing: border-box;text-align: center;}#sk-container-id-8 label.sk-toggleable__label-arrow:before {content: \"▸\";float: left;margin-right: 0.25em;color: #696969;}#sk-container-id-8 label.sk-toggleable__label-arrow:hover:before {color: black;}#sk-container-id-8 div.sk-estimator:hover label.sk-toggleable__label-arrow:before {color: black;}#sk-container-id-8 div.sk-toggleable__content {max-height: 0;max-width: 0;overflow: hidden;text-align: left;background-color: #f0f8ff;}#sk-container-id-8 div.sk-toggleable__content pre {margin: 0.2em;color: black;border-radius: 0.25em;background-color: #f0f8ff;}#sk-container-id-8 input.sk-toggleable__control:checked~div.sk-toggleable__content {max-height: 200px;max-width: 100%;overflow: auto;}#sk-container-id-8 input.sk-toggleable__control:checked~label.sk-toggleable__label-arrow:before {content: \"▾\";}#sk-container-id-8 div.sk-estimator input.sk-toggleable__control:checked~label.sk-toggleable__label {background-color: #d4ebff;}#sk-container-id-8 div.sk-label input.sk-toggleable__control:checked~label.sk-toggleable__label {background-color: #d4ebff;}#sk-container-id-8 input.sk-hidden--visually {border: 0;clip: rect(1px 1px 1px 1px);clip: rect(1px, 1px, 1px, 1px);height: 1px;margin: -1px;overflow: hidden;padding: 0;position: absolute;width: 1px;}#sk-container-id-8 div.sk-estimator {font-family: monospace;background-color: #f0f8ff;border: 1px dotted black;border-radius: 0.25em;box-sizing: border-box;margin-bottom: 0.5em;}#sk-container-id-8 div.sk-estimator:hover {background-color: #d4ebff;}#sk-container-id-8 div.sk-parallel-item::after {content: \"\";width: 100%;border-bottom: 1px solid gray;flex-grow: 1;}#sk-container-id-8 div.sk-label:hover label.sk-toggleable__label {background-color: #d4ebff;}#sk-container-id-8 div.sk-serial::before {content: \"\";position: absolute;border-left: 1px solid gray;box-sizing: border-box;top: 0;bottom: 0;left: 50%;z-index: 0;}#sk-container-id-8 div.sk-serial {display: flex;flex-direction: column;align-items: center;background-color: white;padding-right: 0.2em;padding-left: 0.2em;position: relative;}#sk-container-id-8 div.sk-item {position: relative;z-index: 1;}#sk-container-id-8 div.sk-parallel {display: flex;align-items: stretch;justify-content: center;background-color: white;position: relative;}#sk-container-id-8 div.sk-item::before, #sk-container-id-8 div.sk-parallel-item::before {content: \"\";position: absolute;border-left: 1px solid gray;box-sizing: border-box;top: 0;bottom: 0;left: 50%;z-index: -1;}#sk-container-id-8 div.sk-parallel-item {display: flex;flex-direction: column;z-index: 1;position: relative;background-color: white;}#sk-container-id-8 div.sk-parallel-item:first-child::after {align-self: flex-end;width: 50%;}#sk-container-id-8 div.sk-parallel-item:last-child::after {align-self: flex-start;width: 50%;}#sk-container-id-8 div.sk-parallel-item:only-child::after {width: 0;}#sk-container-id-8 div.sk-dashed-wrapped {border: 1px dashed gray;margin: 0 0.4em 0.5em 0.4em;box-sizing: border-box;padding-bottom: 0.4em;background-color: white;}#sk-container-id-8 div.sk-label label {font-family: monospace;font-weight: bold;display: inline-block;line-height: 1.2em;}#sk-container-id-8 div.sk-label-container {text-align: center;}#sk-container-id-8 div.sk-container {/* jupyter's `normalize.less` sets `[hidden] { display: none; }` but bootstrap.min.css set `[hidden] { display: none !important; }` so we also need the `!important` here to be able to override the default hidden behavior on the sphinx rendered scikit-learn.org. See: https://github.com/scikit-learn/scikit-learn/issues/21755 */display: inline-block !important;position: relative;}#sk-container-id-8 div.sk-text-repr-fallback {display: none;}</style><div id=\"sk-container-id-8\" class=\"sk-top-container\"><div class=\"sk-text-repr-fallback\"><pre>GridSearchCV(estimator=RandomForestRegressor(bootstrap=False, n_jobs=16),\n",
       "             param_grid={&#x27;min_samples_leaf&#x27;: [5, 10, 15],\n",
       "                         &#x27;min_samples_split&#x27;: [100, 80, 120],\n",
       "                         &#x27;n_estimators&#x27;: [350, 300, 310]})</pre><b>In a Jupyter environment, please rerun this cell to show the HTML representation or trust the notebook. <br />On GitHub, the HTML representation is unable to render, please try loading this page with nbviewer.org.</b></div><div class=\"sk-container\" hidden><div class=\"sk-item sk-dashed-wrapped\"><div class=\"sk-label-container\"><div class=\"sk-label sk-toggleable\"><input class=\"sk-toggleable__control sk-hidden--visually\" id=\"sk-estimator-id-22\" type=\"checkbox\" ><label for=\"sk-estimator-id-22\" class=\"sk-toggleable__label sk-toggleable__label-arrow\">GridSearchCV</label><div class=\"sk-toggleable__content\"><pre>GridSearchCV(estimator=RandomForestRegressor(bootstrap=False, n_jobs=16),\n",
       "             param_grid={&#x27;min_samples_leaf&#x27;: [5, 10, 15],\n",
       "                         &#x27;min_samples_split&#x27;: [100, 80, 120],\n",
       "                         &#x27;n_estimators&#x27;: [350, 300, 310]})</pre></div></div></div><div class=\"sk-parallel\"><div class=\"sk-parallel-item\"><div class=\"sk-item\"><div class=\"sk-label-container\"><div class=\"sk-label sk-toggleable\"><input class=\"sk-toggleable__control sk-hidden--visually\" id=\"sk-estimator-id-23\" type=\"checkbox\" ><label for=\"sk-estimator-id-23\" class=\"sk-toggleable__label sk-toggleable__label-arrow\">estimator: RandomForestRegressor</label><div class=\"sk-toggleable__content\"><pre>RandomForestRegressor(bootstrap=False, n_jobs=16)</pre></div></div></div><div class=\"sk-serial\"><div class=\"sk-item\"><div class=\"sk-estimator sk-toggleable\"><input class=\"sk-toggleable__control sk-hidden--visually\" id=\"sk-estimator-id-24\" type=\"checkbox\" ><label for=\"sk-estimator-id-24\" class=\"sk-toggleable__label sk-toggleable__label-arrow\">RandomForestRegressor</label><div class=\"sk-toggleable__content\"><pre>RandomForestRegressor(bootstrap=False, n_jobs=16)</pre></div></div></div></div></div></div></div></div></div></div>"
      ],
      "text/plain": [
       "GridSearchCV(estimator=RandomForestRegressor(bootstrap=False, n_jobs=16),\n",
       "             param_grid={'min_samples_leaf': [5, 10, 15],\n",
       "                         'min_samples_split': [100, 80, 120],\n",
       "                         'n_estimators': [350, 300, 310]})"
      ]
     },
     "execution_count": 361,
     "metadata": {},
     "output_type": "execute_result"
    }
   ],
   "source": [
    "# GridSearchCV\n",
    "\n",
    "rfr = RandomForestRegressor(bootstrap = False, max_depth = None, n_jobs=16)\n",
    "parameters = {\n",
    "    'n_estimators': [350, 300, 310],\n",
    "    'min_samples_split': [100, 80, 120],\n",
    "    'min_samples_leaf': [5,10,15]\n",
    "}\n",
    "\n",
    "clf = GridSearchCV(rfr, parameters)\n",
    "clf.fit(X_full_train, y_full_train)"
   ]
  },
  {
   "cell_type": "code",
   "execution_count": 362,
   "metadata": {},
   "outputs": [
    {
     "data": {
      "text/plain": [
       "{'min_samples_leaf': 5, 'min_samples_split': 100, 'n_estimators': 350}"
      ]
     },
     "execution_count": 362,
     "metadata": {},
     "output_type": "execute_result"
    }
   ],
   "source": [
    "clf.best_params_"
   ]
  },
  {
   "cell_type": "markdown",
   "metadata": {},
   "source": [
    "I wanted to test more values but due to the limitations on the speed of my current PC and time I limited the options in the GridSearchCV."
   ]
  },
  {
   "cell_type": "markdown",
   "metadata": {},
   "source": [
    "### XGB Regressor\n",
    "\n",
    "Note: I used n_jobs=16 because I have 16 threads. I noticed that using 100 as a value in min child weight returned a lot of warnings for NaNs. Since the data is cleaned I thought it had to do with the parameters and I specified the scoring to rmse (negative because of the convention used see [doc](https://scikit-learn.org/stable/modules/model_evaluation.html#scoring-parameter)) but I still got the warnings, so I searched a bit and saw a similar issue on [stackoverflow](https://stackoverflow.com/questions/69005052/how-do-i-fix-fitfailedwarning-estimator-fit-failed-the-score-on-this-train-t) which lead me to the conclusion that it must be due to the parameters chosen initially and the \"limits\" of the dataset I have in terms of its dimensions. I think that some of the trees led to no values under some terminal node and thus I had the warnings for NaNs. I initially used: 'min_child_weight': [0.1, 0.2, 0.5, 1, 2, 5, 10, 20, 50, 100]. Remember that this controls the number of observations per leaf node so I thought that I might limit this since it might lead to models that try to keep more observations per leaf (given also their size) than the availble ones leading to this kind of warnings. I am not 100% that this logic is correct but the warnings were gone after removing the 100 from the list.\n",
    "\n",
    "TLDR; I had warnings for NaNs popping up for the xgbregressor parameter search. I removed the 100 as a possible value for the min_child weight and the warnings were gone."
   ]
  },
  {
   "cell_type": "code",
   "execution_count": 358,
   "metadata": {},
   "outputs": [
    {
     "data": {
      "text/html": [
       "<style>#sk-container-id-6 {color: black;}#sk-container-id-6 pre{padding: 0;}#sk-container-id-6 div.sk-toggleable {background-color: white;}#sk-container-id-6 label.sk-toggleable__label {cursor: pointer;display: block;width: 100%;margin-bottom: 0;padding: 0.3em;box-sizing: border-box;text-align: center;}#sk-container-id-6 label.sk-toggleable__label-arrow:before {content: \"▸\";float: left;margin-right: 0.25em;color: #696969;}#sk-container-id-6 label.sk-toggleable__label-arrow:hover:before {color: black;}#sk-container-id-6 div.sk-estimator:hover label.sk-toggleable__label-arrow:before {color: black;}#sk-container-id-6 div.sk-toggleable__content {max-height: 0;max-width: 0;overflow: hidden;text-align: left;background-color: #f0f8ff;}#sk-container-id-6 div.sk-toggleable__content pre {margin: 0.2em;color: black;border-radius: 0.25em;background-color: #f0f8ff;}#sk-container-id-6 input.sk-toggleable__control:checked~div.sk-toggleable__content {max-height: 200px;max-width: 100%;overflow: auto;}#sk-container-id-6 input.sk-toggleable__control:checked~label.sk-toggleable__label-arrow:before {content: \"▾\";}#sk-container-id-6 div.sk-estimator input.sk-toggleable__control:checked~label.sk-toggleable__label {background-color: #d4ebff;}#sk-container-id-6 div.sk-label input.sk-toggleable__control:checked~label.sk-toggleable__label {background-color: #d4ebff;}#sk-container-id-6 input.sk-hidden--visually {border: 0;clip: rect(1px 1px 1px 1px);clip: rect(1px, 1px, 1px, 1px);height: 1px;margin: -1px;overflow: hidden;padding: 0;position: absolute;width: 1px;}#sk-container-id-6 div.sk-estimator {font-family: monospace;background-color: #f0f8ff;border: 1px dotted black;border-radius: 0.25em;box-sizing: border-box;margin-bottom: 0.5em;}#sk-container-id-6 div.sk-estimator:hover {background-color: #d4ebff;}#sk-container-id-6 div.sk-parallel-item::after {content: \"\";width: 100%;border-bottom: 1px solid gray;flex-grow: 1;}#sk-container-id-6 div.sk-label:hover label.sk-toggleable__label {background-color: #d4ebff;}#sk-container-id-6 div.sk-serial::before {content: \"\";position: absolute;border-left: 1px solid gray;box-sizing: border-box;top: 0;bottom: 0;left: 50%;z-index: 0;}#sk-container-id-6 div.sk-serial {display: flex;flex-direction: column;align-items: center;background-color: white;padding-right: 0.2em;padding-left: 0.2em;position: relative;}#sk-container-id-6 div.sk-item {position: relative;z-index: 1;}#sk-container-id-6 div.sk-parallel {display: flex;align-items: stretch;justify-content: center;background-color: white;position: relative;}#sk-container-id-6 div.sk-item::before, #sk-container-id-6 div.sk-parallel-item::before {content: \"\";position: absolute;border-left: 1px solid gray;box-sizing: border-box;top: 0;bottom: 0;left: 50%;z-index: -1;}#sk-container-id-6 div.sk-parallel-item {display: flex;flex-direction: column;z-index: 1;position: relative;background-color: white;}#sk-container-id-6 div.sk-parallel-item:first-child::after {align-self: flex-end;width: 50%;}#sk-container-id-6 div.sk-parallel-item:last-child::after {align-self: flex-start;width: 50%;}#sk-container-id-6 div.sk-parallel-item:only-child::after {width: 0;}#sk-container-id-6 div.sk-dashed-wrapped {border: 1px dashed gray;margin: 0 0.4em 0.5em 0.4em;box-sizing: border-box;padding-bottom: 0.4em;background-color: white;}#sk-container-id-6 div.sk-label label {font-family: monospace;font-weight: bold;display: inline-block;line-height: 1.2em;}#sk-container-id-6 div.sk-label-container {text-align: center;}#sk-container-id-6 div.sk-container {/* jupyter's `normalize.less` sets `[hidden] { display: none; }` but bootstrap.min.css set `[hidden] { display: none !important; }` so we also need the `!important` here to be able to override the default hidden behavior on the sphinx rendered scikit-learn.org. See: https://github.com/scikit-learn/scikit-learn/issues/21755 */display: inline-block !important;position: relative;}#sk-container-id-6 div.sk-text-repr-fallback {display: none;}</style><div id=\"sk-container-id-6\" class=\"sk-top-container\"><div class=\"sk-text-repr-fallback\"><pre>RandomizedSearchCV(estimator=XGBRegressor(base_score=None, booster=None,\n",
       "                                          callbacks=None,\n",
       "                                          colsample_bylevel=None,\n",
       "                                          colsample_bynode=None,\n",
       "                                          colsample_bytree=None, device=None,\n",
       "                                          early_stopping_rounds=None,\n",
       "                                          enable_categorical=False,\n",
       "                                          eval_metric=None, feature_types=None,\n",
       "                                          gamma=None, grow_policy=None,\n",
       "                                          importance_type=None,\n",
       "                                          interaction_constraints=None,\n",
       "                                          learning_rate=None,...\n",
       "                                          max_delta_step=None, max_depth=None,\n",
       "                                          max_leaves=None,\n",
       "                                          min_child_weight=None, missing=nan,\n",
       "                                          monotone_constraints=None,\n",
       "                                          multi_strategy=None,\n",
       "                                          n_estimators=None, n_jobs=16,\n",
       "                                          num_parallel_tree=None,\n",
       "                                          random_state=None, ...),\n",
       "                   param_distributions={&#x27;eta&#x27;: [0.001, 0.01, 0.1, 0.3, 0.5, 1,\n",
       "                                                2, 5],\n",
       "                                        &#x27;max_depth&#x27;: [None, 5, 10, 20, 30],\n",
       "                                        &#x27;min_child_weight&#x27;: [0.1, 0.2, 0.5, 1,\n",
       "                                                             2, 5, 10, 20,\n",
       "                                                             50]},\n",
       "                   scoring=&#x27;neg_mean_squared_error&#x27;)</pre><b>In a Jupyter environment, please rerun this cell to show the HTML representation or trust the notebook. <br />On GitHub, the HTML representation is unable to render, please try loading this page with nbviewer.org.</b></div><div class=\"sk-container\" hidden><div class=\"sk-item sk-dashed-wrapped\"><div class=\"sk-label-container\"><div class=\"sk-label sk-toggleable\"><input class=\"sk-toggleable__control sk-hidden--visually\" id=\"sk-estimator-id-16\" type=\"checkbox\" ><label for=\"sk-estimator-id-16\" class=\"sk-toggleable__label sk-toggleable__label-arrow\">RandomizedSearchCV</label><div class=\"sk-toggleable__content\"><pre>RandomizedSearchCV(estimator=XGBRegressor(base_score=None, booster=None,\n",
       "                                          callbacks=None,\n",
       "                                          colsample_bylevel=None,\n",
       "                                          colsample_bynode=None,\n",
       "                                          colsample_bytree=None, device=None,\n",
       "                                          early_stopping_rounds=None,\n",
       "                                          enable_categorical=False,\n",
       "                                          eval_metric=None, feature_types=None,\n",
       "                                          gamma=None, grow_policy=None,\n",
       "                                          importance_type=None,\n",
       "                                          interaction_constraints=None,\n",
       "                                          learning_rate=None,...\n",
       "                                          max_delta_step=None, max_depth=None,\n",
       "                                          max_leaves=None,\n",
       "                                          min_child_weight=None, missing=nan,\n",
       "                                          monotone_constraints=None,\n",
       "                                          multi_strategy=None,\n",
       "                                          n_estimators=None, n_jobs=16,\n",
       "                                          num_parallel_tree=None,\n",
       "                                          random_state=None, ...),\n",
       "                   param_distributions={&#x27;eta&#x27;: [0.001, 0.01, 0.1, 0.3, 0.5, 1,\n",
       "                                                2, 5],\n",
       "                                        &#x27;max_depth&#x27;: [None, 5, 10, 20, 30],\n",
       "                                        &#x27;min_child_weight&#x27;: [0.1, 0.2, 0.5, 1,\n",
       "                                                             2, 5, 10, 20,\n",
       "                                                             50]},\n",
       "                   scoring=&#x27;neg_mean_squared_error&#x27;)</pre></div></div></div><div class=\"sk-parallel\"><div class=\"sk-parallel-item\"><div class=\"sk-item\"><div class=\"sk-label-container\"><div class=\"sk-label sk-toggleable\"><input class=\"sk-toggleable__control sk-hidden--visually\" id=\"sk-estimator-id-17\" type=\"checkbox\" ><label for=\"sk-estimator-id-17\" class=\"sk-toggleable__label sk-toggleable__label-arrow\">estimator: XGBRegressor</label><div class=\"sk-toggleable__content\"><pre>XGBRegressor(base_score=None, booster=None, callbacks=None,\n",
       "             colsample_bylevel=None, colsample_bynode=None,\n",
       "             colsample_bytree=None, device=None, early_stopping_rounds=None,\n",
       "             enable_categorical=False, eval_metric=None, feature_types=None,\n",
       "             gamma=None, grow_policy=None, importance_type=None,\n",
       "             interaction_constraints=None, learning_rate=None, max_bin=None,\n",
       "             max_cat_threshold=None, max_cat_to_onehot=None,\n",
       "             max_delta_step=None, max_depth=None, max_leaves=None,\n",
       "             min_child_weight=None, missing=nan, monotone_constraints=None,\n",
       "             multi_strategy=None, n_estimators=None, n_jobs=16,\n",
       "             num_parallel_tree=None, random_state=None, ...)</pre></div></div></div><div class=\"sk-serial\"><div class=\"sk-item\"><div class=\"sk-estimator sk-toggleable\"><input class=\"sk-toggleable__control sk-hidden--visually\" id=\"sk-estimator-id-18\" type=\"checkbox\" ><label for=\"sk-estimator-id-18\" class=\"sk-toggleable__label sk-toggleable__label-arrow\">XGBRegressor</label><div class=\"sk-toggleable__content\"><pre>XGBRegressor(base_score=None, booster=None, callbacks=None,\n",
       "             colsample_bylevel=None, colsample_bynode=None,\n",
       "             colsample_bytree=None, device=None, early_stopping_rounds=None,\n",
       "             enable_categorical=False, eval_metric=None, feature_types=None,\n",
       "             gamma=None, grow_policy=None, importance_type=None,\n",
       "             interaction_constraints=None, learning_rate=None, max_bin=None,\n",
       "             max_cat_threshold=None, max_cat_to_onehot=None,\n",
       "             max_delta_step=None, max_depth=None, max_leaves=None,\n",
       "             min_child_weight=None, missing=nan, monotone_constraints=None,\n",
       "             multi_strategy=None, n_estimators=None, n_jobs=16,\n",
       "             num_parallel_tree=None, random_state=None, ...)</pre></div></div></div></div></div></div></div></div></div></div>"
      ],
      "text/plain": [
       "RandomizedSearchCV(estimator=XGBRegressor(base_score=None, booster=None,\n",
       "                                          callbacks=None,\n",
       "                                          colsample_bylevel=None,\n",
       "                                          colsample_bynode=None,\n",
       "                                          colsample_bytree=None, device=None,\n",
       "                                          early_stopping_rounds=None,\n",
       "                                          enable_categorical=False,\n",
       "                                          eval_metric=None, feature_types=None,\n",
       "                                          gamma=None, grow_policy=None,\n",
       "                                          importance_type=None,\n",
       "                                          interaction_constraints=None,\n",
       "                                          learning_rate=None,...\n",
       "                                          max_delta_step=None, max_depth=None,\n",
       "                                          max_leaves=None,\n",
       "                                          min_child_weight=None, missing=nan,\n",
       "                                          monotone_constraints=None,\n",
       "                                          multi_strategy=None,\n",
       "                                          n_estimators=None, n_jobs=16,\n",
       "                                          num_parallel_tree=None,\n",
       "                                          random_state=None, ...),\n",
       "                   param_distributions={'eta': [0.001, 0.01, 0.1, 0.3, 0.5, 1,\n",
       "                                                2, 5],\n",
       "                                        'max_depth': [None, 5, 10, 20, 30],\n",
       "                                        'min_child_weight': [0.1, 0.2, 0.5, 1,\n",
       "                                                             2, 5, 10, 20,\n",
       "                                                             50]},\n",
       "                   scoring='neg_mean_squared_error')"
      ]
     },
     "execution_count": 358,
     "metadata": {},
     "output_type": "execute_result"
    }
   ],
   "source": [
    "xgbr = XGBRegressor(n_jobs=16)\n",
    "\n",
    "parameters = {\n",
    "    'eta': [0.001, 0.01, 0.1, 0.3, 0.5, 1, 2, 5],\n",
    "    'max_depth':[None, 5, 10, 20, 30],\n",
    "    'min_child_weight': [0.1, 0.2, 0.5, 1, 2, 5, 10, 20, 50]\n",
    "    \n",
    "}\n",
    "\n",
    "clf = RandomizedSearchCV(xgbr, parameters, scoring='neg_mean_squared_error')\n",
    "clf.fit(X_full_train, y_full_train)"
   ]
  },
  {
   "cell_type": "code",
   "execution_count": 356,
   "metadata": {},
   "outputs": [
    {
     "data": {
      "text/plain": [
       "{'min_child_weight': 2, 'max_depth': 5, 'eta': 0.1}"
      ]
     },
     "execution_count": 356,
     "metadata": {},
     "output_type": "execute_result"
    }
   ],
   "source": [
    "clf.best_params_"
   ]
  },
  {
   "cell_type": "markdown",
   "metadata": {},
   "source": [
    "NOTE: It takes about 6 mins to finish the GridSearch in the following code."
   ]
  },
  {
   "cell_type": "code",
   "execution_count": 359,
   "metadata": {},
   "outputs": [
    {
     "data": {
      "text/html": [
       "<style>#sk-container-id-7 {color: black;}#sk-container-id-7 pre{padding: 0;}#sk-container-id-7 div.sk-toggleable {background-color: white;}#sk-container-id-7 label.sk-toggleable__label {cursor: pointer;display: block;width: 100%;margin-bottom: 0;padding: 0.3em;box-sizing: border-box;text-align: center;}#sk-container-id-7 label.sk-toggleable__label-arrow:before {content: \"▸\";float: left;margin-right: 0.25em;color: #696969;}#sk-container-id-7 label.sk-toggleable__label-arrow:hover:before {color: black;}#sk-container-id-7 div.sk-estimator:hover label.sk-toggleable__label-arrow:before {color: black;}#sk-container-id-7 div.sk-toggleable__content {max-height: 0;max-width: 0;overflow: hidden;text-align: left;background-color: #f0f8ff;}#sk-container-id-7 div.sk-toggleable__content pre {margin: 0.2em;color: black;border-radius: 0.25em;background-color: #f0f8ff;}#sk-container-id-7 input.sk-toggleable__control:checked~div.sk-toggleable__content {max-height: 200px;max-width: 100%;overflow: auto;}#sk-container-id-7 input.sk-toggleable__control:checked~label.sk-toggleable__label-arrow:before {content: \"▾\";}#sk-container-id-7 div.sk-estimator input.sk-toggleable__control:checked~label.sk-toggleable__label {background-color: #d4ebff;}#sk-container-id-7 div.sk-label input.sk-toggleable__control:checked~label.sk-toggleable__label {background-color: #d4ebff;}#sk-container-id-7 input.sk-hidden--visually {border: 0;clip: rect(1px 1px 1px 1px);clip: rect(1px, 1px, 1px, 1px);height: 1px;margin: -1px;overflow: hidden;padding: 0;position: absolute;width: 1px;}#sk-container-id-7 div.sk-estimator {font-family: monospace;background-color: #f0f8ff;border: 1px dotted black;border-radius: 0.25em;box-sizing: border-box;margin-bottom: 0.5em;}#sk-container-id-7 div.sk-estimator:hover {background-color: #d4ebff;}#sk-container-id-7 div.sk-parallel-item::after {content: \"\";width: 100%;border-bottom: 1px solid gray;flex-grow: 1;}#sk-container-id-7 div.sk-label:hover label.sk-toggleable__label {background-color: #d4ebff;}#sk-container-id-7 div.sk-serial::before {content: \"\";position: absolute;border-left: 1px solid gray;box-sizing: border-box;top: 0;bottom: 0;left: 50%;z-index: 0;}#sk-container-id-7 div.sk-serial {display: flex;flex-direction: column;align-items: center;background-color: white;padding-right: 0.2em;padding-left: 0.2em;position: relative;}#sk-container-id-7 div.sk-item {position: relative;z-index: 1;}#sk-container-id-7 div.sk-parallel {display: flex;align-items: stretch;justify-content: center;background-color: white;position: relative;}#sk-container-id-7 div.sk-item::before, #sk-container-id-7 div.sk-parallel-item::before {content: \"\";position: absolute;border-left: 1px solid gray;box-sizing: border-box;top: 0;bottom: 0;left: 50%;z-index: -1;}#sk-container-id-7 div.sk-parallel-item {display: flex;flex-direction: column;z-index: 1;position: relative;background-color: white;}#sk-container-id-7 div.sk-parallel-item:first-child::after {align-self: flex-end;width: 50%;}#sk-container-id-7 div.sk-parallel-item:last-child::after {align-self: flex-start;width: 50%;}#sk-container-id-7 div.sk-parallel-item:only-child::after {width: 0;}#sk-container-id-7 div.sk-dashed-wrapped {border: 1px dashed gray;margin: 0 0.4em 0.5em 0.4em;box-sizing: border-box;padding-bottom: 0.4em;background-color: white;}#sk-container-id-7 div.sk-label label {font-family: monospace;font-weight: bold;display: inline-block;line-height: 1.2em;}#sk-container-id-7 div.sk-label-container {text-align: center;}#sk-container-id-7 div.sk-container {/* jupyter's `normalize.less` sets `[hidden] { display: none; }` but bootstrap.min.css set `[hidden] { display: none !important; }` so we also need the `!important` here to be able to override the default hidden behavior on the sphinx rendered scikit-learn.org. See: https://github.com/scikit-learn/scikit-learn/issues/21755 */display: inline-block !important;position: relative;}#sk-container-id-7 div.sk-text-repr-fallback {display: none;}</style><div id=\"sk-container-id-7\" class=\"sk-top-container\"><div class=\"sk-text-repr-fallback\"><pre>GridSearchCV(estimator=XGBRegressor(base_score=None, booster=None,\n",
       "                                    callbacks=None, colsample_bylevel=None,\n",
       "                                    colsample_bynode=None,\n",
       "                                    colsample_bytree=None, device=None,\n",
       "                                    early_stopping_rounds=None,\n",
       "                                    enable_categorical=False, eval_metric=None,\n",
       "                                    feature_types=None, gamma=None,\n",
       "                                    grow_policy=None, importance_type=None,\n",
       "                                    interaction_constraints=None,\n",
       "                                    learning_rate=None, max_bi...\n",
       "                                    max_cat_to_onehot=None, max_delta_step=None,\n",
       "                                    max_depth=None, max_leaves=None,\n",
       "                                    min_child_weight=None, missing=nan,\n",
       "                                    monotone_constraints=None,\n",
       "                                    multi_strategy=None, n_estimators=None,\n",
       "                                    n_jobs=16, num_parallel_tree=None,\n",
       "                                    random_state=None, ...),\n",
       "             param_grid={&#x27;eta&#x27;: [0.05, 0.1, 0.15], &#x27;max_depth&#x27;: [None, 2, 5, 7],\n",
       "                         &#x27;min_child_weight&#x27;: [1.5, 2, 2.5]},\n",
       "             scoring=&#x27;neg_mean_squared_error&#x27;)</pre><b>In a Jupyter environment, please rerun this cell to show the HTML representation or trust the notebook. <br />On GitHub, the HTML representation is unable to render, please try loading this page with nbviewer.org.</b></div><div class=\"sk-container\" hidden><div class=\"sk-item sk-dashed-wrapped\"><div class=\"sk-label-container\"><div class=\"sk-label sk-toggleable\"><input class=\"sk-toggleable__control sk-hidden--visually\" id=\"sk-estimator-id-19\" type=\"checkbox\" ><label for=\"sk-estimator-id-19\" class=\"sk-toggleable__label sk-toggleable__label-arrow\">GridSearchCV</label><div class=\"sk-toggleable__content\"><pre>GridSearchCV(estimator=XGBRegressor(base_score=None, booster=None,\n",
       "                                    callbacks=None, colsample_bylevel=None,\n",
       "                                    colsample_bynode=None,\n",
       "                                    colsample_bytree=None, device=None,\n",
       "                                    early_stopping_rounds=None,\n",
       "                                    enable_categorical=False, eval_metric=None,\n",
       "                                    feature_types=None, gamma=None,\n",
       "                                    grow_policy=None, importance_type=None,\n",
       "                                    interaction_constraints=None,\n",
       "                                    learning_rate=None, max_bi...\n",
       "                                    max_cat_to_onehot=None, max_delta_step=None,\n",
       "                                    max_depth=None, max_leaves=None,\n",
       "                                    min_child_weight=None, missing=nan,\n",
       "                                    monotone_constraints=None,\n",
       "                                    multi_strategy=None, n_estimators=None,\n",
       "                                    n_jobs=16, num_parallel_tree=None,\n",
       "                                    random_state=None, ...),\n",
       "             param_grid={&#x27;eta&#x27;: [0.05, 0.1, 0.15], &#x27;max_depth&#x27;: [None, 2, 5, 7],\n",
       "                         &#x27;min_child_weight&#x27;: [1.5, 2, 2.5]},\n",
       "             scoring=&#x27;neg_mean_squared_error&#x27;)</pre></div></div></div><div class=\"sk-parallel\"><div class=\"sk-parallel-item\"><div class=\"sk-item\"><div class=\"sk-label-container\"><div class=\"sk-label sk-toggleable\"><input class=\"sk-toggleable__control sk-hidden--visually\" id=\"sk-estimator-id-20\" type=\"checkbox\" ><label for=\"sk-estimator-id-20\" class=\"sk-toggleable__label sk-toggleable__label-arrow\">estimator: XGBRegressor</label><div class=\"sk-toggleable__content\"><pre>XGBRegressor(base_score=None, booster=None, callbacks=None,\n",
       "             colsample_bylevel=None, colsample_bynode=None,\n",
       "             colsample_bytree=None, device=None, early_stopping_rounds=None,\n",
       "             enable_categorical=False, eval_metric=None, feature_types=None,\n",
       "             gamma=None, grow_policy=None, importance_type=None,\n",
       "             interaction_constraints=None, learning_rate=None, max_bin=None,\n",
       "             max_cat_threshold=None, max_cat_to_onehot=None,\n",
       "             max_delta_step=None, max_depth=None, max_leaves=None,\n",
       "             min_child_weight=None, missing=nan, monotone_constraints=None,\n",
       "             multi_strategy=None, n_estimators=None, n_jobs=16,\n",
       "             num_parallel_tree=None, random_state=None, ...)</pre></div></div></div><div class=\"sk-serial\"><div class=\"sk-item\"><div class=\"sk-estimator sk-toggleable\"><input class=\"sk-toggleable__control sk-hidden--visually\" id=\"sk-estimator-id-21\" type=\"checkbox\" ><label for=\"sk-estimator-id-21\" class=\"sk-toggleable__label sk-toggleable__label-arrow\">XGBRegressor</label><div class=\"sk-toggleable__content\"><pre>XGBRegressor(base_score=None, booster=None, callbacks=None,\n",
       "             colsample_bylevel=None, colsample_bynode=None,\n",
       "             colsample_bytree=None, device=None, early_stopping_rounds=None,\n",
       "             enable_categorical=False, eval_metric=None, feature_types=None,\n",
       "             gamma=None, grow_policy=None, importance_type=None,\n",
       "             interaction_constraints=None, learning_rate=None, max_bin=None,\n",
       "             max_cat_threshold=None, max_cat_to_onehot=None,\n",
       "             max_delta_step=None, max_depth=None, max_leaves=None,\n",
       "             min_child_weight=None, missing=nan, monotone_constraints=None,\n",
       "             multi_strategy=None, n_estimators=None, n_jobs=16,\n",
       "             num_parallel_tree=None, random_state=None, ...)</pre></div></div></div></div></div></div></div></div></div></div>"
      ],
      "text/plain": [
       "GridSearchCV(estimator=XGBRegressor(base_score=None, booster=None,\n",
       "                                    callbacks=None, colsample_bylevel=None,\n",
       "                                    colsample_bynode=None,\n",
       "                                    colsample_bytree=None, device=None,\n",
       "                                    early_stopping_rounds=None,\n",
       "                                    enable_categorical=False, eval_metric=None,\n",
       "                                    feature_types=None, gamma=None,\n",
       "                                    grow_policy=None, importance_type=None,\n",
       "                                    interaction_constraints=None,\n",
       "                                    learning_rate=None, max_bi...\n",
       "                                    max_cat_to_onehot=None, max_delta_step=None,\n",
       "                                    max_depth=None, max_leaves=None,\n",
       "                                    min_child_weight=None, missing=nan,\n",
       "                                    monotone_constraints=None,\n",
       "                                    multi_strategy=None, n_estimators=None,\n",
       "                                    n_jobs=16, num_parallel_tree=None,\n",
       "                                    random_state=None, ...),\n",
       "             param_grid={'eta': [0.05, 0.1, 0.15], 'max_depth': [None, 2, 5, 7],\n",
       "                         'min_child_weight': [1.5, 2, 2.5]},\n",
       "             scoring='neg_mean_squared_error')"
      ]
     },
     "execution_count": 359,
     "metadata": {},
     "output_type": "execute_result"
    }
   ],
   "source": [
    "xgbr = XGBRegressor(n_jobs=16)\n",
    "\n",
    "parameters = {\n",
    "    'eta': [0.05, 0.1, 0.15],\n",
    "    'max_depth':[None, 2, 5, 7],\n",
    "    'min_child_weight': [1.5, 2, 2.5]\n",
    "    \n",
    "}\n",
    "\n",
    "clf = GridSearchCV(xgbr, parameters, scoring='neg_mean_squared_error')\n",
    "clf.fit(X_full_train, y_full_train)"
   ]
  },
  {
   "cell_type": "code",
   "execution_count": 360,
   "metadata": {},
   "outputs": [
    {
     "data": {
      "text/plain": [
       "{'eta': 0.05, 'max_depth': None, 'min_child_weight': 1.5}"
      ]
     },
     "execution_count": 360,
     "metadata": {},
     "output_type": "execute_result"
    }
   ],
   "source": [
    "clf.best_params_"
   ]
  },
  {
   "cell_type": "markdown",
   "metadata": {},
   "source": [
    "## 5. Final Model Training and comparison\n",
    "\n",
    "Now we will train the models using the best parameters that we tracked down with the cross validation and select the one the one that performs best on the test dataset."
   ]
  },
  {
   "cell_type": "code",
   "execution_count": 367,
   "metadata": {},
   "outputs": [],
   "source": [
    "lr = LinearRegression()\n",
    "ridge = Ridge(alpha=10, copy_X=True, fit_intercept=True, max_iter=None, positive=False, tol=0.0001)\n",
    "dtr = DecisionTreeRegressor(criterion='squared_error', max_depth=None, min_samples_leaf=30, splitter='best')\n",
    "rfr = RandomForestRegressor(bootstrap = False, max_depth = None, \n",
    "                            min_samples_leaf= 5, min_samples_split = 100, n_estimators = 350)\n",
    "xgbr = XGBRegressor(min_child_weight= 1.5, max_depth= None, eta= 0.05, n_jobs=16)"
   ]
  },
  {
   "cell_type": "code",
   "execution_count": 372,
   "metadata": {},
   "outputs": [
    {
     "name": "stdout",
     "output_type": "stream",
     "text": [
      "For model LinearRegression(): RMSE is : 0.47789\n",
      "For model Ridge(alpha=10): RMSE is : 0.47798\n",
      "For model DecisionTreeRegressor(min_samples_leaf=30): RMSE is : 0.40747\n",
      "For model RandomForestRegressor(bootstrap=False, min_samples_leaf=5,\n",
      "                      min_samples_split=100, n_estimators=350): RMSE is : 0.40740\n",
      "For model XGBRegressor(base_score=None, booster=None, callbacks=None,\n",
      "             colsample_bylevel=None, colsample_bynode=None,\n",
      "             colsample_bytree=None, device=None, early_stopping_rounds=None,\n",
      "             enable_categorical=False, eta=0.05, eval_metric=None,\n",
      "             feature_types=None, gamma=None, grow_policy=None,\n",
      "             importance_type=None, interaction_constraints=None,\n",
      "             learning_rate=None, max_bin=None, max_cat_threshold=None,\n",
      "             max_cat_to_onehot=None, max_delta_step=None, max_depth=None,\n",
      "             max_leaves=None, min_child_weight=1.5, missing=nan,\n",
      "             monotone_constraints=None, multi_strategy=None, n_estimators=None,\n",
      "             n_jobs=16, num_parallel_tree=None, ...): RMSE is : 0.36237\n"
     ]
    }
   ],
   "source": [
    "models_reg = [lr, ridge, dtr, rfr, xgbr]\n",
    "rmse_scores = []\n",
    "for model in models_reg:\n",
    "    model.fit(X_full_train, y_full_train)\n",
    "    y_pred = model.predict(X_test)\n",
    "    score = rmse(y_pred, y_test)\n",
    "    rmse_scores.append(score)\n",
    "    print(\"For model %s: RMSE is : %.5f\" % (model, score))"
   ]
  },
  {
   "cell_type": "code",
   "execution_count": 373,
   "metadata": {},
   "outputs": [
    {
     "data": {
      "text/plain": [
       "([0, 1, 2, 3, 4],\n",
       " [Text(0, 0, 'Linear_Regression'),\n",
       "  Text(1, 0, 'Ridge_Regression'),\n",
       "  Text(2, 0, 'Decision_Tree_Regressor'),\n",
       "  Text(3, 0, 'Random_Forest_Regressor'),\n",
       "  Text(4, 0, 'XGB_regressor')])"
      ]
     },
     "execution_count": 373,
     "metadata": {},
     "output_type": "execute_result"
    },
    {
     "data": {
      "image/png": "[encoded data removed]",
      "text/plain": [
       "<Figure size 640x480 with 1 Axes>"
      ]
     },
     "metadata": {},
     "output_type": "display_data"
    }
   ],
   "source": [
    "sns.barplot(x=models, y=rmse_scores)\n",
    "plt.title(\"RMSE scores for regression models\")\n",
    "plt.xticks(rotation=45)"
   ]
  },
  {
   "cell_type": "markdown",
   "metadata": {},
   "source": [
    "Based on the RMSE the XBG regressor achieves the best rmse score. Interestingly enough, the decsion tree achives similar score to the random forest, wich could be also due to the fact that they share the same concept at their base."
   ]
  },
  {
   "cell_type": "code",
   "execution_count": 374,
   "metadata": {},
   "outputs": [],
   "source": [
    "y_pred = xgbr.predict(X_test)"
   ]
  },
  {
   "cell_type": "markdown",
   "metadata": {},
   "source": [
    "Heres what the actual vs predicted prices look like on a hist plot"
   ]
  },
  {
   "cell_type": "code",
   "execution_count": 382,
   "metadata": {},
   "outputs": [
    {
     "data": {
      "text/plain": [
       "<matplotlib.legend.Legend at 0x7f2643ea4880>"
      ]
     },
     "execution_count": 382,
     "metadata": {},
     "output_type": "execute_result"
    },
    {
     "data": {
      "image/png": "[encoded data removed]",
      "text/plain": [
       "<Figure size 640x480 with 1 Axes>"
      ]
     },
     "metadata": {},
     "output_type": "display_data"
    }
   ],
   "source": [
    "sns.histplot(y_pred, color='red', alpha=0.5, bins=50, label='prediction')\n",
    "sns.histplot(y_test, color='blue', alpha=0.5, bins=50, label='target')\n",
    "plt.legend()"
   ]
  },
  {
   "cell_type": "markdown",
   "metadata": {},
   "source": [
    "NB: Remember that the predictions are made based on the log values for the rents and if we need to convert to see the actual price."
   ]
  },
  {
   "cell_type": "markdown",
   "metadata": {},
   "source": [
    "## 6. Remarks\n",
    "\n",
    "- Categorical features were treated using the label encoder. This made things less complex in terms of preparing the dataset. It could be of interest to make a follow-up where different techniques are combined like label encoder for the features with high cardinality and one-hot-encoding for the rest and see how the scores might change."
   ]
  }
 ],
 "metadata": {
  "kernelspec": {
   "display_name": "Python 3 (ipykernel)",
   "language": "python",
   "name": "python3"
  },
  "language_info": {
   "codemirror_mode": {
    "name": "ipython",
    "version": 3
   },
   "file_extension": ".py",
   "mimetype": "text/x-python",
   "name": "python",
   "nbconvert_exporter": "python",
   "pygments_lexer": "ipython3",
   "version": "3.10.6"
  }
 },
 "nbformat": 4,
 "nbformat_minor": 4
}
